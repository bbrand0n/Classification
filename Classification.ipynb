{
  "nbformat": 4,
  "nbformat_minor": 0,
  "metadata": {
    "colab": {
      "name": "A3_Classification.ipynb",
      "provenance": [],
      "collapsed_sections": [
        "1FcipK3IrbeJ",
        "Nzg6GJyvyTk9",
        "25-Ccs7S13Iw",
        "boZMb_8gJaUc",
        "PAKky4oqlrxN"
      ]
    },
    "kernelspec": {
      "name": "python3",
      "display_name": "Python 3"
    },
    "language_info": {
      "name": "python"
    }
  },
  "cells": [
    {
      "cell_type": "markdown",
      "source": [
        "# This jupyter notebook is prepared by Brandon Gibbons"
      ],
      "metadata": {
        "id": "sVGpOkAziLKd"
      }
    },
    {
      "cell_type": "markdown",
      "source": [
        "#1. Load Data and perform basic EDA"
      ],
      "metadata": {
        "id": "FTv0MTsbiUWF"
      }
    },
    {
      "cell_type": "markdown",
      "source": [
        "##I. Import libraries: pandas, numpy, matplotlib (set %matplotlib inline), matplotlib’s pyplot, seaborn, missingno, scipy’s stats, sklearn (1 pt)"
      ],
      "metadata": {
        "id": "y71ZGrupibcf"
      }
    },
    {
      "cell_type": "code",
      "source": [
        "import pandas as pd\n",
        "import numpy as np\n",
        "import matplotlib as mpl\n",
        "import matplotlib.pyplot as plt\n",
        "%matplotlib inline\n",
        "import seaborn as sns\n",
        "import missingno as msno\n",
        "import scipy.stats as st\n",
        "from sklearn import ensemble\n",
        "from sklearn.model_selection import train_test_split"
      ],
      "metadata": {
        "id": "8B2-sDZ2ij1l"
      },
      "execution_count": 376,
      "outputs": []
    },
    {
      "cell_type": "markdown",
      "source": [
        "##II.  Import the data to a dataframe and show the count of rows and columns (1 pt)\n"
      ],
      "metadata": {
        "id": "ykr8kZFci-ZE"
      }
    },
    {
      "cell_type": "code",
      "source": [
        "data = pd.read_csv(\"/content/drive/MyDrive/Colab Notebooks/hrdata2.csv\")\n",
        "data.shape"
      ],
      "metadata": {
        "colab": {
          "base_uri": "https://localhost:8080/",
          "height": 0
        },
        "id": "jv4EhkZljGDm",
        "outputId": "e548aae6-fcd4-4962-d16d-8d5e8bf11031"
      },
      "execution_count": 377,
      "outputs": [
        {
          "output_type": "execute_result",
          "data": {
            "text/plain": [
              "(8955, 15)"
            ]
          },
          "metadata": {},
          "execution_count": 377
        }
      ]
    },
    {
      "cell_type": "markdown",
      "source": [
        "##III. Show the top 5 and last 5 rows (1 pt)\n"
      ],
      "metadata": {
        "id": "B3v1YKyljnmO"
      }
    },
    {
      "cell_type": "code",
      "source": [
        "data.head()"
      ],
      "metadata": {
        "colab": {
          "base_uri": "https://localhost:8080/",
          "height": 287
        },
        "id": "05X8tcnEjwK2",
        "outputId": "76737682-ec12-4329-a8ba-9de3b8916376"
      },
      "execution_count": 378,
      "outputs": [
        {
          "output_type": "execute_result",
          "data": {
            "text/plain": [
              "   Unnamed: 0  enrollee_id      city  city_development_index gender  \\\n",
              "0           1        29725   city_40                   0.776   Male   \n",
              "1           4          666  city_162                   0.767   Male   \n",
              "2           7          402   city_46                   0.762   Male   \n",
              "3           8        27107  city_103                   0.920   Male   \n",
              "4          11        23853  city_103                   0.920   Male   \n",
              "\n",
              "       relevent_experience enrolled_university education_level  \\\n",
              "0   No relevent experience       no_enrollment        Graduate   \n",
              "1  Has relevent experience       no_enrollment         Masters   \n",
              "2  Has relevent experience       no_enrollment        Graduate   \n",
              "3  Has relevent experience       no_enrollment        Graduate   \n",
              "4  Has relevent experience       no_enrollment        Graduate   \n",
              "\n",
              "  major_discipline  experience company_size    company_type last_new_job  \\\n",
              "0             STEM        15.0        50-99         Pvt Ltd           >4   \n",
              "1             STEM        21.0        50-99  Funded Startup            4   \n",
              "2             STEM        13.0          <10         Pvt Ltd           >4   \n",
              "3             STEM         7.0        50-99         Pvt Ltd            1   \n",
              "4             STEM         5.0    5000-9999         Pvt Ltd            1   \n",
              "\n",
              "   training_hours  target  \n",
              "0              47     0.0  \n",
              "1               8     0.0  \n",
              "2              18     1.0  \n",
              "3              46     1.0  \n",
              "4             108     0.0  "
            ],
            "text/html": [
              "\n",
              "  <div id=\"df-fba1dce5-5da6-4741-94ff-3aeeef187050\">\n",
              "    <div class=\"colab-df-container\">\n",
              "      <div>\n",
              "<style scoped>\n",
              "    .dataframe tbody tr th:only-of-type {\n",
              "        vertical-align: middle;\n",
              "    }\n",
              "\n",
              "    .dataframe tbody tr th {\n",
              "        vertical-align: top;\n",
              "    }\n",
              "\n",
              "    .dataframe thead th {\n",
              "        text-align: right;\n",
              "    }\n",
              "</style>\n",
              "<table border=\"1\" class=\"dataframe\">\n",
              "  <thead>\n",
              "    <tr style=\"text-align: right;\">\n",
              "      <th></th>\n",
              "      <th>Unnamed: 0</th>\n",
              "      <th>enrollee_id</th>\n",
              "      <th>city</th>\n",
              "      <th>city_development_index</th>\n",
              "      <th>gender</th>\n",
              "      <th>relevent_experience</th>\n",
              "      <th>enrolled_university</th>\n",
              "      <th>education_level</th>\n",
              "      <th>major_discipline</th>\n",
              "      <th>experience</th>\n",
              "      <th>company_size</th>\n",
              "      <th>company_type</th>\n",
              "      <th>last_new_job</th>\n",
              "      <th>training_hours</th>\n",
              "      <th>target</th>\n",
              "    </tr>\n",
              "  </thead>\n",
              "  <tbody>\n",
              "    <tr>\n",
              "      <th>0</th>\n",
              "      <td>1</td>\n",
              "      <td>29725</td>\n",
              "      <td>city_40</td>\n",
              "      <td>0.776</td>\n",
              "      <td>Male</td>\n",
              "      <td>No relevent experience</td>\n",
              "      <td>no_enrollment</td>\n",
              "      <td>Graduate</td>\n",
              "      <td>STEM</td>\n",
              "      <td>15.0</td>\n",
              "      <td>50-99</td>\n",
              "      <td>Pvt Ltd</td>\n",
              "      <td>&gt;4</td>\n",
              "      <td>47</td>\n",
              "      <td>0.0</td>\n",
              "    </tr>\n",
              "    <tr>\n",
              "      <th>1</th>\n",
              "      <td>4</td>\n",
              "      <td>666</td>\n",
              "      <td>city_162</td>\n",
              "      <td>0.767</td>\n",
              "      <td>Male</td>\n",
              "      <td>Has relevent experience</td>\n",
              "      <td>no_enrollment</td>\n",
              "      <td>Masters</td>\n",
              "      <td>STEM</td>\n",
              "      <td>21.0</td>\n",
              "      <td>50-99</td>\n",
              "      <td>Funded Startup</td>\n",
              "      <td>4</td>\n",
              "      <td>8</td>\n",
              "      <td>0.0</td>\n",
              "    </tr>\n",
              "    <tr>\n",
              "      <th>2</th>\n",
              "      <td>7</td>\n",
              "      <td>402</td>\n",
              "      <td>city_46</td>\n",
              "      <td>0.762</td>\n",
              "      <td>Male</td>\n",
              "      <td>Has relevent experience</td>\n",
              "      <td>no_enrollment</td>\n",
              "      <td>Graduate</td>\n",
              "      <td>STEM</td>\n",
              "      <td>13.0</td>\n",
              "      <td>&lt;10</td>\n",
              "      <td>Pvt Ltd</td>\n",
              "      <td>&gt;4</td>\n",
              "      <td>18</td>\n",
              "      <td>1.0</td>\n",
              "    </tr>\n",
              "    <tr>\n",
              "      <th>3</th>\n",
              "      <td>8</td>\n",
              "      <td>27107</td>\n",
              "      <td>city_103</td>\n",
              "      <td>0.920</td>\n",
              "      <td>Male</td>\n",
              "      <td>Has relevent experience</td>\n",
              "      <td>no_enrollment</td>\n",
              "      <td>Graduate</td>\n",
              "      <td>STEM</td>\n",
              "      <td>7.0</td>\n",
              "      <td>50-99</td>\n",
              "      <td>Pvt Ltd</td>\n",
              "      <td>1</td>\n",
              "      <td>46</td>\n",
              "      <td>1.0</td>\n",
              "    </tr>\n",
              "    <tr>\n",
              "      <th>4</th>\n",
              "      <td>11</td>\n",
              "      <td>23853</td>\n",
              "      <td>city_103</td>\n",
              "      <td>0.920</td>\n",
              "      <td>Male</td>\n",
              "      <td>Has relevent experience</td>\n",
              "      <td>no_enrollment</td>\n",
              "      <td>Graduate</td>\n",
              "      <td>STEM</td>\n",
              "      <td>5.0</td>\n",
              "      <td>5000-9999</td>\n",
              "      <td>Pvt Ltd</td>\n",
              "      <td>1</td>\n",
              "      <td>108</td>\n",
              "      <td>0.0</td>\n",
              "    </tr>\n",
              "  </tbody>\n",
              "</table>\n",
              "</div>\n",
              "      <button class=\"colab-df-convert\" onclick=\"convertToInteractive('df-fba1dce5-5da6-4741-94ff-3aeeef187050')\"\n",
              "              title=\"Convert this dataframe to an interactive table.\"\n",
              "              style=\"display:none;\">\n",
              "        \n",
              "  <svg xmlns=\"http://www.w3.org/2000/svg\" height=\"24px\"viewBox=\"0 0 24 24\"\n",
              "       width=\"24px\">\n",
              "    <path d=\"M0 0h24v24H0V0z\" fill=\"none\"/>\n",
              "    <path d=\"M18.56 5.44l.94 2.06.94-2.06 2.06-.94-2.06-.94-.94-2.06-.94 2.06-2.06.94zm-11 1L8.5 8.5l.94-2.06 2.06-.94-2.06-.94L8.5 2.5l-.94 2.06-2.06.94zm10 10l.94 2.06.94-2.06 2.06-.94-2.06-.94-.94-2.06-.94 2.06-2.06.94z\"/><path d=\"M17.41 7.96l-1.37-1.37c-.4-.4-.92-.59-1.43-.59-.52 0-1.04.2-1.43.59L10.3 9.45l-7.72 7.72c-.78.78-.78 2.05 0 2.83L4 21.41c.39.39.9.59 1.41.59.51 0 1.02-.2 1.41-.59l7.78-7.78 2.81-2.81c.8-.78.8-2.07 0-2.86zM5.41 20L4 18.59l7.72-7.72 1.47 1.35L5.41 20z\"/>\n",
              "  </svg>\n",
              "      </button>\n",
              "      \n",
              "  <style>\n",
              "    .colab-df-container {\n",
              "      display:flex;\n",
              "      flex-wrap:wrap;\n",
              "      gap: 12px;\n",
              "    }\n",
              "\n",
              "    .colab-df-convert {\n",
              "      background-color: #E8F0FE;\n",
              "      border: none;\n",
              "      border-radius: 50%;\n",
              "      cursor: pointer;\n",
              "      display: none;\n",
              "      fill: #1967D2;\n",
              "      height: 32px;\n",
              "      padding: 0 0 0 0;\n",
              "      width: 32px;\n",
              "    }\n",
              "\n",
              "    .colab-df-convert:hover {\n",
              "      background-color: #E2EBFA;\n",
              "      box-shadow: 0px 1px 2px rgba(60, 64, 67, 0.3), 0px 1px 3px 1px rgba(60, 64, 67, 0.15);\n",
              "      fill: #174EA6;\n",
              "    }\n",
              "\n",
              "    [theme=dark] .colab-df-convert {\n",
              "      background-color: #3B4455;\n",
              "      fill: #D2E3FC;\n",
              "    }\n",
              "\n",
              "    [theme=dark] .colab-df-convert:hover {\n",
              "      background-color: #434B5C;\n",
              "      box-shadow: 0px 1px 3px 1px rgba(0, 0, 0, 0.15);\n",
              "      filter: drop-shadow(0px 1px 2px rgba(0, 0, 0, 0.3));\n",
              "      fill: #FFFFFF;\n",
              "    }\n",
              "  </style>\n",
              "\n",
              "      <script>\n",
              "        const buttonEl =\n",
              "          document.querySelector('#df-fba1dce5-5da6-4741-94ff-3aeeef187050 button.colab-df-convert');\n",
              "        buttonEl.style.display =\n",
              "          google.colab.kernel.accessAllowed ? 'block' : 'none';\n",
              "\n",
              "        async function convertToInteractive(key) {\n",
              "          const element = document.querySelector('#df-fba1dce5-5da6-4741-94ff-3aeeef187050');\n",
              "          const dataTable =\n",
              "            await google.colab.kernel.invokeFunction('convertToInteractive',\n",
              "                                                     [key], {});\n",
              "          if (!dataTable) return;\n",
              "\n",
              "          const docLinkHtml = 'Like what you see? Visit the ' +\n",
              "            '<a target=\"_blank\" href=https://colab.research.google.com/notebooks/data_table.ipynb>data table notebook</a>'\n",
              "            + ' to learn more about interactive tables.';\n",
              "          element.innerHTML = '';\n",
              "          dataTable['output_type'] = 'display_data';\n",
              "          await google.colab.output.renderOutput(dataTable, element);\n",
              "          const docLink = document.createElement('div');\n",
              "          docLink.innerHTML = docLinkHtml;\n",
              "          element.appendChild(docLink);\n",
              "        }\n",
              "      </script>\n",
              "    </div>\n",
              "  </div>\n",
              "  "
            ]
          },
          "metadata": {},
          "execution_count": 378
        }
      ]
    },
    {
      "cell_type": "code",
      "source": [
        "data.tail()"
      ],
      "metadata": {
        "colab": {
          "base_uri": "https://localhost:8080/",
          "height": 287
        },
        "id": "8ut1bNrGj9GX",
        "outputId": "b99804a1-e632-4e64-a631-125865410677"
      },
      "execution_count": 379,
      "outputs": [
        {
          "output_type": "execute_result",
          "data": {
            "text/plain": [
              "      Unnamed: 0  enrollee_id      city  city_development_index  gender  \\\n",
              "8950       19147        21319   city_21                   0.624    Male   \n",
              "8951       19149          251  city_103                   0.920    Male   \n",
              "8952       19150        32313  city_160                   0.920  Female   \n",
              "8953       19152        29754  city_103                   0.920  Female   \n",
              "8954       19155        24576  city_103                   0.920    Male   \n",
              "\n",
              "          relevent_experience enrolled_university education_level  \\\n",
              "8950   No relevent experience    Full time course        Graduate   \n",
              "8951  Has relevent experience       no_enrollment         Masters   \n",
              "8952  Has relevent experience       no_enrollment        Graduate   \n",
              "8953  Has relevent experience       no_enrollment        Graduate   \n",
              "8954  Has relevent experience       no_enrollment        Graduate   \n",
              "\n",
              "     major_discipline  experience company_size    company_type last_new_job  \\\n",
              "8950             STEM         1.0      100-500         Pvt Ltd            1   \n",
              "8951             STEM         9.0        50-99         Pvt Ltd            1   \n",
              "8952             STEM        10.0      100-500   Public Sector            3   \n",
              "8953       Humanities         7.0        10/49  Funded Startup            1   \n",
              "8954             STEM        21.0        50-99         Pvt Ltd            4   \n",
              "\n",
              "      training_hours  target  \n",
              "8950              52     1.0  \n",
              "8951              36     1.0  \n",
              "8952              23     0.0  \n",
              "8953              25     0.0  \n",
              "8954              44     0.0  "
            ],
            "text/html": [
              "\n",
              "  <div id=\"df-c07e0056-4ed5-4657-ae0d-a77fb20ca8a9\">\n",
              "    <div class=\"colab-df-container\">\n",
              "      <div>\n",
              "<style scoped>\n",
              "    .dataframe tbody tr th:only-of-type {\n",
              "        vertical-align: middle;\n",
              "    }\n",
              "\n",
              "    .dataframe tbody tr th {\n",
              "        vertical-align: top;\n",
              "    }\n",
              "\n",
              "    .dataframe thead th {\n",
              "        text-align: right;\n",
              "    }\n",
              "</style>\n",
              "<table border=\"1\" class=\"dataframe\">\n",
              "  <thead>\n",
              "    <tr style=\"text-align: right;\">\n",
              "      <th></th>\n",
              "      <th>Unnamed: 0</th>\n",
              "      <th>enrollee_id</th>\n",
              "      <th>city</th>\n",
              "      <th>city_development_index</th>\n",
              "      <th>gender</th>\n",
              "      <th>relevent_experience</th>\n",
              "      <th>enrolled_university</th>\n",
              "      <th>education_level</th>\n",
              "      <th>major_discipline</th>\n",
              "      <th>experience</th>\n",
              "      <th>company_size</th>\n",
              "      <th>company_type</th>\n",
              "      <th>last_new_job</th>\n",
              "      <th>training_hours</th>\n",
              "      <th>target</th>\n",
              "    </tr>\n",
              "  </thead>\n",
              "  <tbody>\n",
              "    <tr>\n",
              "      <th>8950</th>\n",
              "      <td>19147</td>\n",
              "      <td>21319</td>\n",
              "      <td>city_21</td>\n",
              "      <td>0.624</td>\n",
              "      <td>Male</td>\n",
              "      <td>No relevent experience</td>\n",
              "      <td>Full time course</td>\n",
              "      <td>Graduate</td>\n",
              "      <td>STEM</td>\n",
              "      <td>1.0</td>\n",
              "      <td>100-500</td>\n",
              "      <td>Pvt Ltd</td>\n",
              "      <td>1</td>\n",
              "      <td>52</td>\n",
              "      <td>1.0</td>\n",
              "    </tr>\n",
              "    <tr>\n",
              "      <th>8951</th>\n",
              "      <td>19149</td>\n",
              "      <td>251</td>\n",
              "      <td>city_103</td>\n",
              "      <td>0.920</td>\n",
              "      <td>Male</td>\n",
              "      <td>Has relevent experience</td>\n",
              "      <td>no_enrollment</td>\n",
              "      <td>Masters</td>\n",
              "      <td>STEM</td>\n",
              "      <td>9.0</td>\n",
              "      <td>50-99</td>\n",
              "      <td>Pvt Ltd</td>\n",
              "      <td>1</td>\n",
              "      <td>36</td>\n",
              "      <td>1.0</td>\n",
              "    </tr>\n",
              "    <tr>\n",
              "      <th>8952</th>\n",
              "      <td>19150</td>\n",
              "      <td>32313</td>\n",
              "      <td>city_160</td>\n",
              "      <td>0.920</td>\n",
              "      <td>Female</td>\n",
              "      <td>Has relevent experience</td>\n",
              "      <td>no_enrollment</td>\n",
              "      <td>Graduate</td>\n",
              "      <td>STEM</td>\n",
              "      <td>10.0</td>\n",
              "      <td>100-500</td>\n",
              "      <td>Public Sector</td>\n",
              "      <td>3</td>\n",
              "      <td>23</td>\n",
              "      <td>0.0</td>\n",
              "    </tr>\n",
              "    <tr>\n",
              "      <th>8953</th>\n",
              "      <td>19152</td>\n",
              "      <td>29754</td>\n",
              "      <td>city_103</td>\n",
              "      <td>0.920</td>\n",
              "      <td>Female</td>\n",
              "      <td>Has relevent experience</td>\n",
              "      <td>no_enrollment</td>\n",
              "      <td>Graduate</td>\n",
              "      <td>Humanities</td>\n",
              "      <td>7.0</td>\n",
              "      <td>10/49</td>\n",
              "      <td>Funded Startup</td>\n",
              "      <td>1</td>\n",
              "      <td>25</td>\n",
              "      <td>0.0</td>\n",
              "    </tr>\n",
              "    <tr>\n",
              "      <th>8954</th>\n",
              "      <td>19155</td>\n",
              "      <td>24576</td>\n",
              "      <td>city_103</td>\n",
              "      <td>0.920</td>\n",
              "      <td>Male</td>\n",
              "      <td>Has relevent experience</td>\n",
              "      <td>no_enrollment</td>\n",
              "      <td>Graduate</td>\n",
              "      <td>STEM</td>\n",
              "      <td>21.0</td>\n",
              "      <td>50-99</td>\n",
              "      <td>Pvt Ltd</td>\n",
              "      <td>4</td>\n",
              "      <td>44</td>\n",
              "      <td>0.0</td>\n",
              "    </tr>\n",
              "  </tbody>\n",
              "</table>\n",
              "</div>\n",
              "      <button class=\"colab-df-convert\" onclick=\"convertToInteractive('df-c07e0056-4ed5-4657-ae0d-a77fb20ca8a9')\"\n",
              "              title=\"Convert this dataframe to an interactive table.\"\n",
              "              style=\"display:none;\">\n",
              "        \n",
              "  <svg xmlns=\"http://www.w3.org/2000/svg\" height=\"24px\"viewBox=\"0 0 24 24\"\n",
              "       width=\"24px\">\n",
              "    <path d=\"M0 0h24v24H0V0z\" fill=\"none\"/>\n",
              "    <path d=\"M18.56 5.44l.94 2.06.94-2.06 2.06-.94-2.06-.94-.94-2.06-.94 2.06-2.06.94zm-11 1L8.5 8.5l.94-2.06 2.06-.94-2.06-.94L8.5 2.5l-.94 2.06-2.06.94zm10 10l.94 2.06.94-2.06 2.06-.94-2.06-.94-.94-2.06-.94 2.06-2.06.94z\"/><path d=\"M17.41 7.96l-1.37-1.37c-.4-.4-.92-.59-1.43-.59-.52 0-1.04.2-1.43.59L10.3 9.45l-7.72 7.72c-.78.78-.78 2.05 0 2.83L4 21.41c.39.39.9.59 1.41.59.51 0 1.02-.2 1.41-.59l7.78-7.78 2.81-2.81c.8-.78.8-2.07 0-2.86zM5.41 20L4 18.59l7.72-7.72 1.47 1.35L5.41 20z\"/>\n",
              "  </svg>\n",
              "      </button>\n",
              "      \n",
              "  <style>\n",
              "    .colab-df-container {\n",
              "      display:flex;\n",
              "      flex-wrap:wrap;\n",
              "      gap: 12px;\n",
              "    }\n",
              "\n",
              "    .colab-df-convert {\n",
              "      background-color: #E8F0FE;\n",
              "      border: none;\n",
              "      border-radius: 50%;\n",
              "      cursor: pointer;\n",
              "      display: none;\n",
              "      fill: #1967D2;\n",
              "      height: 32px;\n",
              "      padding: 0 0 0 0;\n",
              "      width: 32px;\n",
              "    }\n",
              "\n",
              "    .colab-df-convert:hover {\n",
              "      background-color: #E2EBFA;\n",
              "      box-shadow: 0px 1px 2px rgba(60, 64, 67, 0.3), 0px 1px 3px 1px rgba(60, 64, 67, 0.15);\n",
              "      fill: #174EA6;\n",
              "    }\n",
              "\n",
              "    [theme=dark] .colab-df-convert {\n",
              "      background-color: #3B4455;\n",
              "      fill: #D2E3FC;\n",
              "    }\n",
              "\n",
              "    [theme=dark] .colab-df-convert:hover {\n",
              "      background-color: #434B5C;\n",
              "      box-shadow: 0px 1px 3px 1px rgba(0, 0, 0, 0.15);\n",
              "      filter: drop-shadow(0px 1px 2px rgba(0, 0, 0, 0.3));\n",
              "      fill: #FFFFFF;\n",
              "    }\n",
              "  </style>\n",
              "\n",
              "      <script>\n",
              "        const buttonEl =\n",
              "          document.querySelector('#df-c07e0056-4ed5-4657-ae0d-a77fb20ca8a9 button.colab-df-convert');\n",
              "        buttonEl.style.display =\n",
              "          google.colab.kernel.accessAllowed ? 'block' : 'none';\n",
              "\n",
              "        async function convertToInteractive(key) {\n",
              "          const element = document.querySelector('#df-c07e0056-4ed5-4657-ae0d-a77fb20ca8a9');\n",
              "          const dataTable =\n",
              "            await google.colab.kernel.invokeFunction('convertToInteractive',\n",
              "                                                     [key], {});\n",
              "          if (!dataTable) return;\n",
              "\n",
              "          const docLinkHtml = 'Like what you see? Visit the ' +\n",
              "            '<a target=\"_blank\" href=https://colab.research.google.com/notebooks/data_table.ipynb>data table notebook</a>'\n",
              "            + ' to learn more about interactive tables.';\n",
              "          element.innerHTML = '';\n",
              "          dataTable['output_type'] = 'display_data';\n",
              "          await google.colab.output.renderOutput(dataTable, element);\n",
              "          const docLink = document.createElement('div');\n",
              "          docLink.innerHTML = docLinkHtml;\n",
              "          element.appendChild(docLink);\n",
              "        }\n",
              "      </script>\n",
              "    </div>\n",
              "  </div>\n",
              "  "
            ]
          },
          "metadata": {},
          "execution_count": 379
        }
      ]
    },
    {
      "cell_type": "markdown",
      "source": [
        "##IV. Show how many columns have null values\n"
      ],
      "metadata": {
        "id": "5o0-FIrekA89"
      }
    },
    {
      "cell_type": "code",
      "source": [
        "percentage = data.isnull().mean()\n",
        "percentage = percentage.to_frame('nulls')\n",
        "percentage.sort_values('nulls', inplace=True, ascending=False)\n",
        "percentage"
      ],
      "metadata": {
        "colab": {
          "base_uri": "https://localhost:8080/",
          "height": 520
        },
        "id": "UIacAo3EkGp3",
        "outputId": "8d91adc6-8caa-4054-e0e3-63870b4f4c76"
      },
      "execution_count": 380,
      "outputs": [
        {
          "output_type": "execute_result",
          "data": {
            "text/plain": [
              "                        nulls\n",
              "Unnamed: 0                0.0\n",
              "enrollee_id               0.0\n",
              "city                      0.0\n",
              "city_development_index    0.0\n",
              "gender                    0.0\n",
              "relevent_experience       0.0\n",
              "enrolled_university       0.0\n",
              "education_level           0.0\n",
              "major_discipline          0.0\n",
              "experience                0.0\n",
              "company_size              0.0\n",
              "company_type              0.0\n",
              "last_new_job              0.0\n",
              "training_hours            0.0\n",
              "target                    0.0"
            ],
            "text/html": [
              "\n",
              "  <div id=\"df-90a4d1c5-93bc-45b9-abbf-30eb922f4e00\">\n",
              "    <div class=\"colab-df-container\">\n",
              "      <div>\n",
              "<style scoped>\n",
              "    .dataframe tbody tr th:only-of-type {\n",
              "        vertical-align: middle;\n",
              "    }\n",
              "\n",
              "    .dataframe tbody tr th {\n",
              "        vertical-align: top;\n",
              "    }\n",
              "\n",
              "    .dataframe thead th {\n",
              "        text-align: right;\n",
              "    }\n",
              "</style>\n",
              "<table border=\"1\" class=\"dataframe\">\n",
              "  <thead>\n",
              "    <tr style=\"text-align: right;\">\n",
              "      <th></th>\n",
              "      <th>nulls</th>\n",
              "    </tr>\n",
              "  </thead>\n",
              "  <tbody>\n",
              "    <tr>\n",
              "      <th>Unnamed: 0</th>\n",
              "      <td>0.0</td>\n",
              "    </tr>\n",
              "    <tr>\n",
              "      <th>enrollee_id</th>\n",
              "      <td>0.0</td>\n",
              "    </tr>\n",
              "    <tr>\n",
              "      <th>city</th>\n",
              "      <td>0.0</td>\n",
              "    </tr>\n",
              "    <tr>\n",
              "      <th>city_development_index</th>\n",
              "      <td>0.0</td>\n",
              "    </tr>\n",
              "    <tr>\n",
              "      <th>gender</th>\n",
              "      <td>0.0</td>\n",
              "    </tr>\n",
              "    <tr>\n",
              "      <th>relevent_experience</th>\n",
              "      <td>0.0</td>\n",
              "    </tr>\n",
              "    <tr>\n",
              "      <th>enrolled_university</th>\n",
              "      <td>0.0</td>\n",
              "    </tr>\n",
              "    <tr>\n",
              "      <th>education_level</th>\n",
              "      <td>0.0</td>\n",
              "    </tr>\n",
              "    <tr>\n",
              "      <th>major_discipline</th>\n",
              "      <td>0.0</td>\n",
              "    </tr>\n",
              "    <tr>\n",
              "      <th>experience</th>\n",
              "      <td>0.0</td>\n",
              "    </tr>\n",
              "    <tr>\n",
              "      <th>company_size</th>\n",
              "      <td>0.0</td>\n",
              "    </tr>\n",
              "    <tr>\n",
              "      <th>company_type</th>\n",
              "      <td>0.0</td>\n",
              "    </tr>\n",
              "    <tr>\n",
              "      <th>last_new_job</th>\n",
              "      <td>0.0</td>\n",
              "    </tr>\n",
              "    <tr>\n",
              "      <th>training_hours</th>\n",
              "      <td>0.0</td>\n",
              "    </tr>\n",
              "    <tr>\n",
              "      <th>target</th>\n",
              "      <td>0.0</td>\n",
              "    </tr>\n",
              "  </tbody>\n",
              "</table>\n",
              "</div>\n",
              "      <button class=\"colab-df-convert\" onclick=\"convertToInteractive('df-90a4d1c5-93bc-45b9-abbf-30eb922f4e00')\"\n",
              "              title=\"Convert this dataframe to an interactive table.\"\n",
              "              style=\"display:none;\">\n",
              "        \n",
              "  <svg xmlns=\"http://www.w3.org/2000/svg\" height=\"24px\"viewBox=\"0 0 24 24\"\n",
              "       width=\"24px\">\n",
              "    <path d=\"M0 0h24v24H0V0z\" fill=\"none\"/>\n",
              "    <path d=\"M18.56 5.44l.94 2.06.94-2.06 2.06-.94-2.06-.94-.94-2.06-.94 2.06-2.06.94zm-11 1L8.5 8.5l.94-2.06 2.06-.94-2.06-.94L8.5 2.5l-.94 2.06-2.06.94zm10 10l.94 2.06.94-2.06 2.06-.94-2.06-.94-.94-2.06-.94 2.06-2.06.94z\"/><path d=\"M17.41 7.96l-1.37-1.37c-.4-.4-.92-.59-1.43-.59-.52 0-1.04.2-1.43.59L10.3 9.45l-7.72 7.72c-.78.78-.78 2.05 0 2.83L4 21.41c.39.39.9.59 1.41.59.51 0 1.02-.2 1.41-.59l7.78-7.78 2.81-2.81c.8-.78.8-2.07 0-2.86zM5.41 20L4 18.59l7.72-7.72 1.47 1.35L5.41 20z\"/>\n",
              "  </svg>\n",
              "      </button>\n",
              "      \n",
              "  <style>\n",
              "    .colab-df-container {\n",
              "      display:flex;\n",
              "      flex-wrap:wrap;\n",
              "      gap: 12px;\n",
              "    }\n",
              "\n",
              "    .colab-df-convert {\n",
              "      background-color: #E8F0FE;\n",
              "      border: none;\n",
              "      border-radius: 50%;\n",
              "      cursor: pointer;\n",
              "      display: none;\n",
              "      fill: #1967D2;\n",
              "      height: 32px;\n",
              "      padding: 0 0 0 0;\n",
              "      width: 32px;\n",
              "    }\n",
              "\n",
              "    .colab-df-convert:hover {\n",
              "      background-color: #E2EBFA;\n",
              "      box-shadow: 0px 1px 2px rgba(60, 64, 67, 0.3), 0px 1px 3px 1px rgba(60, 64, 67, 0.15);\n",
              "      fill: #174EA6;\n",
              "    }\n",
              "\n",
              "    [theme=dark] .colab-df-convert {\n",
              "      background-color: #3B4455;\n",
              "      fill: #D2E3FC;\n",
              "    }\n",
              "\n",
              "    [theme=dark] .colab-df-convert:hover {\n",
              "      background-color: #434B5C;\n",
              "      box-shadow: 0px 1px 3px 1px rgba(0, 0, 0, 0.15);\n",
              "      filter: drop-shadow(0px 1px 2px rgba(0, 0, 0, 0.3));\n",
              "      fill: #FFFFFF;\n",
              "    }\n",
              "  </style>\n",
              "\n",
              "      <script>\n",
              "        const buttonEl =\n",
              "          document.querySelector('#df-90a4d1c5-93bc-45b9-abbf-30eb922f4e00 button.colab-df-convert');\n",
              "        buttonEl.style.display =\n",
              "          google.colab.kernel.accessAllowed ? 'block' : 'none';\n",
              "\n",
              "        async function convertToInteractive(key) {\n",
              "          const element = document.querySelector('#df-90a4d1c5-93bc-45b9-abbf-30eb922f4e00');\n",
              "          const dataTable =\n",
              "            await google.colab.kernel.invokeFunction('convertToInteractive',\n",
              "                                                     [key], {});\n",
              "          if (!dataTable) return;\n",
              "\n",
              "          const docLinkHtml = 'Like what you see? Visit the ' +\n",
              "            '<a target=\"_blank\" href=https://colab.research.google.com/notebooks/data_table.ipynb>data table notebook</a>'\n",
              "            + ' to learn more about interactive tables.';\n",
              "          element.innerHTML = '';\n",
              "          dataTable['output_type'] = 'display_data';\n",
              "          await google.colab.output.renderOutput(dataTable, element);\n",
              "          const docLink = document.createElement('div');\n",
              "          docLink.innerHTML = docLinkHtml;\n",
              "          element.appendChild(docLink);\n",
              "        }\n",
              "      </script>\n",
              "    </div>\n",
              "  </div>\n",
              "  "
            ]
          },
          "metadata": {},
          "execution_count": 380
        }
      ]
    },
    {
      "cell_type": "markdown",
      "source": [
        "##V. Plot the count of target and discuss its imbalances and probable issues and solutions"
      ],
      "metadata": {
        "id": "7vgoiraJkg6J"
      }
    },
    {
      "cell_type": "markdown",
      "source": [
        "###There is alot more records where the applicant is not looking for a job change. This could make it difficult to teach the model examples where the applicant is actually a good fit."
      ],
      "metadata": {
        "id": "-L98JMVVmRIH"
      }
    },
    {
      "cell_type": "code",
      "source": [
        "target = data['target']\n",
        "target.value_counts().plot(kind='bar')\n",
        "plt.show()"
      ],
      "metadata": {
        "colab": {
          "base_uri": "https://localhost:8080/",
          "height": 271
        },
        "id": "CCwQfz35kiqH",
        "outputId": "f8999645-e8f0-4bd4-fe0c-679123a83e61"
      },
      "execution_count": 381,
      "outputs": [
        {
          "output_type": "display_data",
          "data": {
            "text/plain": [
              "<Figure size 432x288 with 1 Axes>"
            ],
            "image/png": "[encoded data removed]"
          },
          "metadata": {
            "needs_background": "light"
          }
        }
      ]
    },
    {
      "cell_type": "markdown",
      "source": [
        "#2.   Feature Selection and Pre-processing "
      ],
      "metadata": {
        "id": "8S6v5_r8mqIg"
      }
    },
    {
      "cell_type": "markdown",
      "source": [
        "##I. Preprocessing City:"
      ],
      "metadata": {
        "id": "ZS6IR4YCmt0s"
      }
    },
    {
      "cell_type": "markdown",
      "source": [
        "###I. Plot number of records per city so that the highest city counts are shown in descending *order*"
      ],
      "metadata": {
        "id": "U_tzRgbDmzvN"
      }
    },
    {
      "cell_type": "code",
      "source": [
        "cities = data['city']\n",
        "plt.figure(figsize=(20,7))\n",
        "cities.value_counts().sort_values(ascending=False).plot(kind='bar')\n",
        "plt.xticks(rotation=90)\n",
        "plt.show()"
      ],
      "metadata": {
        "colab": {
          "base_uri": "https://localhost:8080/",
          "height": 447
        },
        "id": "JhY7H4EFm6aM",
        "outputId": "55f4f44a-a339-4c50-b2df-04b0103254c6"
      },
      "execution_count": 382,
      "outputs": [
        {
          "output_type": "display_data",
          "data": {
            "text/plain": [
              "<Figure size 1440x504 with 1 Axes>"
            ],
            "image/png": "[encoded data removed]"
          },
          "metadata": {
            "needs_background": "light"
          }
        }
      ]
    },
    {
      "cell_type": "markdown",
      "source": [
        "###II. How many rows belong to the count-wise top 4 cities in total and how many for the remaining? (The plot you have generated in 2.i.i should help you to identify those cities)"
      ],
      "metadata": {
        "id": "1FcipK3IrbeJ"
      }
    },
    {
      "cell_type": "code",
      "source": [
        "top_cities = cities.value_counts().sort_values(ascending=False).nlargest(4)\n",
        "\n",
        "print(top_cities)\n",
        "print(\"Top 4 cities count: \" + str(top_cities.sum()))"
      ],
      "metadata": {
        "colab": {
          "base_uri": "https://localhost:8080/",
          "height": 0
        },
        "id": "epkDiEivrioR",
        "outputId": "0bc720ec-77bd-4f37-e836-9b8abf54b29f"
      },
      "execution_count": 383,
      "outputs": [
        {
          "output_type": "stream",
          "name": "stdout",
          "text": [
            "city_103    2426\n",
            "city_21     1111\n",
            "city_16      836\n",
            "city_114     648\n",
            "Name: city, dtype: int64\n",
            "Top 4 cities count: 5021\n"
          ]
        }
      ]
    },
    {
      "cell_type": "code",
      "source": [
        "bottom_cities = cities.value_counts().sort_values(ascending=True).nsmallest(112)\n",
        "print(bottom_cities)\n",
        "print(\"Bottom 112 cities count: \" + str(bottom_cities.sum()))"
      ],
      "metadata": {
        "colab": {
          "base_uri": "https://localhost:8080/",
          "height": 0
        },
        "id": "OkHevBYOvroR",
        "outputId": "6514f80e-6448-4625-a04c-1fc35a7d4fc9"
      },
      "execution_count": 384,
      "outputs": [
        {
          "output_type": "stream",
          "name": "stdout",
          "text": [
            "city_25       1\n",
            "city_121      1\n",
            "city_139      1\n",
            "city_129      1\n",
            "city_109      1\n",
            "           ... \n",
            "city_104    146\n",
            "city_75     156\n",
            "city_67     179\n",
            "city_136    288\n",
            "city_160    401\n",
            "Name: city, Length: 112, dtype: int64\n",
            "Bottom 112 cities count: 3934\n"
          ]
        }
      ]
    },
    {
      "cell_type": "markdown",
      "source": [
        "###III. Replace the city name with city_others if the city name is not within the top 4 city names."
      ],
      "metadata": {
        "id": "Nzg6GJyvyTk9"
      }
    },
    {
      "cell_type": "code",
      "source": [
        "bottom_cities = bottom_cities.to_dict()\n",
        "data.loc[data['city'].isin(bottom_cities), 'city'] = 'city_others'"
      ],
      "metadata": {
        "id": "vZS-sAgzyXj6"
      },
      "execution_count": 385,
      "outputs": []
    },
    {
      "cell_type": "markdown",
      "source": [
        "###IV. Show some sample data that the records have changed appropriately"
      ],
      "metadata": {
        "id": "25-Ccs7S13Iw"
      }
    },
    {
      "cell_type": "code",
      "source": [
        "data['city'].value_counts().sort_values(ascending=False).plot(kind='bar')\n",
        "plt.xticks(rotation=30)\n",
        "plt.show()"
      ],
      "metadata": {
        "colab": {
          "base_uri": "https://localhost:8080/",
          "height": 292
        },
        "id": "so3-MAB1161m",
        "outputId": "43c02ca1-9d62-45a3-d277-f39bff0f7dfa"
      },
      "execution_count": 386,
      "outputs": [
        {
          "output_type": "display_data",
          "data": {
            "text/plain": [
              "<Figure size 432x288 with 1 Axes>"
            ],
            "image/png": "[encoded data removed]"
          },
          "metadata": {
            "needs_background": "light"
          }
        }
      ]
    },
    {
      "cell_type": "code",
      "source": [
        "data.head()"
      ],
      "metadata": {
        "colab": {
          "base_uri": "https://localhost:8080/",
          "height": 287
        },
        "id": "rySMqK8j4WlY",
        "outputId": "854869b2-2562-49e5-99e6-abf8b42ad12b"
      },
      "execution_count": 387,
      "outputs": [
        {
          "output_type": "execute_result",
          "data": {
            "text/plain": [
              "   Unnamed: 0  enrollee_id         city  city_development_index gender  \\\n",
              "0           1        29725  city_others                   0.776   Male   \n",
              "1           4          666  city_others                   0.767   Male   \n",
              "2           7          402  city_others                   0.762   Male   \n",
              "3           8        27107     city_103                   0.920   Male   \n",
              "4          11        23853     city_103                   0.920   Male   \n",
              "\n",
              "       relevent_experience enrolled_university education_level  \\\n",
              "0   No relevent experience       no_enrollment        Graduate   \n",
              "1  Has relevent experience       no_enrollment         Masters   \n",
              "2  Has relevent experience       no_enrollment        Graduate   \n",
              "3  Has relevent experience       no_enrollment        Graduate   \n",
              "4  Has relevent experience       no_enrollment        Graduate   \n",
              "\n",
              "  major_discipline  experience company_size    company_type last_new_job  \\\n",
              "0             STEM        15.0        50-99         Pvt Ltd           >4   \n",
              "1             STEM        21.0        50-99  Funded Startup            4   \n",
              "2             STEM        13.0          <10         Pvt Ltd           >4   \n",
              "3             STEM         7.0        50-99         Pvt Ltd            1   \n",
              "4             STEM         5.0    5000-9999         Pvt Ltd            1   \n",
              "\n",
              "   training_hours  target  \n",
              "0              47     0.0  \n",
              "1               8     0.0  \n",
              "2              18     1.0  \n",
              "3              46     1.0  \n",
              "4             108     0.0  "
            ],
            "text/html": [
              "\n",
              "  <div id=\"df-99f0427a-3cca-4f5a-853d-12c46d0355bc\">\n",
              "    <div class=\"colab-df-container\">\n",
              "      <div>\n",
              "<style scoped>\n",
              "    .dataframe tbody tr th:only-of-type {\n",
              "        vertical-align: middle;\n",
              "    }\n",
              "\n",
              "    .dataframe tbody tr th {\n",
              "        vertical-align: top;\n",
              "    }\n",
              "\n",
              "    .dataframe thead th {\n",
              "        text-align: right;\n",
              "    }\n",
              "</style>\n",
              "<table border=\"1\" class=\"dataframe\">\n",
              "  <thead>\n",
              "    <tr style=\"text-align: right;\">\n",
              "      <th></th>\n",
              "      <th>Unnamed: 0</th>\n",
              "      <th>enrollee_id</th>\n",
              "      <th>city</th>\n",
              "      <th>city_development_index</th>\n",
              "      <th>gender</th>\n",
              "      <th>relevent_experience</th>\n",
              "      <th>enrolled_university</th>\n",
              "      <th>education_level</th>\n",
              "      <th>major_discipline</th>\n",
              "      <th>experience</th>\n",
              "      <th>company_size</th>\n",
              "      <th>company_type</th>\n",
              "      <th>last_new_job</th>\n",
              "      <th>training_hours</th>\n",
              "      <th>target</th>\n",
              "    </tr>\n",
              "  </thead>\n",
              "  <tbody>\n",
              "    <tr>\n",
              "      <th>0</th>\n",
              "      <td>1</td>\n",
              "      <td>29725</td>\n",
              "      <td>city_others</td>\n",
              "      <td>0.776</td>\n",
              "      <td>Male</td>\n",
              "      <td>No relevent experience</td>\n",
              "      <td>no_enrollment</td>\n",
              "      <td>Graduate</td>\n",
              "      <td>STEM</td>\n",
              "      <td>15.0</td>\n",
              "      <td>50-99</td>\n",
              "      <td>Pvt Ltd</td>\n",
              "      <td>&gt;4</td>\n",
              "      <td>47</td>\n",
              "      <td>0.0</td>\n",
              "    </tr>\n",
              "    <tr>\n",
              "      <th>1</th>\n",
              "      <td>4</td>\n",
              "      <td>666</td>\n",
              "      <td>city_others</td>\n",
              "      <td>0.767</td>\n",
              "      <td>Male</td>\n",
              "      <td>Has relevent experience</td>\n",
              "      <td>no_enrollment</td>\n",
              "      <td>Masters</td>\n",
              "      <td>STEM</td>\n",
              "      <td>21.0</td>\n",
              "      <td>50-99</td>\n",
              "      <td>Funded Startup</td>\n",
              "      <td>4</td>\n",
              "      <td>8</td>\n",
              "      <td>0.0</td>\n",
              "    </tr>\n",
              "    <tr>\n",
              "      <th>2</th>\n",
              "      <td>7</td>\n",
              "      <td>402</td>\n",
              "      <td>city_others</td>\n",
              "      <td>0.762</td>\n",
              "      <td>Male</td>\n",
              "      <td>Has relevent experience</td>\n",
              "      <td>no_enrollment</td>\n",
              "      <td>Graduate</td>\n",
              "      <td>STEM</td>\n",
              "      <td>13.0</td>\n",
              "      <td>&lt;10</td>\n",
              "      <td>Pvt Ltd</td>\n",
              "      <td>&gt;4</td>\n",
              "      <td>18</td>\n",
              "      <td>1.0</td>\n",
              "    </tr>\n",
              "    <tr>\n",
              "      <th>3</th>\n",
              "      <td>8</td>\n",
              "      <td>27107</td>\n",
              "      <td>city_103</td>\n",
              "      <td>0.920</td>\n",
              "      <td>Male</td>\n",
              "      <td>Has relevent experience</td>\n",
              "      <td>no_enrollment</td>\n",
              "      <td>Graduate</td>\n",
              "      <td>STEM</td>\n",
              "      <td>7.0</td>\n",
              "      <td>50-99</td>\n",
              "      <td>Pvt Ltd</td>\n",
              "      <td>1</td>\n",
              "      <td>46</td>\n",
              "      <td>1.0</td>\n",
              "    </tr>\n",
              "    <tr>\n",
              "      <th>4</th>\n",
              "      <td>11</td>\n",
              "      <td>23853</td>\n",
              "      <td>city_103</td>\n",
              "      <td>0.920</td>\n",
              "      <td>Male</td>\n",
              "      <td>Has relevent experience</td>\n",
              "      <td>no_enrollment</td>\n",
              "      <td>Graduate</td>\n",
              "      <td>STEM</td>\n",
              "      <td>5.0</td>\n",
              "      <td>5000-9999</td>\n",
              "      <td>Pvt Ltd</td>\n",
              "      <td>1</td>\n",
              "      <td>108</td>\n",
              "      <td>0.0</td>\n",
              "    </tr>\n",
              "  </tbody>\n",
              "</table>\n",
              "</div>\n",
              "      <button class=\"colab-df-convert\" onclick=\"convertToInteractive('df-99f0427a-3cca-4f5a-853d-12c46d0355bc')\"\n",
              "              title=\"Convert this dataframe to an interactive table.\"\n",
              "              style=\"display:none;\">\n",
              "        \n",
              "  <svg xmlns=\"http://www.w3.org/2000/svg\" height=\"24px\"viewBox=\"0 0 24 24\"\n",
              "       width=\"24px\">\n",
              "    <path d=\"M0 0h24v24H0V0z\" fill=\"none\"/>\n",
              "    <path d=\"M18.56 5.44l.94 2.06.94-2.06 2.06-.94-2.06-.94-.94-2.06-.94 2.06-2.06.94zm-11 1L8.5 8.5l.94-2.06 2.06-.94-2.06-.94L8.5 2.5l-.94 2.06-2.06.94zm10 10l.94 2.06.94-2.06 2.06-.94-2.06-.94-.94-2.06-.94 2.06-2.06.94z\"/><path d=\"M17.41 7.96l-1.37-1.37c-.4-.4-.92-.59-1.43-.59-.52 0-1.04.2-1.43.59L10.3 9.45l-7.72 7.72c-.78.78-.78 2.05 0 2.83L4 21.41c.39.39.9.59 1.41.59.51 0 1.02-.2 1.41-.59l7.78-7.78 2.81-2.81c.8-.78.8-2.07 0-2.86zM5.41 20L4 18.59l7.72-7.72 1.47 1.35L5.41 20z\"/>\n",
              "  </svg>\n",
              "      </button>\n",
              "      \n",
              "  <style>\n",
              "    .colab-df-container {\n",
              "      display:flex;\n",
              "      flex-wrap:wrap;\n",
              "      gap: 12px;\n",
              "    }\n",
              "\n",
              "    .colab-df-convert {\n",
              "      background-color: #E8F0FE;\n",
              "      border: none;\n",
              "      border-radius: 50%;\n",
              "      cursor: pointer;\n",
              "      display: none;\n",
              "      fill: #1967D2;\n",
              "      height: 32px;\n",
              "      padding: 0 0 0 0;\n",
              "      width: 32px;\n",
              "    }\n",
              "\n",
              "    .colab-df-convert:hover {\n",
              "      background-color: #E2EBFA;\n",
              "      box-shadow: 0px 1px 2px rgba(60, 64, 67, 0.3), 0px 1px 3px 1px rgba(60, 64, 67, 0.15);\n",
              "      fill: #174EA6;\n",
              "    }\n",
              "\n",
              "    [theme=dark] .colab-df-convert {\n",
              "      background-color: #3B4455;\n",
              "      fill: #D2E3FC;\n",
              "    }\n",
              "\n",
              "    [theme=dark] .colab-df-convert:hover {\n",
              "      background-color: #434B5C;\n",
              "      box-shadow: 0px 1px 3px 1px rgba(0, 0, 0, 0.15);\n",
              "      filter: drop-shadow(0px 1px 2px rgba(0, 0, 0, 0.3));\n",
              "      fill: #FFFFFF;\n",
              "    }\n",
              "  </style>\n",
              "\n",
              "      <script>\n",
              "        const buttonEl =\n",
              "          document.querySelector('#df-99f0427a-3cca-4f5a-853d-12c46d0355bc button.colab-df-convert');\n",
              "        buttonEl.style.display =\n",
              "          google.colab.kernel.accessAllowed ? 'block' : 'none';\n",
              "\n",
              "        async function convertToInteractive(key) {\n",
              "          const element = document.querySelector('#df-99f0427a-3cca-4f5a-853d-12c46d0355bc');\n",
              "          const dataTable =\n",
              "            await google.colab.kernel.invokeFunction('convertToInteractive',\n",
              "                                                     [key], {});\n",
              "          if (!dataTable) return;\n",
              "\n",
              "          const docLinkHtml = 'Like what you see? Visit the ' +\n",
              "            '<a target=\"_blank\" href=https://colab.research.google.com/notebooks/data_table.ipynb>data table notebook</a>'\n",
              "            + ' to learn more about interactive tables.';\n",
              "          element.innerHTML = '';\n",
              "          dataTable['output_type'] = 'display_data';\n",
              "          await google.colab.output.renderOutput(dataTable, element);\n",
              "          const docLink = document.createElement('div');\n",
              "          docLink.innerHTML = docLinkHtml;\n",
              "          element.appendChild(docLink);\n",
              "        }\n",
              "      </script>\n",
              "    </div>\n",
              "  </div>\n",
              "  "
            ]
          },
          "metadata": {},
          "execution_count": 387
        }
      ]
    },
    {
      "cell_type": "markdown",
      "source": [
        "##II. Education Level:"
      ],
      "metadata": {
        "id": "4jo7mIEn4gXQ"
      }
    },
    {
      "cell_type": "markdown",
      "source": [
        "###I. Show the unique values of education level."
      ],
      "metadata": {
        "id": "9Wshh41B4moH"
      }
    },
    {
      "cell_type": "code",
      "source": [
        "education = data['education_level'].unique()\n",
        "print(education)\n",
        "\n",
        "data['education_level'].value_counts().sort_values(ascending=False).plot(kind='bar')\n",
        "plt.show()"
      ],
      "metadata": {
        "colab": {
          "base_uri": "https://localhost:8080/",
          "height": 320
        },
        "id": "FE6UVa9d4ukj",
        "outputId": "6c0451b5-f65f-473b-9294-ac2cf33541ca"
      },
      "execution_count": 388,
      "outputs": [
        {
          "output_type": "stream",
          "name": "stdout",
          "text": [
            "['Graduate' 'Masters' 'Phd']\n"
          ]
        },
        {
          "output_type": "display_data",
          "data": {
            "text/plain": [
              "<Figure size 432x288 with 1 Axes>"
            ],
            "image/png": "[encoded data removed]"
          },
          "metadata": {
            "needs_background": "light"
          }
        }
      ]
    },
    {
      "cell_type": "markdown",
      "source": [
        "###II. Replace the value of Education level column like ordinal values, \"Graduate\" -> 0, Masters->1, and Phd -> 2 "
      ],
      "metadata": {
        "id": "AX2la_AE50KD"
      }
    },
    {
      "cell_type": "code",
      "source": [
        "education_types = {\"education_level\": {\"Graduate\":0,\n",
        "                                      \"Masters\":1,\n",
        "                                      \"Phd\":2}}\n",
        "data = data.replace(education_types)\n",
        "data"
      ],
      "metadata": {
        "colab": {
          "base_uri": "https://localhost:8080/",
          "height": 505
        },
        "id": "A28xFMXl7Boa",
        "outputId": "2f71b2a4-2829-468b-8a44-f408d9baf2a5"
      },
      "execution_count": 389,
      "outputs": [
        {
          "output_type": "execute_result",
          "data": {
            "text/plain": [
              "      Unnamed: 0  enrollee_id         city  city_development_index  gender  \\\n",
              "0              1        29725  city_others                   0.776    Male   \n",
              "1              4          666  city_others                   0.767    Male   \n",
              "2              7          402  city_others                   0.762    Male   \n",
              "3              8        27107     city_103                   0.920    Male   \n",
              "4             11        23853     city_103                   0.920    Male   \n",
              "...          ...          ...          ...                     ...     ...   \n",
              "8950       19147        21319      city_21                   0.624    Male   \n",
              "8951       19149          251     city_103                   0.920    Male   \n",
              "8952       19150        32313  city_others                   0.920  Female   \n",
              "8953       19152        29754     city_103                   0.920  Female   \n",
              "8954       19155        24576     city_103                   0.920    Male   \n",
              "\n",
              "          relevent_experience enrolled_university  education_level  \\\n",
              "0      No relevent experience       no_enrollment                0   \n",
              "1     Has relevent experience       no_enrollment                1   \n",
              "2     Has relevent experience       no_enrollment                0   \n",
              "3     Has relevent experience       no_enrollment                0   \n",
              "4     Has relevent experience       no_enrollment                0   \n",
              "...                       ...                 ...              ...   \n",
              "8950   No relevent experience    Full time course                0   \n",
              "8951  Has relevent experience       no_enrollment                1   \n",
              "8952  Has relevent experience       no_enrollment                0   \n",
              "8953  Has relevent experience       no_enrollment                0   \n",
              "8954  Has relevent experience       no_enrollment                0   \n",
              "\n",
              "     major_discipline  experience company_size    company_type last_new_job  \\\n",
              "0                STEM        15.0        50-99         Pvt Ltd           >4   \n",
              "1                STEM        21.0        50-99  Funded Startup            4   \n",
              "2                STEM        13.0          <10         Pvt Ltd           >4   \n",
              "3                STEM         7.0        50-99         Pvt Ltd            1   \n",
              "4                STEM         5.0    5000-9999         Pvt Ltd            1   \n",
              "...               ...         ...          ...             ...          ...   \n",
              "8950             STEM         1.0      100-500         Pvt Ltd            1   \n",
              "8951             STEM         9.0        50-99         Pvt Ltd            1   \n",
              "8952             STEM        10.0      100-500   Public Sector            3   \n",
              "8953       Humanities         7.0        10/49  Funded Startup            1   \n",
              "8954             STEM        21.0        50-99         Pvt Ltd            4   \n",
              "\n",
              "      training_hours  target  \n",
              "0                 47     0.0  \n",
              "1                  8     0.0  \n",
              "2                 18     1.0  \n",
              "3                 46     1.0  \n",
              "4                108     0.0  \n",
              "...              ...     ...  \n",
              "8950              52     1.0  \n",
              "8951              36     1.0  \n",
              "8952              23     0.0  \n",
              "8953              25     0.0  \n",
              "8954              44     0.0  \n",
              "\n",
              "[8955 rows x 15 columns]"
            ],
            "text/html": [
              "\n",
              "  <div id=\"df-1486cd9c-6b94-497a-9a80-f01b0703cdce\">\n",
              "    <div class=\"colab-df-container\">\n",
              "      <div>\n",
              "<style scoped>\n",
              "    .dataframe tbody tr th:only-of-type {\n",
              "        vertical-align: middle;\n",
              "    }\n",
              "\n",
              "    .dataframe tbody tr th {\n",
              "        vertical-align: top;\n",
              "    }\n",
              "\n",
              "    .dataframe thead th {\n",
              "        text-align: right;\n",
              "    }\n",
              "</style>\n",
              "<table border=\"1\" class=\"dataframe\">\n",
              "  <thead>\n",
              "    <tr style=\"text-align: right;\">\n",
              "      <th></th>\n",
              "      <th>Unnamed: 0</th>\n",
              "      <th>enrollee_id</th>\n",
              "      <th>city</th>\n",
              "      <th>city_development_index</th>\n",
              "      <th>gender</th>\n",
              "      <th>relevent_experience</th>\n",
              "      <th>enrolled_university</th>\n",
              "      <th>education_level</th>\n",
              "      <th>major_discipline</th>\n",
              "      <th>experience</th>\n",
              "      <th>company_size</th>\n",
              "      <th>company_type</th>\n",
              "      <th>last_new_job</th>\n",
              "      <th>training_hours</th>\n",
              "      <th>target</th>\n",
              "    </tr>\n",
              "  </thead>\n",
              "  <tbody>\n",
              "    <tr>\n",
              "      <th>0</th>\n",
              "      <td>1</td>\n",
              "      <td>29725</td>\n",
              "      <td>city_others</td>\n",
              "      <td>0.776</td>\n",
              "      <td>Male</td>\n",
              "      <td>No relevent experience</td>\n",
              "      <td>no_enrollment</td>\n",
              "      <td>0</td>\n",
              "      <td>STEM</td>\n",
              "      <td>15.0</td>\n",
              "      <td>50-99</td>\n",
              "      <td>Pvt Ltd</td>\n",
              "      <td>&gt;4</td>\n",
              "      <td>47</td>\n",
              "      <td>0.0</td>\n",
              "    </tr>\n",
              "    <tr>\n",
              "      <th>1</th>\n",
              "      <td>4</td>\n",
              "      <td>666</td>\n",
              "      <td>city_others</td>\n",
              "      <td>0.767</td>\n",
              "      <td>Male</td>\n",
              "      <td>Has relevent experience</td>\n",
              "      <td>no_enrollment</td>\n",
              "      <td>1</td>\n",
              "      <td>STEM</td>\n",
              "      <td>21.0</td>\n",
              "      <td>50-99</td>\n",
              "      <td>Funded Startup</td>\n",
              "      <td>4</td>\n",
              "      <td>8</td>\n",
              "      <td>0.0</td>\n",
              "    </tr>\n",
              "    <tr>\n",
              "      <th>2</th>\n",
              "      <td>7</td>\n",
              "      <td>402</td>\n",
              "      <td>city_others</td>\n",
              "      <td>0.762</td>\n",
              "      <td>Male</td>\n",
              "      <td>Has relevent experience</td>\n",
              "      <td>no_enrollment</td>\n",
              "      <td>0</td>\n",
              "      <td>STEM</td>\n",
              "      <td>13.0</td>\n",
              "      <td>&lt;10</td>\n",
              "      <td>Pvt Ltd</td>\n",
              "      <td>&gt;4</td>\n",
              "      <td>18</td>\n",
              "      <td>1.0</td>\n",
              "    </tr>\n",
              "    <tr>\n",
              "      <th>3</th>\n",
              "      <td>8</td>\n",
              "      <td>27107</td>\n",
              "      <td>city_103</td>\n",
              "      <td>0.920</td>\n",
              "      <td>Male</td>\n",
              "      <td>Has relevent experience</td>\n",
              "      <td>no_enrollment</td>\n",
              "      <td>0</td>\n",
              "      <td>STEM</td>\n",
              "      <td>7.0</td>\n",
              "      <td>50-99</td>\n",
              "      <td>Pvt Ltd</td>\n",
              "      <td>1</td>\n",
              "      <td>46</td>\n",
              "      <td>1.0</td>\n",
              "    </tr>\n",
              "    <tr>\n",
              "      <th>4</th>\n",
              "      <td>11</td>\n",
              "      <td>23853</td>\n",
              "      <td>city_103</td>\n",
              "      <td>0.920</td>\n",
              "      <td>Male</td>\n",
              "      <td>Has relevent experience</td>\n",
              "      <td>no_enrollment</td>\n",
              "      <td>0</td>\n",
              "      <td>STEM</td>\n",
              "      <td>5.0</td>\n",
              "      <td>5000-9999</td>\n",
              "      <td>Pvt Ltd</td>\n",
              "      <td>1</td>\n",
              "      <td>108</td>\n",
              "      <td>0.0</td>\n",
              "    </tr>\n",
              "    <tr>\n",
              "      <th>...</th>\n",
              "      <td>...</td>\n",
              "      <td>...</td>\n",
              "      <td>...</td>\n",
              "      <td>...</td>\n",
              "      <td>...</td>\n",
              "      <td>...</td>\n",
              "      <td>...</td>\n",
              "      <td>...</td>\n",
              "      <td>...</td>\n",
              "      <td>...</td>\n",
              "      <td>...</td>\n",
              "      <td>...</td>\n",
              "      <td>...</td>\n",
              "      <td>...</td>\n",
              "      <td>...</td>\n",
              "    </tr>\n",
              "    <tr>\n",
              "      <th>8950</th>\n",
              "      <td>19147</td>\n",
              "      <td>21319</td>\n",
              "      <td>city_21</td>\n",
              "      <td>0.624</td>\n",
              "      <td>Male</td>\n",
              "      <td>No relevent experience</td>\n",
              "      <td>Full time course</td>\n",
              "      <td>0</td>\n",
              "      <td>STEM</td>\n",
              "      <td>1.0</td>\n",
              "      <td>100-500</td>\n",
              "      <td>Pvt Ltd</td>\n",
              "      <td>1</td>\n",
              "      <td>52</td>\n",
              "      <td>1.0</td>\n",
              "    </tr>\n",
              "    <tr>\n",
              "      <th>8951</th>\n",
              "      <td>19149</td>\n",
              "      <td>251</td>\n",
              "      <td>city_103</td>\n",
              "      <td>0.920</td>\n",
              "      <td>Male</td>\n",
              "      <td>Has relevent experience</td>\n",
              "      <td>no_enrollment</td>\n",
              "      <td>1</td>\n",
              "      <td>STEM</td>\n",
              "      <td>9.0</td>\n",
              "      <td>50-99</td>\n",
              "      <td>Pvt Ltd</td>\n",
              "      <td>1</td>\n",
              "      <td>36</td>\n",
              "      <td>1.0</td>\n",
              "    </tr>\n",
              "    <tr>\n",
              "      <th>8952</th>\n",
              "      <td>19150</td>\n",
              "      <td>32313</td>\n",
              "      <td>city_others</td>\n",
              "      <td>0.920</td>\n",
              "      <td>Female</td>\n",
              "      <td>Has relevent experience</td>\n",
              "      <td>no_enrollment</td>\n",
              "      <td>0</td>\n",
              "      <td>STEM</td>\n",
              "      <td>10.0</td>\n",
              "      <td>100-500</td>\n",
              "      <td>Public Sector</td>\n",
              "      <td>3</td>\n",
              "      <td>23</td>\n",
              "      <td>0.0</td>\n",
              "    </tr>\n",
              "    <tr>\n",
              "      <th>8953</th>\n",
              "      <td>19152</td>\n",
              "      <td>29754</td>\n",
              "      <td>city_103</td>\n",
              "      <td>0.920</td>\n",
              "      <td>Female</td>\n",
              "      <td>Has relevent experience</td>\n",
              "      <td>no_enrollment</td>\n",
              "      <td>0</td>\n",
              "      <td>Humanities</td>\n",
              "      <td>7.0</td>\n",
              "      <td>10/49</td>\n",
              "      <td>Funded Startup</td>\n",
              "      <td>1</td>\n",
              "      <td>25</td>\n",
              "      <td>0.0</td>\n",
              "    </tr>\n",
              "    <tr>\n",
              "      <th>8954</th>\n",
              "      <td>19155</td>\n",
              "      <td>24576</td>\n",
              "      <td>city_103</td>\n",
              "      <td>0.920</td>\n",
              "      <td>Male</td>\n",
              "      <td>Has relevent experience</td>\n",
              "      <td>no_enrollment</td>\n",
              "      <td>0</td>\n",
              "      <td>STEM</td>\n",
              "      <td>21.0</td>\n",
              "      <td>50-99</td>\n",
              "      <td>Pvt Ltd</td>\n",
              "      <td>4</td>\n",
              "      <td>44</td>\n",
              "      <td>0.0</td>\n",
              "    </tr>\n",
              "  </tbody>\n",
              "</table>\n",
              "<p>8955 rows × 15 columns</p>\n",
              "</div>\n",
              "      <button class=\"colab-df-convert\" onclick=\"convertToInteractive('df-1486cd9c-6b94-497a-9a80-f01b0703cdce')\"\n",
              "              title=\"Convert this dataframe to an interactive table.\"\n",
              "              style=\"display:none;\">\n",
              "        \n",
              "  <svg xmlns=\"http://www.w3.org/2000/svg\" height=\"24px\"viewBox=\"0 0 24 24\"\n",
              "       width=\"24px\">\n",
              "    <path d=\"M0 0h24v24H0V0z\" fill=\"none\"/>\n",
              "    <path d=\"M18.56 5.44l.94 2.06.94-2.06 2.06-.94-2.06-.94-.94-2.06-.94 2.06-2.06.94zm-11 1L8.5 8.5l.94-2.06 2.06-.94-2.06-.94L8.5 2.5l-.94 2.06-2.06.94zm10 10l.94 2.06.94-2.06 2.06-.94-2.06-.94-.94-2.06-.94 2.06-2.06.94z\"/><path d=\"M17.41 7.96l-1.37-1.37c-.4-.4-.92-.59-1.43-.59-.52 0-1.04.2-1.43.59L10.3 9.45l-7.72 7.72c-.78.78-.78 2.05 0 2.83L4 21.41c.39.39.9.59 1.41.59.51 0 1.02-.2 1.41-.59l7.78-7.78 2.81-2.81c.8-.78.8-2.07 0-2.86zM5.41 20L4 18.59l7.72-7.72 1.47 1.35L5.41 20z\"/>\n",
              "  </svg>\n",
              "      </button>\n",
              "      \n",
              "  <style>\n",
              "    .colab-df-container {\n",
              "      display:flex;\n",
              "      flex-wrap:wrap;\n",
              "      gap: 12px;\n",
              "    }\n",
              "\n",
              "    .colab-df-convert {\n",
              "      background-color: #E8F0FE;\n",
              "      border: none;\n",
              "      border-radius: 50%;\n",
              "      cursor: pointer;\n",
              "      display: none;\n",
              "      fill: #1967D2;\n",
              "      height: 32px;\n",
              "      padding: 0 0 0 0;\n",
              "      width: 32px;\n",
              "    }\n",
              "\n",
              "    .colab-df-convert:hover {\n",
              "      background-color: #E2EBFA;\n",
              "      box-shadow: 0px 1px 2px rgba(60, 64, 67, 0.3), 0px 1px 3px 1px rgba(60, 64, 67, 0.15);\n",
              "      fill: #174EA6;\n",
              "    }\n",
              "\n",
              "    [theme=dark] .colab-df-convert {\n",
              "      background-color: #3B4455;\n",
              "      fill: #D2E3FC;\n",
              "    }\n",
              "\n",
              "    [theme=dark] .colab-df-convert:hover {\n",
              "      background-color: #434B5C;\n",
              "      box-shadow: 0px 1px 3px 1px rgba(0, 0, 0, 0.15);\n",
              "      filter: drop-shadow(0px 1px 2px rgba(0, 0, 0, 0.3));\n",
              "      fill: #FFFFFF;\n",
              "    }\n",
              "  </style>\n",
              "\n",
              "      <script>\n",
              "        const buttonEl =\n",
              "          document.querySelector('#df-1486cd9c-6b94-497a-9a80-f01b0703cdce button.colab-df-convert');\n",
              "        buttonEl.style.display =\n",
              "          google.colab.kernel.accessAllowed ? 'block' : 'none';\n",
              "\n",
              "        async function convertToInteractive(key) {\n",
              "          const element = document.querySelector('#df-1486cd9c-6b94-497a-9a80-f01b0703cdce');\n",
              "          const dataTable =\n",
              "            await google.colab.kernel.invokeFunction('convertToInteractive',\n",
              "                                                     [key], {});\n",
              "          if (!dataTable) return;\n",
              "\n",
              "          const docLinkHtml = 'Like what you see? Visit the ' +\n",
              "            '<a target=\"_blank\" href=https://colab.research.google.com/notebooks/data_table.ipynb>data table notebook</a>'\n",
              "            + ' to learn more about interactive tables.';\n",
              "          element.innerHTML = '';\n",
              "          dataTable['output_type'] = 'display_data';\n",
              "          await google.colab.output.renderOutput(dataTable, element);\n",
              "          const docLink = document.createElement('div');\n",
              "          docLink.innerHTML = docLinkHtml;\n",
              "          element.appendChild(docLink);\n",
              "        }\n",
              "      </script>\n",
              "    </div>\n",
              "  </div>\n",
              "  "
            ]
          },
          "metadata": {},
          "execution_count": 389
        }
      ]
    },
    {
      "cell_type": "markdown",
      "source": [
        "###III. Show some sample data that the records have changed appropriately\n"
      ],
      "metadata": {
        "id": "-ZGyboIH-OEY"
      }
    },
    {
      "cell_type": "code",
      "source": [
        "data['education_level'].value_counts().sort_values(ascending=False).plot(kind='bar')\n",
        "plt.show()\n",
        "data.head(10)"
      ],
      "metadata": {
        "colab": {
          "base_uri": "https://localhost:8080/",
          "height": 689
        },
        "id": "1bflny5w-Pk8",
        "outputId": "08ff69e6-cbe3-4433-8bf1-0834749b8bd5"
      },
      "execution_count": 390,
      "outputs": [
        {
          "output_type": "display_data",
          "data": {
            "text/plain": [
              "<Figure size 432x288 with 1 Axes>"
            ],
            "image/png": "[encoded data removed]"
          },
          "metadata": {
            "needs_background": "light"
          }
        },
        {
          "output_type": "execute_result",
          "data": {
            "text/plain": [
              "   Unnamed: 0  enrollee_id         city  city_development_index gender  \\\n",
              "0           1        29725  city_others                   0.776   Male   \n",
              "1           4          666  city_others                   0.767   Male   \n",
              "2           7          402  city_others                   0.762   Male   \n",
              "3           8        27107     city_103                   0.920   Male   \n",
              "4          11        23853     city_103                   0.920   Male   \n",
              "5          12        25619  city_others                   0.913   Male   \n",
              "6          15         6588     city_114                   0.926   Male   \n",
              "7          20        31972  city_others                   0.843   Male   \n",
              "8          21        19061     city_114                   0.926   Male   \n",
              "9          23         7041  city_others                   0.776   Male   \n",
              "\n",
              "       relevent_experience enrolled_university  education_level  \\\n",
              "0   No relevent experience       no_enrollment                0   \n",
              "1  Has relevent experience       no_enrollment                1   \n",
              "2  Has relevent experience       no_enrollment                0   \n",
              "3  Has relevent experience       no_enrollment                0   \n",
              "4  Has relevent experience       no_enrollment                0   \n",
              "5  Has relevent experience       no_enrollment                0   \n",
              "6  Has relevent experience       no_enrollment                0   \n",
              "7  Has relevent experience       no_enrollment                1   \n",
              "8  Has relevent experience       no_enrollment                1   \n",
              "9  Has relevent experience       no_enrollment                0   \n",
              "\n",
              "  major_discipline  experience company_size    company_type last_new_job  \\\n",
              "0             STEM        15.0        50-99         Pvt Ltd           >4   \n",
              "1             STEM        21.0        50-99  Funded Startup            4   \n",
              "2             STEM        13.0          <10         Pvt Ltd           >4   \n",
              "3             STEM         7.0        50-99         Pvt Ltd            1   \n",
              "4             STEM         5.0    5000-9999         Pvt Ltd            1   \n",
              "5             STEM        21.0    1000-4999         Pvt Ltd            3   \n",
              "6             STEM        16.0        10/49         Pvt Ltd           >4   \n",
              "7             STEM        11.0      100-500         Pvt Ltd            1   \n",
              "8             STEM        11.0      100-500         Pvt Ltd            2   \n",
              "9       Humanities         0.0    1000-4999         Pvt Ltd            1   \n",
              "\n",
              "   training_hours  target  \n",
              "0              47     0.0  \n",
              "1               8     0.0  \n",
              "2              18     1.0  \n",
              "3              46     1.0  \n",
              "4             108     0.0  \n",
              "5              23     0.0  \n",
              "6              18     0.0  \n",
              "7              68     0.0  \n",
              "8              50     0.0  \n",
              "9              65     0.0  "
            ],
            "text/html": [
              "\n",
              "  <div id=\"df-365ed21f-2370-44ef-965f-6449f7b055b8\">\n",
              "    <div class=\"colab-df-container\">\n",
              "      <div>\n",
              "<style scoped>\n",
              "    .dataframe tbody tr th:only-of-type {\n",
              "        vertical-align: middle;\n",
              "    }\n",
              "\n",
              "    .dataframe tbody tr th {\n",
              "        vertical-align: top;\n",
              "    }\n",
              "\n",
              "    .dataframe thead th {\n",
              "        text-align: right;\n",
              "    }\n",
              "</style>\n",
              "<table border=\"1\" class=\"dataframe\">\n",
              "  <thead>\n",
              "    <tr style=\"text-align: right;\">\n",
              "      <th></th>\n",
              "      <th>Unnamed: 0</th>\n",
              "      <th>enrollee_id</th>\n",
              "      <th>city</th>\n",
              "      <th>city_development_index</th>\n",
              "      <th>gender</th>\n",
              "      <th>relevent_experience</th>\n",
              "      <th>enrolled_university</th>\n",
              "      <th>education_level</th>\n",
              "      <th>major_discipline</th>\n",
              "      <th>experience</th>\n",
              "      <th>company_size</th>\n",
              "      <th>company_type</th>\n",
              "      <th>last_new_job</th>\n",
              "      <th>training_hours</th>\n",
              "      <th>target</th>\n",
              "    </tr>\n",
              "  </thead>\n",
              "  <tbody>\n",
              "    <tr>\n",
              "      <th>0</th>\n",
              "      <td>1</td>\n",
              "      <td>29725</td>\n",
              "      <td>city_others</td>\n",
              "      <td>0.776</td>\n",
              "      <td>Male</td>\n",
              "      <td>No relevent experience</td>\n",
              "      <td>no_enrollment</td>\n",
              "      <td>0</td>\n",
              "      <td>STEM</td>\n",
              "      <td>15.0</td>\n",
              "      <td>50-99</td>\n",
              "      <td>Pvt Ltd</td>\n",
              "      <td>&gt;4</td>\n",
              "      <td>47</td>\n",
              "      <td>0.0</td>\n",
              "    </tr>\n",
              "    <tr>\n",
              "      <th>1</th>\n",
              "      <td>4</td>\n",
              "      <td>666</td>\n",
              "      <td>city_others</td>\n",
              "      <td>0.767</td>\n",
              "      <td>Male</td>\n",
              "      <td>Has relevent experience</td>\n",
              "      <td>no_enrollment</td>\n",
              "      <td>1</td>\n",
              "      <td>STEM</td>\n",
              "      <td>21.0</td>\n",
              "      <td>50-99</td>\n",
              "      <td>Funded Startup</td>\n",
              "      <td>4</td>\n",
              "      <td>8</td>\n",
              "      <td>0.0</td>\n",
              "    </tr>\n",
              "    <tr>\n",
              "      <th>2</th>\n",
              "      <td>7</td>\n",
              "      <td>402</td>\n",
              "      <td>city_others</td>\n",
              "      <td>0.762</td>\n",
              "      <td>Male</td>\n",
              "      <td>Has relevent experience</td>\n",
              "      <td>no_enrollment</td>\n",
              "      <td>0</td>\n",
              "      <td>STEM</td>\n",
              "      <td>13.0</td>\n",
              "      <td>&lt;10</td>\n",
              "      <td>Pvt Ltd</td>\n",
              "      <td>&gt;4</td>\n",
              "      <td>18</td>\n",
              "      <td>1.0</td>\n",
              "    </tr>\n",
              "    <tr>\n",
              "      <th>3</th>\n",
              "      <td>8</td>\n",
              "      <td>27107</td>\n",
              "      <td>city_103</td>\n",
              "      <td>0.920</td>\n",
              "      <td>Male</td>\n",
              "      <td>Has relevent experience</td>\n",
              "      <td>no_enrollment</td>\n",
              "      <td>0</td>\n",
              "      <td>STEM</td>\n",
              "      <td>7.0</td>\n",
              "      <td>50-99</td>\n",
              "      <td>Pvt Ltd</td>\n",
              "      <td>1</td>\n",
              "      <td>46</td>\n",
              "      <td>1.0</td>\n",
              "    </tr>\n",
              "    <tr>\n",
              "      <th>4</th>\n",
              "      <td>11</td>\n",
              "      <td>23853</td>\n",
              "      <td>city_103</td>\n",
              "      <td>0.920</td>\n",
              "      <td>Male</td>\n",
              "      <td>Has relevent experience</td>\n",
              "      <td>no_enrollment</td>\n",
              "      <td>0</td>\n",
              "      <td>STEM</td>\n",
              "      <td>5.0</td>\n",
              "      <td>5000-9999</td>\n",
              "      <td>Pvt Ltd</td>\n",
              "      <td>1</td>\n",
              "      <td>108</td>\n",
              "      <td>0.0</td>\n",
              "    </tr>\n",
              "    <tr>\n",
              "      <th>5</th>\n",
              "      <td>12</td>\n",
              "      <td>25619</td>\n",
              "      <td>city_others</td>\n",
              "      <td>0.913</td>\n",
              "      <td>Male</td>\n",
              "      <td>Has relevent experience</td>\n",
              "      <td>no_enrollment</td>\n",
              "      <td>0</td>\n",
              "      <td>STEM</td>\n",
              "      <td>21.0</td>\n",
              "      <td>1000-4999</td>\n",
              "      <td>Pvt Ltd</td>\n",
              "      <td>3</td>\n",
              "      <td>23</td>\n",
              "      <td>0.0</td>\n",
              "    </tr>\n",
              "    <tr>\n",
              "      <th>6</th>\n",
              "      <td>15</td>\n",
              "      <td>6588</td>\n",
              "      <td>city_114</td>\n",
              "      <td>0.926</td>\n",
              "      <td>Male</td>\n",
              "      <td>Has relevent experience</td>\n",
              "      <td>no_enrollment</td>\n",
              "      <td>0</td>\n",
              "      <td>STEM</td>\n",
              "      <td>16.0</td>\n",
              "      <td>10/49</td>\n",
              "      <td>Pvt Ltd</td>\n",
              "      <td>&gt;4</td>\n",
              "      <td>18</td>\n",
              "      <td>0.0</td>\n",
              "    </tr>\n",
              "    <tr>\n",
              "      <th>7</th>\n",
              "      <td>20</td>\n",
              "      <td>31972</td>\n",
              "      <td>city_others</td>\n",
              "      <td>0.843</td>\n",
              "      <td>Male</td>\n",
              "      <td>Has relevent experience</td>\n",
              "      <td>no_enrollment</td>\n",
              "      <td>1</td>\n",
              "      <td>STEM</td>\n",
              "      <td>11.0</td>\n",
              "      <td>100-500</td>\n",
              "      <td>Pvt Ltd</td>\n",
              "      <td>1</td>\n",
              "      <td>68</td>\n",
              "      <td>0.0</td>\n",
              "    </tr>\n",
              "    <tr>\n",
              "      <th>8</th>\n",
              "      <td>21</td>\n",
              "      <td>19061</td>\n",
              "      <td>city_114</td>\n",
              "      <td>0.926</td>\n",
              "      <td>Male</td>\n",
              "      <td>Has relevent experience</td>\n",
              "      <td>no_enrollment</td>\n",
              "      <td>1</td>\n",
              "      <td>STEM</td>\n",
              "      <td>11.0</td>\n",
              "      <td>100-500</td>\n",
              "      <td>Pvt Ltd</td>\n",
              "      <td>2</td>\n",
              "      <td>50</td>\n",
              "      <td>0.0</td>\n",
              "    </tr>\n",
              "    <tr>\n",
              "      <th>9</th>\n",
              "      <td>23</td>\n",
              "      <td>7041</td>\n",
              "      <td>city_others</td>\n",
              "      <td>0.776</td>\n",
              "      <td>Male</td>\n",
              "      <td>Has relevent experience</td>\n",
              "      <td>no_enrollment</td>\n",
              "      <td>0</td>\n",
              "      <td>Humanities</td>\n",
              "      <td>0.0</td>\n",
              "      <td>1000-4999</td>\n",
              "      <td>Pvt Ltd</td>\n",
              "      <td>1</td>\n",
              "      <td>65</td>\n",
              "      <td>0.0</td>\n",
              "    </tr>\n",
              "  </tbody>\n",
              "</table>\n",
              "</div>\n",
              "      <button class=\"colab-df-convert\" onclick=\"convertToInteractive('df-365ed21f-2370-44ef-965f-6449f7b055b8')\"\n",
              "              title=\"Convert this dataframe to an interactive table.\"\n",
              "              style=\"display:none;\">\n",
              "        \n",
              "  <svg xmlns=\"http://www.w3.org/2000/svg\" height=\"24px\"viewBox=\"0 0 24 24\"\n",
              "       width=\"24px\">\n",
              "    <path d=\"M0 0h24v24H0V0z\" fill=\"none\"/>\n",
              "    <path d=\"M18.56 5.44l.94 2.06.94-2.06 2.06-.94-2.06-.94-.94-2.06-.94 2.06-2.06.94zm-11 1L8.5 8.5l.94-2.06 2.06-.94-2.06-.94L8.5 2.5l-.94 2.06-2.06.94zm10 10l.94 2.06.94-2.06 2.06-.94-2.06-.94-.94-2.06-.94 2.06-2.06.94z\"/><path d=\"M17.41 7.96l-1.37-1.37c-.4-.4-.92-.59-1.43-.59-.52 0-1.04.2-1.43.59L10.3 9.45l-7.72 7.72c-.78.78-.78 2.05 0 2.83L4 21.41c.39.39.9.59 1.41.59.51 0 1.02-.2 1.41-.59l7.78-7.78 2.81-2.81c.8-.78.8-2.07 0-2.86zM5.41 20L4 18.59l7.72-7.72 1.47 1.35L5.41 20z\"/>\n",
              "  </svg>\n",
              "      </button>\n",
              "      \n",
              "  <style>\n",
              "    .colab-df-container {\n",
              "      display:flex;\n",
              "      flex-wrap:wrap;\n",
              "      gap: 12px;\n",
              "    }\n",
              "\n",
              "    .colab-df-convert {\n",
              "      background-color: #E8F0FE;\n",
              "      border: none;\n",
              "      border-radius: 50%;\n",
              "      cursor: pointer;\n",
              "      display: none;\n",
              "      fill: #1967D2;\n",
              "      height: 32px;\n",
              "      padding: 0 0 0 0;\n",
              "      width: 32px;\n",
              "    }\n",
              "\n",
              "    .colab-df-convert:hover {\n",
              "      background-color: #E2EBFA;\n",
              "      box-shadow: 0px 1px 2px rgba(60, 64, 67, 0.3), 0px 1px 3px 1px rgba(60, 64, 67, 0.15);\n",
              "      fill: #174EA6;\n",
              "    }\n",
              "\n",
              "    [theme=dark] .colab-df-convert {\n",
              "      background-color: #3B4455;\n",
              "      fill: #D2E3FC;\n",
              "    }\n",
              "\n",
              "    [theme=dark] .colab-df-convert:hover {\n",
              "      background-color: #434B5C;\n",
              "      box-shadow: 0px 1px 3px 1px rgba(0, 0, 0, 0.15);\n",
              "      filter: drop-shadow(0px 1px 2px rgba(0, 0, 0, 0.3));\n",
              "      fill: #FFFFFF;\n",
              "    }\n",
              "  </style>\n",
              "\n",
              "      <script>\n",
              "        const buttonEl =\n",
              "          document.querySelector('#df-365ed21f-2370-44ef-965f-6449f7b055b8 button.colab-df-convert');\n",
              "        buttonEl.style.display =\n",
              "          google.colab.kernel.accessAllowed ? 'block' : 'none';\n",
              "\n",
              "        async function convertToInteractive(key) {\n",
              "          const element = document.querySelector('#df-365ed21f-2370-44ef-965f-6449f7b055b8');\n",
              "          const dataTable =\n",
              "            await google.colab.kernel.invokeFunction('convertToInteractive',\n",
              "                                                     [key], {});\n",
              "          if (!dataTable) return;\n",
              "\n",
              "          const docLinkHtml = 'Like what you see? Visit the ' +\n",
              "            '<a target=\"_blank\" href=https://colab.research.google.com/notebooks/data_table.ipynb>data table notebook</a>'\n",
              "            + ' to learn more about interactive tables.';\n",
              "          element.innerHTML = '';\n",
              "          dataTable['output_type'] = 'display_data';\n",
              "          await google.colab.output.renderOutput(dataTable, element);\n",
              "          const docLink = document.createElement('div');\n",
              "          docLink.innerHTML = docLinkHtml;\n",
              "          element.appendChild(docLink);\n",
              "        }\n",
              "      </script>\n",
              "    </div>\n",
              "  </div>\n",
              "  "
            ]
          },
          "metadata": {},
          "execution_count": 390
        }
      ]
    },
    {
      "cell_type": "markdown",
      "source": [
        "##III. company_size column"
      ],
      "metadata": {
        "id": "bv4ffuqd-i74"
      }
    },
    {
      "cell_type": "markdown",
      "source": [
        "###I. Show the unique values of the company_size column\n"
      ],
      "metadata": {
        "id": "XJ91rI6F-nys"
      }
    },
    {
      "cell_type": "code",
      "source": [
        "company_sz = data['company_size'].unique()\n",
        "print(company_sz)\n",
        "\n",
        "data['company_size'].value_counts().sort_values(ascending=False).plot(kind='bar')\n",
        "plt.show()"
      ],
      "metadata": {
        "colab": {
          "base_uri": "https://localhost:8080/",
          "height": 345
        },
        "id": "mwMi6-Fl_aIi",
        "outputId": "b36e7c18-4cae-4286-ec71-a04bc2dd3caf"
      },
      "execution_count": 391,
      "outputs": [
        {
          "output_type": "stream",
          "name": "stdout",
          "text": [
            "['50-99' '<10' '5000-9999' '1000-4999' '10/49' '100-500' '10000+'\n",
            " '500-999']\n"
          ]
        },
        {
          "output_type": "display_data",
          "data": {
            "text/plain": [
              "<Figure size 432x288 with 1 Axes>"
            ],
            "image/png": "[encoded data removed]"
          },
          "metadata": {
            "needs_background": "light"
          }
        }
      ]
    },
    {
      "cell_type": "markdown",
      "source": [
        "###II. Change the values of the company_size column from 0 to 7 where e0 is <10 and 7 is 10000+. The order of the numbers should be based on the values of the column-like an ordinary variable. "
      ],
      "metadata": {
        "id": "VwM1LfZH_rqo"
      }
    },
    {
      "cell_type": "code",
      "source": [
        "company_sz_cat = {\"company_size\" : {\"<10\": 0,\n",
        "                                    \"10/49\": 1,\n",
        "                                    \"50-99\": 2,\n",
        "                                    \"100-500\": 3,\n",
        "                                    \"500-999\": 4,\n",
        "                                    \"1000-4999\": 5,\n",
        "                                    \"5000-9999\": 6,\n",
        "                                    \"10000+\": 7}}\n",
        "data = data.replace(company_sz_cat)"
      ],
      "metadata": {
        "id": "9uQTAsCJ_99d"
      },
      "execution_count": 392,
      "outputs": []
    },
    {
      "cell_type": "markdown",
      "source": [
        "###III. Show the updated unique values\n"
      ],
      "metadata": {
        "id": "z8c6oFwtByvR"
      }
    },
    {
      "cell_type": "code",
      "source": [
        "data['company_size'].value_counts().sort_values(ascending=False).plot(kind='bar')\n",
        "plt.show()\n",
        "data.head(10)"
      ],
      "metadata": {
        "colab": {
          "base_uri": "https://localhost:8080/",
          "height": 689
        },
        "id": "Ptle4K_GB1rv",
        "outputId": "a5e07907-c743-41f5-86b0-8341532e81e6"
      },
      "execution_count": 393,
      "outputs": [
        {
          "output_type": "display_data",
          "data": {
            "text/plain": [
              "<Figure size 432x288 with 1 Axes>"
            ],
            "image/png": "[encoded data removed]"
          },
          "metadata": {
            "needs_background": "light"
          }
        },
        {
          "output_type": "execute_result",
          "data": {
            "text/plain": [
              "   Unnamed: 0  enrollee_id         city  city_development_index gender  \\\n",
              "0           1        29725  city_others                   0.776   Male   \n",
              "1           4          666  city_others                   0.767   Male   \n",
              "2           7          402  city_others                   0.762   Male   \n",
              "3           8        27107     city_103                   0.920   Male   \n",
              "4          11        23853     city_103                   0.920   Male   \n",
              "5          12        25619  city_others                   0.913   Male   \n",
              "6          15         6588     city_114                   0.926   Male   \n",
              "7          20        31972  city_others                   0.843   Male   \n",
              "8          21        19061     city_114                   0.926   Male   \n",
              "9          23         7041  city_others                   0.776   Male   \n",
              "\n",
              "       relevent_experience enrolled_university  education_level  \\\n",
              "0   No relevent experience       no_enrollment                0   \n",
              "1  Has relevent experience       no_enrollment                1   \n",
              "2  Has relevent experience       no_enrollment                0   \n",
              "3  Has relevent experience       no_enrollment                0   \n",
              "4  Has relevent experience       no_enrollment                0   \n",
              "5  Has relevent experience       no_enrollment                0   \n",
              "6  Has relevent experience       no_enrollment                0   \n",
              "7  Has relevent experience       no_enrollment                1   \n",
              "8  Has relevent experience       no_enrollment                1   \n",
              "9  Has relevent experience       no_enrollment                0   \n",
              "\n",
              "  major_discipline  experience  company_size    company_type last_new_job  \\\n",
              "0             STEM        15.0             2         Pvt Ltd           >4   \n",
              "1             STEM        21.0             2  Funded Startup            4   \n",
              "2             STEM        13.0             0         Pvt Ltd           >4   \n",
              "3             STEM         7.0             2         Pvt Ltd            1   \n",
              "4             STEM         5.0             6         Pvt Ltd            1   \n",
              "5             STEM        21.0             5         Pvt Ltd            3   \n",
              "6             STEM        16.0             1         Pvt Ltd           >4   \n",
              "7             STEM        11.0             3         Pvt Ltd            1   \n",
              "8             STEM        11.0             3         Pvt Ltd            2   \n",
              "9       Humanities         0.0             5         Pvt Ltd            1   \n",
              "\n",
              "   training_hours  target  \n",
              "0              47     0.0  \n",
              "1               8     0.0  \n",
              "2              18     1.0  \n",
              "3              46     1.0  \n",
              "4             108     0.0  \n",
              "5              23     0.0  \n",
              "6              18     0.0  \n",
              "7              68     0.0  \n",
              "8              50     0.0  \n",
              "9              65     0.0  "
            ],
            "text/html": [
              "\n",
              "  <div id=\"df-f0b9e0ce-50e7-4afc-8cb6-67b9b5ccfcf6\">\n",
              "    <div class=\"colab-df-container\">\n",
              "      <div>\n",
              "<style scoped>\n",
              "    .dataframe tbody tr th:only-of-type {\n",
              "        vertical-align: middle;\n",
              "    }\n",
              "\n",
              "    .dataframe tbody tr th {\n",
              "        vertical-align: top;\n",
              "    }\n",
              "\n",
              "    .dataframe thead th {\n",
              "        text-align: right;\n",
              "    }\n",
              "</style>\n",
              "<table border=\"1\" class=\"dataframe\">\n",
              "  <thead>\n",
              "    <tr style=\"text-align: right;\">\n",
              "      <th></th>\n",
              "      <th>Unnamed: 0</th>\n",
              "      <th>enrollee_id</th>\n",
              "      <th>city</th>\n",
              "      <th>city_development_index</th>\n",
              "      <th>gender</th>\n",
              "      <th>relevent_experience</th>\n",
              "      <th>enrolled_university</th>\n",
              "      <th>education_level</th>\n",
              "      <th>major_discipline</th>\n",
              "      <th>experience</th>\n",
              "      <th>company_size</th>\n",
              "      <th>company_type</th>\n",
              "      <th>last_new_job</th>\n",
              "      <th>training_hours</th>\n",
              "      <th>target</th>\n",
              "    </tr>\n",
              "  </thead>\n",
              "  <tbody>\n",
              "    <tr>\n",
              "      <th>0</th>\n",
              "      <td>1</td>\n",
              "      <td>29725</td>\n",
              "      <td>city_others</td>\n",
              "      <td>0.776</td>\n",
              "      <td>Male</td>\n",
              "      <td>No relevent experience</td>\n",
              "      <td>no_enrollment</td>\n",
              "      <td>0</td>\n",
              "      <td>STEM</td>\n",
              "      <td>15.0</td>\n",
              "      <td>2</td>\n",
              "      <td>Pvt Ltd</td>\n",
              "      <td>&gt;4</td>\n",
              "      <td>47</td>\n",
              "      <td>0.0</td>\n",
              "    </tr>\n",
              "    <tr>\n",
              "      <th>1</th>\n",
              "      <td>4</td>\n",
              "      <td>666</td>\n",
              "      <td>city_others</td>\n",
              "      <td>0.767</td>\n",
              "      <td>Male</td>\n",
              "      <td>Has relevent experience</td>\n",
              "      <td>no_enrollment</td>\n",
              "      <td>1</td>\n",
              "      <td>STEM</td>\n",
              "      <td>21.0</td>\n",
              "      <td>2</td>\n",
              "      <td>Funded Startup</td>\n",
              "      <td>4</td>\n",
              "      <td>8</td>\n",
              "      <td>0.0</td>\n",
              "    </tr>\n",
              "    <tr>\n",
              "      <th>2</th>\n",
              "      <td>7</td>\n",
              "      <td>402</td>\n",
              "      <td>city_others</td>\n",
              "      <td>0.762</td>\n",
              "      <td>Male</td>\n",
              "      <td>Has relevent experience</td>\n",
              "      <td>no_enrollment</td>\n",
              "      <td>0</td>\n",
              "      <td>STEM</td>\n",
              "      <td>13.0</td>\n",
              "      <td>0</td>\n",
              "      <td>Pvt Ltd</td>\n",
              "      <td>&gt;4</td>\n",
              "      <td>18</td>\n",
              "      <td>1.0</td>\n",
              "    </tr>\n",
              "    <tr>\n",
              "      <th>3</th>\n",
              "      <td>8</td>\n",
              "      <td>27107</td>\n",
              "      <td>city_103</td>\n",
              "      <td>0.920</td>\n",
              "      <td>Male</td>\n",
              "      <td>Has relevent experience</td>\n",
              "      <td>no_enrollment</td>\n",
              "      <td>0</td>\n",
              "      <td>STEM</td>\n",
              "      <td>7.0</td>\n",
              "      <td>2</td>\n",
              "      <td>Pvt Ltd</td>\n",
              "      <td>1</td>\n",
              "      <td>46</td>\n",
              "      <td>1.0</td>\n",
              "    </tr>\n",
              "    <tr>\n",
              "      <th>4</th>\n",
              "      <td>11</td>\n",
              "      <td>23853</td>\n",
              "      <td>city_103</td>\n",
              "      <td>0.920</td>\n",
              "      <td>Male</td>\n",
              "      <td>Has relevent experience</td>\n",
              "      <td>no_enrollment</td>\n",
              "      <td>0</td>\n",
              "      <td>STEM</td>\n",
              "      <td>5.0</td>\n",
              "      <td>6</td>\n",
              "      <td>Pvt Ltd</td>\n",
              "      <td>1</td>\n",
              "      <td>108</td>\n",
              "      <td>0.0</td>\n",
              "    </tr>\n",
              "    <tr>\n",
              "      <th>5</th>\n",
              "      <td>12</td>\n",
              "      <td>25619</td>\n",
              "      <td>city_others</td>\n",
              "      <td>0.913</td>\n",
              "      <td>Male</td>\n",
              "      <td>Has relevent experience</td>\n",
              "      <td>no_enrollment</td>\n",
              "      <td>0</td>\n",
              "      <td>STEM</td>\n",
              "      <td>21.0</td>\n",
              "      <td>5</td>\n",
              "      <td>Pvt Ltd</td>\n",
              "      <td>3</td>\n",
              "      <td>23</td>\n",
              "      <td>0.0</td>\n",
              "    </tr>\n",
              "    <tr>\n",
              "      <th>6</th>\n",
              "      <td>15</td>\n",
              "      <td>6588</td>\n",
              "      <td>city_114</td>\n",
              "      <td>0.926</td>\n",
              "      <td>Male</td>\n",
              "      <td>Has relevent experience</td>\n",
              "      <td>no_enrollment</td>\n",
              "      <td>0</td>\n",
              "      <td>STEM</td>\n",
              "      <td>16.0</td>\n",
              "      <td>1</td>\n",
              "      <td>Pvt Ltd</td>\n",
              "      <td>&gt;4</td>\n",
              "      <td>18</td>\n",
              "      <td>0.0</td>\n",
              "    </tr>\n",
              "    <tr>\n",
              "      <th>7</th>\n",
              "      <td>20</td>\n",
              "      <td>31972</td>\n",
              "      <td>city_others</td>\n",
              "      <td>0.843</td>\n",
              "      <td>Male</td>\n",
              "      <td>Has relevent experience</td>\n",
              "      <td>no_enrollment</td>\n",
              "      <td>1</td>\n",
              "      <td>STEM</td>\n",
              "      <td>11.0</td>\n",
              "      <td>3</td>\n",
              "      <td>Pvt Ltd</td>\n",
              "      <td>1</td>\n",
              "      <td>68</td>\n",
              "      <td>0.0</td>\n",
              "    </tr>\n",
              "    <tr>\n",
              "      <th>8</th>\n",
              "      <td>21</td>\n",
              "      <td>19061</td>\n",
              "      <td>city_114</td>\n",
              "      <td>0.926</td>\n",
              "      <td>Male</td>\n",
              "      <td>Has relevent experience</td>\n",
              "      <td>no_enrollment</td>\n",
              "      <td>1</td>\n",
              "      <td>STEM</td>\n",
              "      <td>11.0</td>\n",
              "      <td>3</td>\n",
              "      <td>Pvt Ltd</td>\n",
              "      <td>2</td>\n",
              "      <td>50</td>\n",
              "      <td>0.0</td>\n",
              "    </tr>\n",
              "    <tr>\n",
              "      <th>9</th>\n",
              "      <td>23</td>\n",
              "      <td>7041</td>\n",
              "      <td>city_others</td>\n",
              "      <td>0.776</td>\n",
              "      <td>Male</td>\n",
              "      <td>Has relevent experience</td>\n",
              "      <td>no_enrollment</td>\n",
              "      <td>0</td>\n",
              "      <td>Humanities</td>\n",
              "      <td>0.0</td>\n",
              "      <td>5</td>\n",
              "      <td>Pvt Ltd</td>\n",
              "      <td>1</td>\n",
              "      <td>65</td>\n",
              "      <td>0.0</td>\n",
              "    </tr>\n",
              "  </tbody>\n",
              "</table>\n",
              "</div>\n",
              "      <button class=\"colab-df-convert\" onclick=\"convertToInteractive('df-f0b9e0ce-50e7-4afc-8cb6-67b9b5ccfcf6')\"\n",
              "              title=\"Convert this dataframe to an interactive table.\"\n",
              "              style=\"display:none;\">\n",
              "        \n",
              "  <svg xmlns=\"http://www.w3.org/2000/svg\" height=\"24px\"viewBox=\"0 0 24 24\"\n",
              "       width=\"24px\">\n",
              "    <path d=\"M0 0h24v24H0V0z\" fill=\"none\"/>\n",
              "    <path d=\"M18.56 5.44l.94 2.06.94-2.06 2.06-.94-2.06-.94-.94-2.06-.94 2.06-2.06.94zm-11 1L8.5 8.5l.94-2.06 2.06-.94-2.06-.94L8.5 2.5l-.94 2.06-2.06.94zm10 10l.94 2.06.94-2.06 2.06-.94-2.06-.94-.94-2.06-.94 2.06-2.06.94z\"/><path d=\"M17.41 7.96l-1.37-1.37c-.4-.4-.92-.59-1.43-.59-.52 0-1.04.2-1.43.59L10.3 9.45l-7.72 7.72c-.78.78-.78 2.05 0 2.83L4 21.41c.39.39.9.59 1.41.59.51 0 1.02-.2 1.41-.59l7.78-7.78 2.81-2.81c.8-.78.8-2.07 0-2.86zM5.41 20L4 18.59l7.72-7.72 1.47 1.35L5.41 20z\"/>\n",
              "  </svg>\n",
              "      </button>\n",
              "      \n",
              "  <style>\n",
              "    .colab-df-container {\n",
              "      display:flex;\n",
              "      flex-wrap:wrap;\n",
              "      gap: 12px;\n",
              "    }\n",
              "\n",
              "    .colab-df-convert {\n",
              "      background-color: #E8F0FE;\n",
              "      border: none;\n",
              "      border-radius: 50%;\n",
              "      cursor: pointer;\n",
              "      display: none;\n",
              "      fill: #1967D2;\n",
              "      height: 32px;\n",
              "      padding: 0 0 0 0;\n",
              "      width: 32px;\n",
              "    }\n",
              "\n",
              "    .colab-df-convert:hover {\n",
              "      background-color: #E2EBFA;\n",
              "      box-shadow: 0px 1px 2px rgba(60, 64, 67, 0.3), 0px 1px 3px 1px rgba(60, 64, 67, 0.15);\n",
              "      fill: #174EA6;\n",
              "    }\n",
              "\n",
              "    [theme=dark] .colab-df-convert {\n",
              "      background-color: #3B4455;\n",
              "      fill: #D2E3FC;\n",
              "    }\n",
              "\n",
              "    [theme=dark] .colab-df-convert:hover {\n",
              "      background-color: #434B5C;\n",
              "      box-shadow: 0px 1px 3px 1px rgba(0, 0, 0, 0.15);\n",
              "      filter: drop-shadow(0px 1px 2px rgba(0, 0, 0, 0.3));\n",
              "      fill: #FFFFFF;\n",
              "    }\n",
              "  </style>\n",
              "\n",
              "      <script>\n",
              "        const buttonEl =\n",
              "          document.querySelector('#df-f0b9e0ce-50e7-4afc-8cb6-67b9b5ccfcf6 button.colab-df-convert');\n",
              "        buttonEl.style.display =\n",
              "          google.colab.kernel.accessAllowed ? 'block' : 'none';\n",
              "\n",
              "        async function convertToInteractive(key) {\n",
              "          const element = document.querySelector('#df-f0b9e0ce-50e7-4afc-8cb6-67b9b5ccfcf6');\n",
              "          const dataTable =\n",
              "            await google.colab.kernel.invokeFunction('convertToInteractive',\n",
              "                                                     [key], {});\n",
              "          if (!dataTable) return;\n",
              "\n",
              "          const docLinkHtml = 'Like what you see? Visit the ' +\n",
              "            '<a target=\"_blank\" href=https://colab.research.google.com/notebooks/data_table.ipynb>data table notebook</a>'\n",
              "            + ' to learn more about interactive tables.';\n",
              "          element.innerHTML = '';\n",
              "          dataTable['output_type'] = 'display_data';\n",
              "          await google.colab.output.renderOutput(dataTable, element);\n",
              "          const docLink = document.createElement('div');\n",
              "          docLink.innerHTML = docLinkHtml;\n",
              "          element.appendChild(docLink);\n",
              "        }\n",
              "      </script>\n",
              "    </div>\n",
              "  </div>\n",
              "  "
            ]
          },
          "metadata": {},
          "execution_count": 393
        }
      ]
    },
    {
      "cell_type": "markdown",
      "source": [
        "##IV. Last_new_job"
      ],
      "metadata": {
        "id": "jjTo1gzHCpm1"
      }
    },
    {
      "cell_type": "markdown",
      "source": [
        "###I. Show the unique values of the last_new_job column\n"
      ],
      "metadata": {
        "id": "3B9JPklcCt-8"
      }
    },
    {
      "cell_type": "code",
      "source": [
        "last_job = data['last_new_job'].unique()\n",
        "print(last_job)\n",
        "\n",
        "data['last_new_job'].value_counts().sort_values(ascending=False).plot(kind='bar')\n",
        "plt.show()"
      ],
      "metadata": {
        "colab": {
          "base_uri": "https://localhost:8080/",
          "height": 304
        },
        "id": "irfLgcrsC0dq",
        "outputId": "67623de1-340f-4287-a1d5-9c00ec317b98"
      },
      "execution_count": 394,
      "outputs": [
        {
          "output_type": "stream",
          "name": "stdout",
          "text": [
            "['>4' '4' '1' '3' '2' 'never']\n"
          ]
        },
        {
          "output_type": "display_data",
          "data": {
            "text/plain": [
              "<Figure size 432x288 with 1 Axes>"
            ],
            "image/png": "[encoded data removed]"
          },
          "metadata": {
            "needs_background": "light"
          }
        }
      ]
    },
    {
      "cell_type": "markdown",
      "source": [
        "###II. Convert the values of this column to never->0, 1->1,....>4 -->5"
      ],
      "metadata": {
        "id": "Susiwn2zDGH9"
      }
    },
    {
      "cell_type": "code",
      "source": [
        "last_job_cats = {'last_new_job': {'never': 0,\n",
        "                                  '1': 1,\n",
        "                                  '2': 2,\n",
        "                                  '3': 3,\n",
        "                                  '4': 4,\n",
        "                                  '>4': 5}}\n",
        "data = data.replace(last_job_cats)"
      ],
      "metadata": {
        "id": "wxz9SVvVDKEa"
      },
      "execution_count": 395,
      "outputs": []
    },
    {
      "cell_type": "markdown",
      "source": [
        "###III. Show the updated values\n"
      ],
      "metadata": {
        "id": "EvqbjJdSD_8J"
      }
    },
    {
      "cell_type": "code",
      "source": [
        "data['last_new_job'].value_counts().sort_values(ascending=False).plot(kind='bar')\n",
        "plt.show()\n",
        "data.head(10)"
      ],
      "metadata": {
        "colab": {
          "base_uri": "https://localhost:8080/",
          "height": 691
        },
        "id": "CycTUrSSECp6",
        "outputId": "a633f4d2-7932-4c85-e155-dad5f13bac1b"
      },
      "execution_count": 396,
      "outputs": [
        {
          "output_type": "display_data",
          "data": {
            "text/plain": [
              "<Figure size 432x288 with 1 Axes>"
            ],
            "image/png": "[encoded data removed]"
          },
          "metadata": {
            "needs_background": "light"
          }
        },
        {
          "output_type": "execute_result",
          "data": {
            "text/plain": [
              "   Unnamed: 0  enrollee_id         city  city_development_index gender  \\\n",
              "0           1        29725  city_others                   0.776   Male   \n",
              "1           4          666  city_others                   0.767   Male   \n",
              "2           7          402  city_others                   0.762   Male   \n",
              "3           8        27107     city_103                   0.920   Male   \n",
              "4          11        23853     city_103                   0.920   Male   \n",
              "5          12        25619  city_others                   0.913   Male   \n",
              "6          15         6588     city_114                   0.926   Male   \n",
              "7          20        31972  city_others                   0.843   Male   \n",
              "8          21        19061     city_114                   0.926   Male   \n",
              "9          23         7041  city_others                   0.776   Male   \n",
              "\n",
              "       relevent_experience enrolled_university  education_level  \\\n",
              "0   No relevent experience       no_enrollment                0   \n",
              "1  Has relevent experience       no_enrollment                1   \n",
              "2  Has relevent experience       no_enrollment                0   \n",
              "3  Has relevent experience       no_enrollment                0   \n",
              "4  Has relevent experience       no_enrollment                0   \n",
              "5  Has relevent experience       no_enrollment                0   \n",
              "6  Has relevent experience       no_enrollment                0   \n",
              "7  Has relevent experience       no_enrollment                1   \n",
              "8  Has relevent experience       no_enrollment                1   \n",
              "9  Has relevent experience       no_enrollment                0   \n",
              "\n",
              "  major_discipline  experience  company_size    company_type  last_new_job  \\\n",
              "0             STEM        15.0             2         Pvt Ltd             5   \n",
              "1             STEM        21.0             2  Funded Startup             4   \n",
              "2             STEM        13.0             0         Pvt Ltd             5   \n",
              "3             STEM         7.0             2         Pvt Ltd             1   \n",
              "4             STEM         5.0             6         Pvt Ltd             1   \n",
              "5             STEM        21.0             5         Pvt Ltd             3   \n",
              "6             STEM        16.0             1         Pvt Ltd             5   \n",
              "7             STEM        11.0             3         Pvt Ltd             1   \n",
              "8             STEM        11.0             3         Pvt Ltd             2   \n",
              "9       Humanities         0.0             5         Pvt Ltd             1   \n",
              "\n",
              "   training_hours  target  \n",
              "0              47     0.0  \n",
              "1               8     0.0  \n",
              "2              18     1.0  \n",
              "3              46     1.0  \n",
              "4             108     0.0  \n",
              "5              23     0.0  \n",
              "6              18     0.0  \n",
              "7              68     0.0  \n",
              "8              50     0.0  \n",
              "9              65     0.0  "
            ],
            "text/html": [
              "\n",
              "  <div id=\"df-4a243f38-4d85-4c47-9894-5b88c74081af\">\n",
              "    <div class=\"colab-df-container\">\n",
              "      <div>\n",
              "<style scoped>\n",
              "    .dataframe tbody tr th:only-of-type {\n",
              "        vertical-align: middle;\n",
              "    }\n",
              "\n",
              "    .dataframe tbody tr th {\n",
              "        vertical-align: top;\n",
              "    }\n",
              "\n",
              "    .dataframe thead th {\n",
              "        text-align: right;\n",
              "    }\n",
              "</style>\n",
              "<table border=\"1\" class=\"dataframe\">\n",
              "  <thead>\n",
              "    <tr style=\"text-align: right;\">\n",
              "      <th></th>\n",
              "      <th>Unnamed: 0</th>\n",
              "      <th>enrollee_id</th>\n",
              "      <th>city</th>\n",
              "      <th>city_development_index</th>\n",
              "      <th>gender</th>\n",
              "      <th>relevent_experience</th>\n",
              "      <th>enrolled_university</th>\n",
              "      <th>education_level</th>\n",
              "      <th>major_discipline</th>\n",
              "      <th>experience</th>\n",
              "      <th>company_size</th>\n",
              "      <th>company_type</th>\n",
              "      <th>last_new_job</th>\n",
              "      <th>training_hours</th>\n",
              "      <th>target</th>\n",
              "    </tr>\n",
              "  </thead>\n",
              "  <tbody>\n",
              "    <tr>\n",
              "      <th>0</th>\n",
              "      <td>1</td>\n",
              "      <td>29725</td>\n",
              "      <td>city_others</td>\n",
              "      <td>0.776</td>\n",
              "      <td>Male</td>\n",
              "      <td>No relevent experience</td>\n",
              "      <td>no_enrollment</td>\n",
              "      <td>0</td>\n",
              "      <td>STEM</td>\n",
              "      <td>15.0</td>\n",
              "      <td>2</td>\n",
              "      <td>Pvt Ltd</td>\n",
              "      <td>5</td>\n",
              "      <td>47</td>\n",
              "      <td>0.0</td>\n",
              "    </tr>\n",
              "    <tr>\n",
              "      <th>1</th>\n",
              "      <td>4</td>\n",
              "      <td>666</td>\n",
              "      <td>city_others</td>\n",
              "      <td>0.767</td>\n",
              "      <td>Male</td>\n",
              "      <td>Has relevent experience</td>\n",
              "      <td>no_enrollment</td>\n",
              "      <td>1</td>\n",
              "      <td>STEM</td>\n",
              "      <td>21.0</td>\n",
              "      <td>2</td>\n",
              "      <td>Funded Startup</td>\n",
              "      <td>4</td>\n",
              "      <td>8</td>\n",
              "      <td>0.0</td>\n",
              "    </tr>\n",
              "    <tr>\n",
              "      <th>2</th>\n",
              "      <td>7</td>\n",
              "      <td>402</td>\n",
              "      <td>city_others</td>\n",
              "      <td>0.762</td>\n",
              "      <td>Male</td>\n",
              "      <td>Has relevent experience</td>\n",
              "      <td>no_enrollment</td>\n",
              "      <td>0</td>\n",
              "      <td>STEM</td>\n",
              "      <td>13.0</td>\n",
              "      <td>0</td>\n",
              "      <td>Pvt Ltd</td>\n",
              "      <td>5</td>\n",
              "      <td>18</td>\n",
              "      <td>1.0</td>\n",
              "    </tr>\n",
              "    <tr>\n",
              "      <th>3</th>\n",
              "      <td>8</td>\n",
              "      <td>27107</td>\n",
              "      <td>city_103</td>\n",
              "      <td>0.920</td>\n",
              "      <td>Male</td>\n",
              "      <td>Has relevent experience</td>\n",
              "      <td>no_enrollment</td>\n",
              "      <td>0</td>\n",
              "      <td>STEM</td>\n",
              "      <td>7.0</td>\n",
              "      <td>2</td>\n",
              "      <td>Pvt Ltd</td>\n",
              "      <td>1</td>\n",
              "      <td>46</td>\n",
              "      <td>1.0</td>\n",
              "    </tr>\n",
              "    <tr>\n",
              "      <th>4</th>\n",
              "      <td>11</td>\n",
              "      <td>23853</td>\n",
              "      <td>city_103</td>\n",
              "      <td>0.920</td>\n",
              "      <td>Male</td>\n",
              "      <td>Has relevent experience</td>\n",
              "      <td>no_enrollment</td>\n",
              "      <td>0</td>\n",
              "      <td>STEM</td>\n",
              "      <td>5.0</td>\n",
              "      <td>6</td>\n",
              "      <td>Pvt Ltd</td>\n",
              "      <td>1</td>\n",
              "      <td>108</td>\n",
              "      <td>0.0</td>\n",
              "    </tr>\n",
              "    <tr>\n",
              "      <th>5</th>\n",
              "      <td>12</td>\n",
              "      <td>25619</td>\n",
              "      <td>city_others</td>\n",
              "      <td>0.913</td>\n",
              "      <td>Male</td>\n",
              "      <td>Has relevent experience</td>\n",
              "      <td>no_enrollment</td>\n",
              "      <td>0</td>\n",
              "      <td>STEM</td>\n",
              "      <td>21.0</td>\n",
              "      <td>5</td>\n",
              "      <td>Pvt Ltd</td>\n",
              "      <td>3</td>\n",
              "      <td>23</td>\n",
              "      <td>0.0</td>\n",
              "    </tr>\n",
              "    <tr>\n",
              "      <th>6</th>\n",
              "      <td>15</td>\n",
              "      <td>6588</td>\n",
              "      <td>city_114</td>\n",
              "      <td>0.926</td>\n",
              "      <td>Male</td>\n",
              "      <td>Has relevent experience</td>\n",
              "      <td>no_enrollment</td>\n",
              "      <td>0</td>\n",
              "      <td>STEM</td>\n",
              "      <td>16.0</td>\n",
              "      <td>1</td>\n",
              "      <td>Pvt Ltd</td>\n",
              "      <td>5</td>\n",
              "      <td>18</td>\n",
              "      <td>0.0</td>\n",
              "    </tr>\n",
              "    <tr>\n",
              "      <th>7</th>\n",
              "      <td>20</td>\n",
              "      <td>31972</td>\n",
              "      <td>city_others</td>\n",
              "      <td>0.843</td>\n",
              "      <td>Male</td>\n",
              "      <td>Has relevent experience</td>\n",
              "      <td>no_enrollment</td>\n",
              "      <td>1</td>\n",
              "      <td>STEM</td>\n",
              "      <td>11.0</td>\n",
              "      <td>3</td>\n",
              "      <td>Pvt Ltd</td>\n",
              "      <td>1</td>\n",
              "      <td>68</td>\n",
              "      <td>0.0</td>\n",
              "    </tr>\n",
              "    <tr>\n",
              "      <th>8</th>\n",
              "      <td>21</td>\n",
              "      <td>19061</td>\n",
              "      <td>city_114</td>\n",
              "      <td>0.926</td>\n",
              "      <td>Male</td>\n",
              "      <td>Has relevent experience</td>\n",
              "      <td>no_enrollment</td>\n",
              "      <td>1</td>\n",
              "      <td>STEM</td>\n",
              "      <td>11.0</td>\n",
              "      <td>3</td>\n",
              "      <td>Pvt Ltd</td>\n",
              "      <td>2</td>\n",
              "      <td>50</td>\n",
              "      <td>0.0</td>\n",
              "    </tr>\n",
              "    <tr>\n",
              "      <th>9</th>\n",
              "      <td>23</td>\n",
              "      <td>7041</td>\n",
              "      <td>city_others</td>\n",
              "      <td>0.776</td>\n",
              "      <td>Male</td>\n",
              "      <td>Has relevent experience</td>\n",
              "      <td>no_enrollment</td>\n",
              "      <td>0</td>\n",
              "      <td>Humanities</td>\n",
              "      <td>0.0</td>\n",
              "      <td>5</td>\n",
              "      <td>Pvt Ltd</td>\n",
              "      <td>1</td>\n",
              "      <td>65</td>\n",
              "      <td>0.0</td>\n",
              "    </tr>\n",
              "  </tbody>\n",
              "</table>\n",
              "</div>\n",
              "      <button class=\"colab-df-convert\" onclick=\"convertToInteractive('df-4a243f38-4d85-4c47-9894-5b88c74081af')\"\n",
              "              title=\"Convert this dataframe to an interactive table.\"\n",
              "              style=\"display:none;\">\n",
              "        \n",
              "  <svg xmlns=\"http://www.w3.org/2000/svg\" height=\"24px\"viewBox=\"0 0 24 24\"\n",
              "       width=\"24px\">\n",
              "    <path d=\"M0 0h24v24H0V0z\" fill=\"none\"/>\n",
              "    <path d=\"M18.56 5.44l.94 2.06.94-2.06 2.06-.94-2.06-.94-.94-2.06-.94 2.06-2.06.94zm-11 1L8.5 8.5l.94-2.06 2.06-.94-2.06-.94L8.5 2.5l-.94 2.06-2.06.94zm10 10l.94 2.06.94-2.06 2.06-.94-2.06-.94-.94-2.06-.94 2.06-2.06.94z\"/><path d=\"M17.41 7.96l-1.37-1.37c-.4-.4-.92-.59-1.43-.59-.52 0-1.04.2-1.43.59L10.3 9.45l-7.72 7.72c-.78.78-.78 2.05 0 2.83L4 21.41c.39.39.9.59 1.41.59.51 0 1.02-.2 1.41-.59l7.78-7.78 2.81-2.81c.8-.78.8-2.07 0-2.86zM5.41 20L4 18.59l7.72-7.72 1.47 1.35L5.41 20z\"/>\n",
              "  </svg>\n",
              "      </button>\n",
              "      \n",
              "  <style>\n",
              "    .colab-df-container {\n",
              "      display:flex;\n",
              "      flex-wrap:wrap;\n",
              "      gap: 12px;\n",
              "    }\n",
              "\n",
              "    .colab-df-convert {\n",
              "      background-color: #E8F0FE;\n",
              "      border: none;\n",
              "      border-radius: 50%;\n",
              "      cursor: pointer;\n",
              "      display: none;\n",
              "      fill: #1967D2;\n",
              "      height: 32px;\n",
              "      padding: 0 0 0 0;\n",
              "      width: 32px;\n",
              "    }\n",
              "\n",
              "    .colab-df-convert:hover {\n",
              "      background-color: #E2EBFA;\n",
              "      box-shadow: 0px 1px 2px rgba(60, 64, 67, 0.3), 0px 1px 3px 1px rgba(60, 64, 67, 0.15);\n",
              "      fill: #174EA6;\n",
              "    }\n",
              "\n",
              "    [theme=dark] .colab-df-convert {\n",
              "      background-color: #3B4455;\n",
              "      fill: #D2E3FC;\n",
              "    }\n",
              "\n",
              "    [theme=dark] .colab-df-convert:hover {\n",
              "      background-color: #434B5C;\n",
              "      box-shadow: 0px 1px 3px 1px rgba(0, 0, 0, 0.15);\n",
              "      filter: drop-shadow(0px 1px 2px rgba(0, 0, 0, 0.3));\n",
              "      fill: #FFFFFF;\n",
              "    }\n",
              "  </style>\n",
              "\n",
              "      <script>\n",
              "        const buttonEl =\n",
              "          document.querySelector('#df-4a243f38-4d85-4c47-9894-5b88c74081af button.colab-df-convert');\n",
              "        buttonEl.style.display =\n",
              "          google.colab.kernel.accessAllowed ? 'block' : 'none';\n",
              "\n",
              "        async function convertToInteractive(key) {\n",
              "          const element = document.querySelector('#df-4a243f38-4d85-4c47-9894-5b88c74081af');\n",
              "          const dataTable =\n",
              "            await google.colab.kernel.invokeFunction('convertToInteractive',\n",
              "                                                     [key], {});\n",
              "          if (!dataTable) return;\n",
              "\n",
              "          const docLinkHtml = 'Like what you see? Visit the ' +\n",
              "            '<a target=\"_blank\" href=https://colab.research.google.com/notebooks/data_table.ipynb>data table notebook</a>'\n",
              "            + ' to learn more about interactive tables.';\n",
              "          element.innerHTML = '';\n",
              "          dataTable['output_type'] = 'display_data';\n",
              "          await google.colab.output.renderOutput(dataTable, element);\n",
              "          const docLink = document.createElement('div');\n",
              "          docLink.innerHTML = docLinkHtml;\n",
              "          element.appendChild(docLink);\n",
              "        }\n",
              "      </script>\n",
              "    </div>\n",
              "  </div>\n",
              "  "
            ]
          },
          "metadata": {},
          "execution_count": 396
        }
      ]
    },
    {
      "cell_type": "markdown",
      "source": [
        "##V. Other columns"
      ],
      "metadata": {
        "id": "IXuqsm44EQUs"
      }
    },
    {
      "cell_type": "markdown",
      "source": [
        "###I. Show the unique values of company_type, major_descipline, enrolled_university, relevant_experience, gender, and updated city column"
      ],
      "metadata": {
        "id": "LwbDgMbPESo2"
      }
    },
    {
      "cell_type": "code",
      "source": [
        "print(data['company_type'].unique())\n",
        "print(data['major_discipline'].unique())\n",
        "print(data['enrolled_university'].unique())\n",
        "print(data['relevent_experience'].unique())\n",
        "print(data['gender'].unique())\n",
        "print(data['city'].unique())"
      ],
      "metadata": {
        "colab": {
          "base_uri": "https://localhost:8080/",
          "height": 0
        },
        "id": "1PgZlC3GEZtQ",
        "outputId": "abfa742b-a448-4d9b-c9f9-e67de4c946a6"
      },
      "execution_count": 397,
      "outputs": [
        {
          "output_type": "stream",
          "name": "stdout",
          "text": [
            "['Pvt Ltd' 'Funded Startup' 'Early Stage Startup' 'Public Sector' 'NGO'\n",
            " 'Other']\n",
            "['STEM' 'Humanities' 'Business Degree' 'Other' 'No Major' 'Arts']\n",
            "['no_enrollment' 'Part time course' 'Full time course']\n",
            "['No relevent experience' 'Has relevent experience']\n",
            "['Male' 'Female' 'Other']\n",
            "['city_others' 'city_103' 'city_114' 'city_21' 'city_16']\n"
          ]
        }
      ]
    },
    {
      "cell_type": "markdown",
      "source": [
        "###II. As one-hot encoding is a bit strict, use panda's get_dummies function to create binary columns for the values of the following columns:\n"
      ],
      "metadata": {
        "id": "QaVqrrbCFTs4"
      }
    },
    {
      "cell_type": "markdown",
      "source": [
        "####company_tye, major_descipline, enrolled_university, relevant_eperience, gender, updated city column"
      ],
      "metadata": {
        "id": "1EamzGLbJOAD"
      }
    },
    {
      "cell_type": "code",
      "source": [
        "data = pd.get_dummies(data, columns=['company_type', 'major_discipline', 'enrolled_university', 'relevent_experience', 'gender', 'city'])\n",
        "data.head()"
      ],
      "metadata": {
        "colab": {
          "base_uri": "https://localhost:8080/",
          "height": 287
        },
        "id": "djZ36NABHvC_",
        "outputId": "9a94ac57-d10b-4044-a9eb-22f86d73deb5"
      },
      "execution_count": 398,
      "outputs": [
        {
          "output_type": "execute_result",
          "data": {
            "text/plain": [
              "   Unnamed: 0  enrollee_id  city_development_index  education_level  \\\n",
              "0           1        29725                   0.776                0   \n",
              "1           4          666                   0.767                1   \n",
              "2           7          402                   0.762                0   \n",
              "3           8        27107                   0.920                0   \n",
              "4          11        23853                   0.920                0   \n",
              "\n",
              "   experience  company_size  last_new_job  training_hours  target  \\\n",
              "0        15.0             2             5              47     0.0   \n",
              "1        21.0             2             4               8     0.0   \n",
              "2        13.0             0             5              18     1.0   \n",
              "3         7.0             2             1              46     1.0   \n",
              "4         5.0             6             1             108     0.0   \n",
              "\n",
              "   company_type_Early Stage Startup  company_type_Funded Startup  \\\n",
              "0                                 0                            0   \n",
              "1                                 0                            1   \n",
              "2                                 0                            0   \n",
              "3                                 0                            0   \n",
              "4                                 0                            0   \n",
              "\n",
              "   company_type_NGO  company_type_Other  company_type_Public Sector  \\\n",
              "0                 0                   0                           0   \n",
              "1                 0                   0                           0   \n",
              "2                 0                   0                           0   \n",
              "3                 0                   0                           0   \n",
              "4                 0                   0                           0   \n",
              "\n",
              "   company_type_Pvt Ltd  major_discipline_Arts  \\\n",
              "0                     1                      0   \n",
              "1                     0                      0   \n",
              "2                     1                      0   \n",
              "3                     1                      0   \n",
              "4                     1                      0   \n",
              "\n",
              "   major_discipline_Business Degree  major_discipline_Humanities  \\\n",
              "0                                 0                            0   \n",
              "1                                 0                            0   \n",
              "2                                 0                            0   \n",
              "3                                 0                            0   \n",
              "4                                 0                            0   \n",
              "\n",
              "   major_discipline_No Major  major_discipline_Other  major_discipline_STEM  \\\n",
              "0                          0                       0                      1   \n",
              "1                          0                       0                      1   \n",
              "2                          0                       0                      1   \n",
              "3                          0                       0                      1   \n",
              "4                          0                       0                      1   \n",
              "\n",
              "   enrolled_university_Full time course  enrolled_university_Part time course  \\\n",
              "0                                     0                                     0   \n",
              "1                                     0                                     0   \n",
              "2                                     0                                     0   \n",
              "3                                     0                                     0   \n",
              "4                                     0                                     0   \n",
              "\n",
              "   enrolled_university_no_enrollment  \\\n",
              "0                                  1   \n",
              "1                                  1   \n",
              "2                                  1   \n",
              "3                                  1   \n",
              "4                                  1   \n",
              "\n",
              "   relevent_experience_Has relevent experience  \\\n",
              "0                                            0   \n",
              "1                                            1   \n",
              "2                                            1   \n",
              "3                                            1   \n",
              "4                                            1   \n",
              "\n",
              "   relevent_experience_No relevent experience  gender_Female  gender_Male  \\\n",
              "0                                           1              0            1   \n",
              "1                                           0              0            1   \n",
              "2                                           0              0            1   \n",
              "3                                           0              0            1   \n",
              "4                                           0              0            1   \n",
              "\n",
              "   gender_Other  city_city_103  city_city_114  city_city_16  city_city_21  \\\n",
              "0             0              0              0             0             0   \n",
              "1             0              0              0             0             0   \n",
              "2             0              0              0             0             0   \n",
              "3             0              1              0             0             0   \n",
              "4             0              1              0             0             0   \n",
              "\n",
              "   city_city_others  \n",
              "0                 1  \n",
              "1                 1  \n",
              "2                 1  \n",
              "3                 0  \n",
              "4                 0  "
            ],
            "text/html": [
              "\n",
              "  <div id=\"df-083323c3-fdbc-4eeb-9dcb-1224bc2ff3f6\">\n",
              "    <div class=\"colab-df-container\">\n",
              "      <div>\n",
              "<style scoped>\n",
              "    .dataframe tbody tr th:only-of-type {\n",
              "        vertical-align: middle;\n",
              "    }\n",
              "\n",
              "    .dataframe tbody tr th {\n",
              "        vertical-align: top;\n",
              "    }\n",
              "\n",
              "    .dataframe thead th {\n",
              "        text-align: right;\n",
              "    }\n",
              "</style>\n",
              "<table border=\"1\" class=\"dataframe\">\n",
              "  <thead>\n",
              "    <tr style=\"text-align: right;\">\n",
              "      <th></th>\n",
              "      <th>Unnamed: 0</th>\n",
              "      <th>enrollee_id</th>\n",
              "      <th>city_development_index</th>\n",
              "      <th>education_level</th>\n",
              "      <th>experience</th>\n",
              "      <th>company_size</th>\n",
              "      <th>last_new_job</th>\n",
              "      <th>training_hours</th>\n",
              "      <th>target</th>\n",
              "      <th>company_type_Early Stage Startup</th>\n",
              "      <th>company_type_Funded Startup</th>\n",
              "      <th>company_type_NGO</th>\n",
              "      <th>company_type_Other</th>\n",
              "      <th>company_type_Public Sector</th>\n",
              "      <th>company_type_Pvt Ltd</th>\n",
              "      <th>major_discipline_Arts</th>\n",
              "      <th>major_discipline_Business Degree</th>\n",
              "      <th>major_discipline_Humanities</th>\n",
              "      <th>major_discipline_No Major</th>\n",
              "      <th>major_discipline_Other</th>\n",
              "      <th>major_discipline_STEM</th>\n",
              "      <th>enrolled_university_Full time course</th>\n",
              "      <th>enrolled_university_Part time course</th>\n",
              "      <th>enrolled_university_no_enrollment</th>\n",
              "      <th>relevent_experience_Has relevent experience</th>\n",
              "      <th>relevent_experience_No relevent experience</th>\n",
              "      <th>gender_Female</th>\n",
              "      <th>gender_Male</th>\n",
              "      <th>gender_Other</th>\n",
              "      <th>city_city_103</th>\n",
              "      <th>city_city_114</th>\n",
              "      <th>city_city_16</th>\n",
              "      <th>city_city_21</th>\n",
              "      <th>city_city_others</th>\n",
              "    </tr>\n",
              "  </thead>\n",
              "  <tbody>\n",
              "    <tr>\n",
              "      <th>0</th>\n",
              "      <td>1</td>\n",
              "      <td>29725</td>\n",
              "      <td>0.776</td>\n",
              "      <td>0</td>\n",
              "      <td>15.0</td>\n",
              "      <td>2</td>\n",
              "      <td>5</td>\n",
              "      <td>47</td>\n",
              "      <td>0.0</td>\n",
              "      <td>0</td>\n",
              "      <td>0</td>\n",
              "      <td>0</td>\n",
              "      <td>0</td>\n",
              "      <td>0</td>\n",
              "      <td>1</td>\n",
              "      <td>0</td>\n",
              "      <td>0</td>\n",
              "      <td>0</td>\n",
              "      <td>0</td>\n",
              "      <td>0</td>\n",
              "      <td>1</td>\n",
              "      <td>0</td>\n",
              "      <td>0</td>\n",
              "      <td>1</td>\n",
              "      <td>0</td>\n",
              "      <td>1</td>\n",
              "      <td>0</td>\n",
              "      <td>1</td>\n",
              "      <td>0</td>\n",
              "      <td>0</td>\n",
              "      <td>0</td>\n",
              "      <td>0</td>\n",
              "      <td>0</td>\n",
              "      <td>1</td>\n",
              "    </tr>\n",
              "    <tr>\n",
              "      <th>1</th>\n",
              "      <td>4</td>\n",
              "      <td>666</td>\n",
              "      <td>0.767</td>\n",
              "      <td>1</td>\n",
              "      <td>21.0</td>\n",
              "      <td>2</td>\n",
              "      <td>4</td>\n",
              "      <td>8</td>\n",
              "      <td>0.0</td>\n",
              "      <td>0</td>\n",
              "      <td>1</td>\n",
              "      <td>0</td>\n",
              "      <td>0</td>\n",
              "      <td>0</td>\n",
              "      <td>0</td>\n",
              "      <td>0</td>\n",
              "      <td>0</td>\n",
              "      <td>0</td>\n",
              "      <td>0</td>\n",
              "      <td>0</td>\n",
              "      <td>1</td>\n",
              "      <td>0</td>\n",
              "      <td>0</td>\n",
              "      <td>1</td>\n",
              "      <td>1</td>\n",
              "      <td>0</td>\n",
              "      <td>0</td>\n",
              "      <td>1</td>\n",
              "      <td>0</td>\n",
              "      <td>0</td>\n",
              "      <td>0</td>\n",
              "      <td>0</td>\n",
              "      <td>0</td>\n",
              "      <td>1</td>\n",
              "    </tr>\n",
              "    <tr>\n",
              "      <th>2</th>\n",
              "      <td>7</td>\n",
              "      <td>402</td>\n",
              "      <td>0.762</td>\n",
              "      <td>0</td>\n",
              "      <td>13.0</td>\n",
              "      <td>0</td>\n",
              "      <td>5</td>\n",
              "      <td>18</td>\n",
              "      <td>1.0</td>\n",
              "      <td>0</td>\n",
              "      <td>0</td>\n",
              "      <td>0</td>\n",
              "      <td>0</td>\n",
              "      <td>0</td>\n",
              "      <td>1</td>\n",
              "      <td>0</td>\n",
              "      <td>0</td>\n",
              "      <td>0</td>\n",
              "      <td>0</td>\n",
              "      <td>0</td>\n",
              "      <td>1</td>\n",
              "      <td>0</td>\n",
              "      <td>0</td>\n",
              "      <td>1</td>\n",
              "      <td>1</td>\n",
              "      <td>0</td>\n",
              "      <td>0</td>\n",
              "      <td>1</td>\n",
              "      <td>0</td>\n",
              "      <td>0</td>\n",
              "      <td>0</td>\n",
              "      <td>0</td>\n",
              "      <td>0</td>\n",
              "      <td>1</td>\n",
              "    </tr>\n",
              "    <tr>\n",
              "      <th>3</th>\n",
              "      <td>8</td>\n",
              "      <td>27107</td>\n",
              "      <td>0.920</td>\n",
              "      <td>0</td>\n",
              "      <td>7.0</td>\n",
              "      <td>2</td>\n",
              "      <td>1</td>\n",
              "      <td>46</td>\n",
              "      <td>1.0</td>\n",
              "      <td>0</td>\n",
              "      <td>0</td>\n",
              "      <td>0</td>\n",
              "      <td>0</td>\n",
              "      <td>0</td>\n",
              "      <td>1</td>\n",
              "      <td>0</td>\n",
              "      <td>0</td>\n",
              "      <td>0</td>\n",
              "      <td>0</td>\n",
              "      <td>0</td>\n",
              "      <td>1</td>\n",
              "      <td>0</td>\n",
              "      <td>0</td>\n",
              "      <td>1</td>\n",
              "      <td>1</td>\n",
              "      <td>0</td>\n",
              "      <td>0</td>\n",
              "      <td>1</td>\n",
              "      <td>0</td>\n",
              "      <td>1</td>\n",
              "      <td>0</td>\n",
              "      <td>0</td>\n",
              "      <td>0</td>\n",
              "      <td>0</td>\n",
              "    </tr>\n",
              "    <tr>\n",
              "      <th>4</th>\n",
              "      <td>11</td>\n",
              "      <td>23853</td>\n",
              "      <td>0.920</td>\n",
              "      <td>0</td>\n",
              "      <td>5.0</td>\n",
              "      <td>6</td>\n",
              "      <td>1</td>\n",
              "      <td>108</td>\n",
              "      <td>0.0</td>\n",
              "      <td>0</td>\n",
              "      <td>0</td>\n",
              "      <td>0</td>\n",
              "      <td>0</td>\n",
              "      <td>0</td>\n",
              "      <td>1</td>\n",
              "      <td>0</td>\n",
              "      <td>0</td>\n",
              "      <td>0</td>\n",
              "      <td>0</td>\n",
              "      <td>0</td>\n",
              "      <td>1</td>\n",
              "      <td>0</td>\n",
              "      <td>0</td>\n",
              "      <td>1</td>\n",
              "      <td>1</td>\n",
              "      <td>0</td>\n",
              "      <td>0</td>\n",
              "      <td>1</td>\n",
              "      <td>0</td>\n",
              "      <td>1</td>\n",
              "      <td>0</td>\n",
              "      <td>0</td>\n",
              "      <td>0</td>\n",
              "      <td>0</td>\n",
              "    </tr>\n",
              "  </tbody>\n",
              "</table>\n",
              "</div>\n",
              "      <button class=\"colab-df-convert\" onclick=\"convertToInteractive('df-083323c3-fdbc-4eeb-9dcb-1224bc2ff3f6')\"\n",
              "              title=\"Convert this dataframe to an interactive table.\"\n",
              "              style=\"display:none;\">\n",
              "        \n",
              "  <svg xmlns=\"http://www.w3.org/2000/svg\" height=\"24px\"viewBox=\"0 0 24 24\"\n",
              "       width=\"24px\">\n",
              "    <path d=\"M0 0h24v24H0V0z\" fill=\"none\"/>\n",
              "    <path d=\"M18.56 5.44l.94 2.06.94-2.06 2.06-.94-2.06-.94-.94-2.06-.94 2.06-2.06.94zm-11 1L8.5 8.5l.94-2.06 2.06-.94-2.06-.94L8.5 2.5l-.94 2.06-2.06.94zm10 10l.94 2.06.94-2.06 2.06-.94-2.06-.94-.94-2.06-.94 2.06-2.06.94z\"/><path d=\"M17.41 7.96l-1.37-1.37c-.4-.4-.92-.59-1.43-.59-.52 0-1.04.2-1.43.59L10.3 9.45l-7.72 7.72c-.78.78-.78 2.05 0 2.83L4 21.41c.39.39.9.59 1.41.59.51 0 1.02-.2 1.41-.59l7.78-7.78 2.81-2.81c.8-.78.8-2.07 0-2.86zM5.41 20L4 18.59l7.72-7.72 1.47 1.35L5.41 20z\"/>\n",
              "  </svg>\n",
              "      </button>\n",
              "      \n",
              "  <style>\n",
              "    .colab-df-container {\n",
              "      display:flex;\n",
              "      flex-wrap:wrap;\n",
              "      gap: 12px;\n",
              "    }\n",
              "\n",
              "    .colab-df-convert {\n",
              "      background-color: #E8F0FE;\n",
              "      border: none;\n",
              "      border-radius: 50%;\n",
              "      cursor: pointer;\n",
              "      display: none;\n",
              "      fill: #1967D2;\n",
              "      height: 32px;\n",
              "      padding: 0 0 0 0;\n",
              "      width: 32px;\n",
              "    }\n",
              "\n",
              "    .colab-df-convert:hover {\n",
              "      background-color: #E2EBFA;\n",
              "      box-shadow: 0px 1px 2px rgba(60, 64, 67, 0.3), 0px 1px 3px 1px rgba(60, 64, 67, 0.15);\n",
              "      fill: #174EA6;\n",
              "    }\n",
              "\n",
              "    [theme=dark] .colab-df-convert {\n",
              "      background-color: #3B4455;\n",
              "      fill: #D2E3FC;\n",
              "    }\n",
              "\n",
              "    [theme=dark] .colab-df-convert:hover {\n",
              "      background-color: #434B5C;\n",
              "      box-shadow: 0px 1px 3px 1px rgba(0, 0, 0, 0.15);\n",
              "      filter: drop-shadow(0px 1px 2px rgba(0, 0, 0, 0.3));\n",
              "      fill: #FFFFFF;\n",
              "    }\n",
              "  </style>\n",
              "\n",
              "      <script>\n",
              "        const buttonEl =\n",
              "          document.querySelector('#df-083323c3-fdbc-4eeb-9dcb-1224bc2ff3f6 button.colab-df-convert');\n",
              "        buttonEl.style.display =\n",
              "          google.colab.kernel.accessAllowed ? 'block' : 'none';\n",
              "\n",
              "        async function convertToInteractive(key) {\n",
              "          const element = document.querySelector('#df-083323c3-fdbc-4eeb-9dcb-1224bc2ff3f6');\n",
              "          const dataTable =\n",
              "            await google.colab.kernel.invokeFunction('convertToInteractive',\n",
              "                                                     [key], {});\n",
              "          if (!dataTable) return;\n",
              "\n",
              "          const docLinkHtml = 'Like what you see? Visit the ' +\n",
              "            '<a target=\"_blank\" href=https://colab.research.google.com/notebooks/data_table.ipynb>data table notebook</a>'\n",
              "            + ' to learn more about interactive tables.';\n",
              "          element.innerHTML = '';\n",
              "          dataTable['output_type'] = 'display_data';\n",
              "          await google.colab.output.renderOutput(dataTable, element);\n",
              "          const docLink = document.createElement('div');\n",
              "          docLink.innerHTML = docLinkHtml;\n",
              "          element.appendChild(docLink);\n",
              "        }\n",
              "      </script>\n",
              "    </div>\n",
              "  </div>\n",
              "  "
            ]
          },
          "metadata": {},
          "execution_count": 398
        }
      ]
    },
    {
      "cell_type": "markdown",
      "source": [
        "###III. SHow the top 5 and last 5 rows to show that the table has changed [You must set this first before showing the data frame as many columns will be hidden due to the large number of columns: pd.set_option('display.max_columns', None)"
      ],
      "metadata": {
        "id": "boZMb_8gJaUc"
      }
    },
    {
      "cell_type": "code",
      "source": [
        "pd.set_option('display.max_columns', None)\n",
        "print(data.head())\n",
        "print(data.tail())"
      ],
      "metadata": {
        "colab": {
          "base_uri": "https://localhost:8080/",
          "height": 0
        },
        "id": "u5fNHuVDJjr6",
        "outputId": "6014f5ad-7a66-4334-dbdc-86065c6fdd46"
      },
      "execution_count": 399,
      "outputs": [
        {
          "output_type": "stream",
          "name": "stdout",
          "text": [
            "   Unnamed: 0  enrollee_id  city_development_index  education_level  \\\n",
            "0           1        29725                   0.776                0   \n",
            "1           4          666                   0.767                1   \n",
            "2           7          402                   0.762                0   \n",
            "3           8        27107                   0.920                0   \n",
            "4          11        23853                   0.920                0   \n",
            "\n",
            "   experience  company_size  last_new_job  training_hours  target  \\\n",
            "0        15.0             2             5              47     0.0   \n",
            "1        21.0             2             4               8     0.0   \n",
            "2        13.0             0             5              18     1.0   \n",
            "3         7.0             2             1              46     1.0   \n",
            "4         5.0             6             1             108     0.0   \n",
            "\n",
            "   company_type_Early Stage Startup  company_type_Funded Startup  \\\n",
            "0                                 0                            0   \n",
            "1                                 0                            1   \n",
            "2                                 0                            0   \n",
            "3                                 0                            0   \n",
            "4                                 0                            0   \n",
            "\n",
            "   company_type_NGO  company_type_Other  company_type_Public Sector  \\\n",
            "0                 0                   0                           0   \n",
            "1                 0                   0                           0   \n",
            "2                 0                   0                           0   \n",
            "3                 0                   0                           0   \n",
            "4                 0                   0                           0   \n",
            "\n",
            "   company_type_Pvt Ltd  major_discipline_Arts  \\\n",
            "0                     1                      0   \n",
            "1                     0                      0   \n",
            "2                     1                      0   \n",
            "3                     1                      0   \n",
            "4                     1                      0   \n",
            "\n",
            "   major_discipline_Business Degree  major_discipline_Humanities  \\\n",
            "0                                 0                            0   \n",
            "1                                 0                            0   \n",
            "2                                 0                            0   \n",
            "3                                 0                            0   \n",
            "4                                 0                            0   \n",
            "\n",
            "   major_discipline_No Major  major_discipline_Other  major_discipline_STEM  \\\n",
            "0                          0                       0                      1   \n",
            "1                          0                       0                      1   \n",
            "2                          0                       0                      1   \n",
            "3                          0                       0                      1   \n",
            "4                          0                       0                      1   \n",
            "\n",
            "   enrolled_university_Full time course  enrolled_university_Part time course  \\\n",
            "0                                     0                                     0   \n",
            "1                                     0                                     0   \n",
            "2                                     0                                     0   \n",
            "3                                     0                                     0   \n",
            "4                                     0                                     0   \n",
            "\n",
            "   enrolled_university_no_enrollment  \\\n",
            "0                                  1   \n",
            "1                                  1   \n",
            "2                                  1   \n",
            "3                                  1   \n",
            "4                                  1   \n",
            "\n",
            "   relevent_experience_Has relevent experience  \\\n",
            "0                                            0   \n",
            "1                                            1   \n",
            "2                                            1   \n",
            "3                                            1   \n",
            "4                                            1   \n",
            "\n",
            "   relevent_experience_No relevent experience  gender_Female  gender_Male  \\\n",
            "0                                           1              0            1   \n",
            "1                                           0              0            1   \n",
            "2                                           0              0            1   \n",
            "3                                           0              0            1   \n",
            "4                                           0              0            1   \n",
            "\n",
            "   gender_Other  city_city_103  city_city_114  city_city_16  city_city_21  \\\n",
            "0             0              0              0             0             0   \n",
            "1             0              0              0             0             0   \n",
            "2             0              0              0             0             0   \n",
            "3             0              1              0             0             0   \n",
            "4             0              1              0             0             0   \n",
            "\n",
            "   city_city_others  \n",
            "0                 1  \n",
            "1                 1  \n",
            "2                 1  \n",
            "3                 0  \n",
            "4                 0  \n",
            "      Unnamed: 0  enrollee_id  city_development_index  education_level  \\\n",
            "8950       19147        21319                   0.624                0   \n",
            "8951       19149          251                   0.920                1   \n",
            "8952       19150        32313                   0.920                0   \n",
            "8953       19152        29754                   0.920                0   \n",
            "8954       19155        24576                   0.920                0   \n",
            "\n",
            "      experience  company_size  last_new_job  training_hours  target  \\\n",
            "8950         1.0             3             1              52     1.0   \n",
            "8951         9.0             2             1              36     1.0   \n",
            "8952        10.0             3             3              23     0.0   \n",
            "8953         7.0             1             1              25     0.0   \n",
            "8954        21.0             2             4              44     0.0   \n",
            "\n",
            "      company_type_Early Stage Startup  company_type_Funded Startup  \\\n",
            "8950                                 0                            0   \n",
            "8951                                 0                            0   \n",
            "8952                                 0                            0   \n",
            "8953                                 0                            1   \n",
            "8954                                 0                            0   \n",
            "\n",
            "      company_type_NGO  company_type_Other  company_type_Public Sector  \\\n",
            "8950                 0                   0                           0   \n",
            "8951                 0                   0                           0   \n",
            "8952                 0                   0                           1   \n",
            "8953                 0                   0                           0   \n",
            "8954                 0                   0                           0   \n",
            "\n",
            "      company_type_Pvt Ltd  major_discipline_Arts  \\\n",
            "8950                     1                      0   \n",
            "8951                     1                      0   \n",
            "8952                     0                      0   \n",
            "8953                     0                      0   \n",
            "8954                     1                      0   \n",
            "\n",
            "      major_discipline_Business Degree  major_discipline_Humanities  \\\n",
            "8950                                 0                            0   \n",
            "8951                                 0                            0   \n",
            "8952                                 0                            0   \n",
            "8953                                 0                            1   \n",
            "8954                                 0                            0   \n",
            "\n",
            "      major_discipline_No Major  major_discipline_Other  \\\n",
            "8950                          0                       0   \n",
            "8951                          0                       0   \n",
            "8952                          0                       0   \n",
            "8953                          0                       0   \n",
            "8954                          0                       0   \n",
            "\n",
            "      major_discipline_STEM  enrolled_university_Full time course  \\\n",
            "8950                      1                                     1   \n",
            "8951                      1                                     0   \n",
            "8952                      1                                     0   \n",
            "8953                      0                                     0   \n",
            "8954                      1                                     0   \n",
            "\n",
            "      enrolled_university_Part time course  enrolled_university_no_enrollment  \\\n",
            "8950                                     0                                  0   \n",
            "8951                                     0                                  1   \n",
            "8952                                     0                                  1   \n",
            "8953                                     0                                  1   \n",
            "8954                                     0                                  1   \n",
            "\n",
            "      relevent_experience_Has relevent experience  \\\n",
            "8950                                            0   \n",
            "8951                                            1   \n",
            "8952                                            1   \n",
            "8953                                            1   \n",
            "8954                                            1   \n",
            "\n",
            "      relevent_experience_No relevent experience  gender_Female  gender_Male  \\\n",
            "8950                                           1              0            1   \n",
            "8951                                           0              0            1   \n",
            "8952                                           0              1            0   \n",
            "8953                                           0              1            0   \n",
            "8954                                           0              0            1   \n",
            "\n",
            "      gender_Other  city_city_103  city_city_114  city_city_16  city_city_21  \\\n",
            "8950             0              0              0             0             1   \n",
            "8951             0              1              0             0             0   \n",
            "8952             0              0              0             0             0   \n",
            "8953             0              1              0             0             0   \n",
            "8954             0              1              0             0             0   \n",
            "\n",
            "      city_city_others  \n",
            "8950                 0  \n",
            "8951                 0  \n",
            "8952                 1  \n",
            "8953                 0  \n",
            "8954                 0  \n"
          ]
        }
      ]
    },
    {
      "cell_type": "markdown",
      "source": [
        "###IV. Also, show the shape of the table\n"
      ],
      "metadata": {
        "id": "KhqxmbAyJ_Lx"
      }
    },
    {
      "cell_type": "code",
      "source": [
        "data.shape"
      ],
      "metadata": {
        "colab": {
          "base_uri": "https://localhost:8080/",
          "height": 0
        },
        "id": "3OrYDp2PKDLl",
        "outputId": "7802db92-7c30-405e-f0fa-20920bda11dc"
      },
      "execution_count": 400,
      "outputs": [
        {
          "output_type": "execute_result",
          "data": {
            "text/plain": [
              "(8955, 34)"
            ]
          },
          "metadata": {},
          "execution_count": 400
        }
      ]
    },
    {
      "cell_type": "markdown",
      "source": [
        "##VI. Drop the enrollee_id and any duplicate columns (if you have multiple city column one with actual and one with updated, then remove the actual one)"
      ],
      "metadata": {
        "id": "_HPfojC1KZbv"
      }
    },
    {
      "cell_type": "code",
      "source": [
        "data = data.drop(columns=['enrollee_id'])\n",
        "data = data.drop_duplicates()\n",
        "data.shape"
      ],
      "metadata": {
        "colab": {
          "base_uri": "https://localhost:8080/",
          "height": 0
        },
        "id": "T20dOQ6GKj5-",
        "outputId": "4c07402e-116d-4545-866c-a704087b372f"
      },
      "execution_count": 401,
      "outputs": [
        {
          "output_type": "execute_result",
          "data": {
            "text/plain": [
              "(8955, 33)"
            ]
          },
          "metadata": {},
          "execution_count": 401
        }
      ]
    },
    {
      "cell_type": "markdown",
      "source": [
        "##VII. Feature scaling:"
      ],
      "metadata": {
        "id": "iDjGpE2KLb9m"
      }
    },
    {
      "cell_type": "markdown",
      "source": [
        "###I. Use sklearn.preprocessing's MinMaxScaler to perform min max scaling to all the columns (see documentation on how to use it)"
      ],
      "metadata": {
        "id": "MB71G027Lepj"
      }
    },
    {
      "cell_type": "code",
      "source": [
        "from sklearn.preprocessing import MinMaxScaler\n",
        "\n",
        "scaler = MinMaxScaler()\n",
        "data[data.columns] = scaler.fit_transform(data[data.columns])\n",
        "\n",
        "data"
      ],
      "metadata": {
        "colab": {
          "base_uri": "https://localhost:8080/",
          "height": 505
        },
        "id": "yM0RZ1tuL1Jv",
        "outputId": "63107090-ed6b-4d10-97b8-8b1cad10753e"
      },
      "execution_count": 402,
      "outputs": [
        {
          "output_type": "execute_result",
          "data": {
            "text/plain": [
              "      Unnamed: 0  city_development_index  education_level  experience  \\\n",
              "0       0.000000                0.654691              0.0    0.714286   \n",
              "1       0.000157                0.636727              0.5    1.000000   \n",
              "2       0.000313                0.626747              0.0    0.619048   \n",
              "3       0.000365                0.942116              0.0    0.333333   \n",
              "4       0.000522                0.942116              0.0    0.238095   \n",
              "...          ...                     ...              ...         ...   \n",
              "8950    0.999582                0.351297              0.0    0.047619   \n",
              "8951    0.999687                0.942116              0.5    0.428571   \n",
              "8952    0.999739                0.942116              0.0    0.476190   \n",
              "8953    0.999843                0.942116              0.0    0.333333   \n",
              "8954    1.000000                0.942116              0.0    1.000000   \n",
              "\n",
              "      company_size  last_new_job  training_hours  target  \\\n",
              "0         0.285714           1.0        0.137313     0.0   \n",
              "1         0.285714           0.8        0.020896     0.0   \n",
              "2         0.000000           1.0        0.050746     1.0   \n",
              "3         0.285714           0.2        0.134328     1.0   \n",
              "4         0.857143           0.2        0.319403     0.0   \n",
              "...            ...           ...             ...     ...   \n",
              "8950      0.428571           0.2        0.152239     1.0   \n",
              "8951      0.285714           0.2        0.104478     1.0   \n",
              "8952      0.428571           0.6        0.065672     0.0   \n",
              "8953      0.142857           0.2        0.071642     0.0   \n",
              "8954      0.285714           0.8        0.128358     0.0   \n",
              "\n",
              "      company_type_Early Stage Startup  company_type_Funded Startup  \\\n",
              "0                                  0.0                          0.0   \n",
              "1                                  0.0                          1.0   \n",
              "2                                  0.0                          0.0   \n",
              "3                                  0.0                          0.0   \n",
              "4                                  0.0                          0.0   \n",
              "...                                ...                          ...   \n",
              "8950                               0.0                          0.0   \n",
              "8951                               0.0                          0.0   \n",
              "8952                               0.0                          0.0   \n",
              "8953                               0.0                          1.0   \n",
              "8954                               0.0                          0.0   \n",
              "\n",
              "      company_type_NGO  company_type_Other  company_type_Public Sector  \\\n",
              "0                  0.0                 0.0                         0.0   \n",
              "1                  0.0                 0.0                         0.0   \n",
              "2                  0.0                 0.0                         0.0   \n",
              "3                  0.0                 0.0                         0.0   \n",
              "4                  0.0                 0.0                         0.0   \n",
              "...                ...                 ...                         ...   \n",
              "8950               0.0                 0.0                         0.0   \n",
              "8951               0.0                 0.0                         0.0   \n",
              "8952               0.0                 0.0                         1.0   \n",
              "8953               0.0                 0.0                         0.0   \n",
              "8954               0.0                 0.0                         0.0   \n",
              "\n",
              "      company_type_Pvt Ltd  major_discipline_Arts  \\\n",
              "0                      1.0                    0.0   \n",
              "1                      0.0                    0.0   \n",
              "2                      1.0                    0.0   \n",
              "3                      1.0                    0.0   \n",
              "4                      1.0                    0.0   \n",
              "...                    ...                    ...   \n",
              "8950                   1.0                    0.0   \n",
              "8951                   1.0                    0.0   \n",
              "8952                   0.0                    0.0   \n",
              "8953                   0.0                    0.0   \n",
              "8954                   1.0                    0.0   \n",
              "\n",
              "      major_discipline_Business Degree  major_discipline_Humanities  \\\n",
              "0                                  0.0                          0.0   \n",
              "1                                  0.0                          0.0   \n",
              "2                                  0.0                          0.0   \n",
              "3                                  0.0                          0.0   \n",
              "4                                  0.0                          0.0   \n",
              "...                                ...                          ...   \n",
              "8950                               0.0                          0.0   \n",
              "8951                               0.0                          0.0   \n",
              "8952                               0.0                          0.0   \n",
              "8953                               0.0                          1.0   \n",
              "8954                               0.0                          0.0   \n",
              "\n",
              "      major_discipline_No Major  major_discipline_Other  \\\n",
              "0                           0.0                     0.0   \n",
              "1                           0.0                     0.0   \n",
              "2                           0.0                     0.0   \n",
              "3                           0.0                     0.0   \n",
              "4                           0.0                     0.0   \n",
              "...                         ...                     ...   \n",
              "8950                        0.0                     0.0   \n",
              "8951                        0.0                     0.0   \n",
              "8952                        0.0                     0.0   \n",
              "8953                        0.0                     0.0   \n",
              "8954                        0.0                     0.0   \n",
              "\n",
              "      major_discipline_STEM  enrolled_university_Full time course  \\\n",
              "0                       1.0                                   0.0   \n",
              "1                       1.0                                   0.0   \n",
              "2                       1.0                                   0.0   \n",
              "3                       1.0                                   0.0   \n",
              "4                       1.0                                   0.0   \n",
              "...                     ...                                   ...   \n",
              "8950                    1.0                                   1.0   \n",
              "8951                    1.0                                   0.0   \n",
              "8952                    1.0                                   0.0   \n",
              "8953                    0.0                                   0.0   \n",
              "8954                    1.0                                   0.0   \n",
              "\n",
              "      enrolled_university_Part time course  enrolled_university_no_enrollment  \\\n",
              "0                                      0.0                                1.0   \n",
              "1                                      0.0                                1.0   \n",
              "2                                      0.0                                1.0   \n",
              "3                                      0.0                                1.0   \n",
              "4                                      0.0                                1.0   \n",
              "...                                    ...                                ...   \n",
              "8950                                   0.0                                0.0   \n",
              "8951                                   0.0                                1.0   \n",
              "8952                                   0.0                                1.0   \n",
              "8953                                   0.0                                1.0   \n",
              "8954                                   0.0                                1.0   \n",
              "\n",
              "      relevent_experience_Has relevent experience  \\\n",
              "0                                             0.0   \n",
              "1                                             1.0   \n",
              "2                                             1.0   \n",
              "3                                             1.0   \n",
              "4                                             1.0   \n",
              "...                                           ...   \n",
              "8950                                          0.0   \n",
              "8951                                          1.0   \n",
              "8952                                          1.0   \n",
              "8953                                          1.0   \n",
              "8954                                          1.0   \n",
              "\n",
              "      relevent_experience_No relevent experience  gender_Female  gender_Male  \\\n",
              "0                                            1.0            0.0          1.0   \n",
              "1                                            0.0            0.0          1.0   \n",
              "2                                            0.0            0.0          1.0   \n",
              "3                                            0.0            0.0          1.0   \n",
              "4                                            0.0            0.0          1.0   \n",
              "...                                          ...            ...          ...   \n",
              "8950                                         1.0            0.0          1.0   \n",
              "8951                                         0.0            0.0          1.0   \n",
              "8952                                         0.0            1.0          0.0   \n",
              "8953                                         0.0            1.0          0.0   \n",
              "8954                                         0.0            0.0          1.0   \n",
              "\n",
              "      gender_Other  city_city_103  city_city_114  city_city_16  city_city_21  \\\n",
              "0              0.0            0.0            0.0           0.0           0.0   \n",
              "1              0.0            0.0            0.0           0.0           0.0   \n",
              "2              0.0            0.0            0.0           0.0           0.0   \n",
              "3              0.0            1.0            0.0           0.0           0.0   \n",
              "4              0.0            1.0            0.0           0.0           0.0   \n",
              "...            ...            ...            ...           ...           ...   \n",
              "8950           0.0            0.0            0.0           0.0           1.0   \n",
              "8951           0.0            1.0            0.0           0.0           0.0   \n",
              "8952           0.0            0.0            0.0           0.0           0.0   \n",
              "8953           0.0            1.0            0.0           0.0           0.0   \n",
              "8954           0.0            1.0            0.0           0.0           0.0   \n",
              "\n",
              "      city_city_others  \n",
              "0                  1.0  \n",
              "1                  1.0  \n",
              "2                  1.0  \n",
              "3                  0.0  \n",
              "4                  0.0  \n",
              "...                ...  \n",
              "8950               0.0  \n",
              "8951               0.0  \n",
              "8952               1.0  \n",
              "8953               0.0  \n",
              "8954               0.0  \n",
              "\n",
              "[8955 rows x 33 columns]"
            ],
            "text/html": [
              "\n",
              "  <div id=\"df-1244fda3-2045-443f-91f2-91f01ddc7f27\">\n",
              "    <div class=\"colab-df-container\">\n",
              "      <div>\n",
              "<style scoped>\n",
              "    .dataframe tbody tr th:only-of-type {\n",
              "        vertical-align: middle;\n",
              "    }\n",
              "\n",
              "    .dataframe tbody tr th {\n",
              "        vertical-align: top;\n",
              "    }\n",
              "\n",
              "    .dataframe thead th {\n",
              "        text-align: right;\n",
              "    }\n",
              "</style>\n",
              "<table border=\"1\" class=\"dataframe\">\n",
              "  <thead>\n",
              "    <tr style=\"text-align: right;\">\n",
              "      <th></th>\n",
              "      <th>Unnamed: 0</th>\n",
              "      <th>city_development_index</th>\n",
              "      <th>education_level</th>\n",
              "      <th>experience</th>\n",
              "      <th>company_size</th>\n",
              "      <th>last_new_job</th>\n",
              "      <th>training_hours</th>\n",
              "      <th>target</th>\n",
              "      <th>company_type_Early Stage Startup</th>\n",
              "      <th>company_type_Funded Startup</th>\n",
              "      <th>company_type_NGO</th>\n",
              "      <th>company_type_Other</th>\n",
              "      <th>company_type_Public Sector</th>\n",
              "      <th>company_type_Pvt Ltd</th>\n",
              "      <th>major_discipline_Arts</th>\n",
              "      <th>major_discipline_Business Degree</th>\n",
              "      <th>major_discipline_Humanities</th>\n",
              "      <th>major_discipline_No Major</th>\n",
              "      <th>major_discipline_Other</th>\n",
              "      <th>major_discipline_STEM</th>\n",
              "      <th>enrolled_university_Full time course</th>\n",
              "      <th>enrolled_university_Part time course</th>\n",
              "      <th>enrolled_university_no_enrollment</th>\n",
              "      <th>relevent_experience_Has relevent experience</th>\n",
              "      <th>relevent_experience_No relevent experience</th>\n",
              "      <th>gender_Female</th>\n",
              "      <th>gender_Male</th>\n",
              "      <th>gender_Other</th>\n",
              "      <th>city_city_103</th>\n",
              "      <th>city_city_114</th>\n",
              "      <th>city_city_16</th>\n",
              "      <th>city_city_21</th>\n",
              "      <th>city_city_others</th>\n",
              "    </tr>\n",
              "  </thead>\n",
              "  <tbody>\n",
              "    <tr>\n",
              "      <th>0</th>\n",
              "      <td>0.000000</td>\n",
              "      <td>0.654691</td>\n",
              "      <td>0.0</td>\n",
              "      <td>0.714286</td>\n",
              "      <td>0.285714</td>\n",
              "      <td>1.0</td>\n",
              "      <td>0.137313</td>\n",
              "      <td>0.0</td>\n",
              "      <td>0.0</td>\n",
              "      <td>0.0</td>\n",
              "      <td>0.0</td>\n",
              "      <td>0.0</td>\n",
              "      <td>0.0</td>\n",
              "      <td>1.0</td>\n",
              "      <td>0.0</td>\n",
              "      <td>0.0</td>\n",
              "      <td>0.0</td>\n",
              "      <td>0.0</td>\n",
              "      <td>0.0</td>\n",
              "      <td>1.0</td>\n",
              "      <td>0.0</td>\n",
              "      <td>0.0</td>\n",
              "      <td>1.0</td>\n",
              "      <td>0.0</td>\n",
              "      <td>1.0</td>\n",
              "      <td>0.0</td>\n",
              "      <td>1.0</td>\n",
              "      <td>0.0</td>\n",
              "      <td>0.0</td>\n",
              "      <td>0.0</td>\n",
              "      <td>0.0</td>\n",
              "      <td>0.0</td>\n",
              "      <td>1.0</td>\n",
              "    </tr>\n",
              "    <tr>\n",
              "      <th>1</th>\n",
              "      <td>0.000157</td>\n",
              "      <td>0.636727</td>\n",
              "      <td>0.5</td>\n",
              "      <td>1.000000</td>\n",
              "      <td>0.285714</td>\n",
              "      <td>0.8</td>\n",
              "      <td>0.020896</td>\n",
              "      <td>0.0</td>\n",
              "      <td>0.0</td>\n",
              "      <td>1.0</td>\n",
              "      <td>0.0</td>\n",
              "      <td>0.0</td>\n",
              "      <td>0.0</td>\n",
              "      <td>0.0</td>\n",
              "      <td>0.0</td>\n",
              "      <td>0.0</td>\n",
              "      <td>0.0</td>\n",
              "      <td>0.0</td>\n",
              "      <td>0.0</td>\n",
              "      <td>1.0</td>\n",
              "      <td>0.0</td>\n",
              "      <td>0.0</td>\n",
              "      <td>1.0</td>\n",
              "      <td>1.0</td>\n",
              "      <td>0.0</td>\n",
              "      <td>0.0</td>\n",
              "      <td>1.0</td>\n",
              "      <td>0.0</td>\n",
              "      <td>0.0</td>\n",
              "      <td>0.0</td>\n",
              "      <td>0.0</td>\n",
              "      <td>0.0</td>\n",
              "      <td>1.0</td>\n",
              "    </tr>\n",
              "    <tr>\n",
              "      <th>2</th>\n",
              "      <td>0.000313</td>\n",
              "      <td>0.626747</td>\n",
              "      <td>0.0</td>\n",
              "      <td>0.619048</td>\n",
              "      <td>0.000000</td>\n",
              "      <td>1.0</td>\n",
              "      <td>0.050746</td>\n",
              "      <td>1.0</td>\n",
              "      <td>0.0</td>\n",
              "      <td>0.0</td>\n",
              "      <td>0.0</td>\n",
              "      <td>0.0</td>\n",
              "      <td>0.0</td>\n",
              "      <td>1.0</td>\n",
              "      <td>0.0</td>\n",
              "      <td>0.0</td>\n",
              "      <td>0.0</td>\n",
              "      <td>0.0</td>\n",
              "      <td>0.0</td>\n",
              "      <td>1.0</td>\n",
              "      <td>0.0</td>\n",
              "      <td>0.0</td>\n",
              "      <td>1.0</td>\n",
              "      <td>1.0</td>\n",
              "      <td>0.0</td>\n",
              "      <td>0.0</td>\n",
              "      <td>1.0</td>\n",
              "      <td>0.0</td>\n",
              "      <td>0.0</td>\n",
              "      <td>0.0</td>\n",
              "      <td>0.0</td>\n",
              "      <td>0.0</td>\n",
              "      <td>1.0</td>\n",
              "    </tr>\n",
              "    <tr>\n",
              "      <th>3</th>\n",
              "      <td>0.000365</td>\n",
              "      <td>0.942116</td>\n",
              "      <td>0.0</td>\n",
              "      <td>0.333333</td>\n",
              "      <td>0.285714</td>\n",
              "      <td>0.2</td>\n",
              "      <td>0.134328</td>\n",
              "      <td>1.0</td>\n",
              "      <td>0.0</td>\n",
              "      <td>0.0</td>\n",
              "      <td>0.0</td>\n",
              "      <td>0.0</td>\n",
              "      <td>0.0</td>\n",
              "      <td>1.0</td>\n",
              "      <td>0.0</td>\n",
              "      <td>0.0</td>\n",
              "      <td>0.0</td>\n",
              "      <td>0.0</td>\n",
              "      <td>0.0</td>\n",
              "      <td>1.0</td>\n",
              "      <td>0.0</td>\n",
              "      <td>0.0</td>\n",
              "      <td>1.0</td>\n",
              "      <td>1.0</td>\n",
              "      <td>0.0</td>\n",
              "      <td>0.0</td>\n",
              "      <td>1.0</td>\n",
              "      <td>0.0</td>\n",
              "      <td>1.0</td>\n",
              "      <td>0.0</td>\n",
              "      <td>0.0</td>\n",
              "      <td>0.0</td>\n",
              "      <td>0.0</td>\n",
              "    </tr>\n",
              "    <tr>\n",
              "      <th>4</th>\n",
              "      <td>0.000522</td>\n",
              "      <td>0.942116</td>\n",
              "      <td>0.0</td>\n",
              "      <td>0.238095</td>\n",
              "      <td>0.857143</td>\n",
              "      <td>0.2</td>\n",
              "      <td>0.319403</td>\n",
              "      <td>0.0</td>\n",
              "      <td>0.0</td>\n",
              "      <td>0.0</td>\n",
              "      <td>0.0</td>\n",
              "      <td>0.0</td>\n",
              "      <td>0.0</td>\n",
              "      <td>1.0</td>\n",
              "      <td>0.0</td>\n",
              "      <td>0.0</td>\n",
              "      <td>0.0</td>\n",
              "      <td>0.0</td>\n",
              "      <td>0.0</td>\n",
              "      <td>1.0</td>\n",
              "      <td>0.0</td>\n",
              "      <td>0.0</td>\n",
              "      <td>1.0</td>\n",
              "      <td>1.0</td>\n",
              "      <td>0.0</td>\n",
              "      <td>0.0</td>\n",
              "      <td>1.0</td>\n",
              "      <td>0.0</td>\n",
              "      <td>1.0</td>\n",
              "      <td>0.0</td>\n",
              "      <td>0.0</td>\n",
              "      <td>0.0</td>\n",
              "      <td>0.0</td>\n",
              "    </tr>\n",
              "    <tr>\n",
              "      <th>...</th>\n",
              "      <td>...</td>\n",
              "      <td>...</td>\n",
              "      <td>...</td>\n",
              "      <td>...</td>\n",
              "      <td>...</td>\n",
              "      <td>...</td>\n",
              "      <td>...</td>\n",
              "      <td>...</td>\n",
              "      <td>...</td>\n",
              "      <td>...</td>\n",
              "      <td>...</td>\n",
              "      <td>...</td>\n",
              "      <td>...</td>\n",
              "      <td>...</td>\n",
              "      <td>...</td>\n",
              "      <td>...</td>\n",
              "      <td>...</td>\n",
              "      <td>...</td>\n",
              "      <td>...</td>\n",
              "      <td>...</td>\n",
              "      <td>...</td>\n",
              "      <td>...</td>\n",
              "      <td>...</td>\n",
              "      <td>...</td>\n",
              "      <td>...</td>\n",
              "      <td>...</td>\n",
              "      <td>...</td>\n",
              "      <td>...</td>\n",
              "      <td>...</td>\n",
              "      <td>...</td>\n",
              "      <td>...</td>\n",
              "      <td>...</td>\n",
              "      <td>...</td>\n",
              "    </tr>\n",
              "    <tr>\n",
              "      <th>8950</th>\n",
              "      <td>0.999582</td>\n",
              "      <td>0.351297</td>\n",
              "      <td>0.0</td>\n",
              "      <td>0.047619</td>\n",
              "      <td>0.428571</td>\n",
              "      <td>0.2</td>\n",
              "      <td>0.152239</td>\n",
              "      <td>1.0</td>\n",
              "      <td>0.0</td>\n",
              "      <td>0.0</td>\n",
              "      <td>0.0</td>\n",
              "      <td>0.0</td>\n",
              "      <td>0.0</td>\n",
              "      <td>1.0</td>\n",
              "      <td>0.0</td>\n",
              "      <td>0.0</td>\n",
              "      <td>0.0</td>\n",
              "      <td>0.0</td>\n",
              "      <td>0.0</td>\n",
              "      <td>1.0</td>\n",
              "      <td>1.0</td>\n",
              "      <td>0.0</td>\n",
              "      <td>0.0</td>\n",
              "      <td>0.0</td>\n",
              "      <td>1.0</td>\n",
              "      <td>0.0</td>\n",
              "      <td>1.0</td>\n",
              "      <td>0.0</td>\n",
              "      <td>0.0</td>\n",
              "      <td>0.0</td>\n",
              "      <td>0.0</td>\n",
              "      <td>1.0</td>\n",
              "      <td>0.0</td>\n",
              "    </tr>\n",
              "    <tr>\n",
              "      <th>8951</th>\n",
              "      <td>0.999687</td>\n",
              "      <td>0.942116</td>\n",
              "      <td>0.5</td>\n",
              "      <td>0.428571</td>\n",
              "      <td>0.285714</td>\n",
              "      <td>0.2</td>\n",
              "      <td>0.104478</td>\n",
              "      <td>1.0</td>\n",
              "      <td>0.0</td>\n",
              "      <td>0.0</td>\n",
              "      <td>0.0</td>\n",
              "      <td>0.0</td>\n",
              "      <td>0.0</td>\n",
              "      <td>1.0</td>\n",
              "      <td>0.0</td>\n",
              "      <td>0.0</td>\n",
              "      <td>0.0</td>\n",
              "      <td>0.0</td>\n",
              "      <td>0.0</td>\n",
              "      <td>1.0</td>\n",
              "      <td>0.0</td>\n",
              "      <td>0.0</td>\n",
              "      <td>1.0</td>\n",
              "      <td>1.0</td>\n",
              "      <td>0.0</td>\n",
              "      <td>0.0</td>\n",
              "      <td>1.0</td>\n",
              "      <td>0.0</td>\n",
              "      <td>1.0</td>\n",
              "      <td>0.0</td>\n",
              "      <td>0.0</td>\n",
              "      <td>0.0</td>\n",
              "      <td>0.0</td>\n",
              "    </tr>\n",
              "    <tr>\n",
              "      <th>8952</th>\n",
              "      <td>0.999739</td>\n",
              "      <td>0.942116</td>\n",
              "      <td>0.0</td>\n",
              "      <td>0.476190</td>\n",
              "      <td>0.428571</td>\n",
              "      <td>0.6</td>\n",
              "      <td>0.065672</td>\n",
              "      <td>0.0</td>\n",
              "      <td>0.0</td>\n",
              "      <td>0.0</td>\n",
              "      <td>0.0</td>\n",
              "      <td>0.0</td>\n",
              "      <td>1.0</td>\n",
              "      <td>0.0</td>\n",
              "      <td>0.0</td>\n",
              "      <td>0.0</td>\n",
              "      <td>0.0</td>\n",
              "      <td>0.0</td>\n",
              "      <td>0.0</td>\n",
              "      <td>1.0</td>\n",
              "      <td>0.0</td>\n",
              "      <td>0.0</td>\n",
              "      <td>1.0</td>\n",
              "      <td>1.0</td>\n",
              "      <td>0.0</td>\n",
              "      <td>1.0</td>\n",
              "      <td>0.0</td>\n",
              "      <td>0.0</td>\n",
              "      <td>0.0</td>\n",
              "      <td>0.0</td>\n",
              "      <td>0.0</td>\n",
              "      <td>0.0</td>\n",
              "      <td>1.0</td>\n",
              "    </tr>\n",
              "    <tr>\n",
              "      <th>8953</th>\n",
              "      <td>0.999843</td>\n",
              "      <td>0.942116</td>\n",
              "      <td>0.0</td>\n",
              "      <td>0.333333</td>\n",
              "      <td>0.142857</td>\n",
              "      <td>0.2</td>\n",
              "      <td>0.071642</td>\n",
              "      <td>0.0</td>\n",
              "      <td>0.0</td>\n",
              "      <td>1.0</td>\n",
              "      <td>0.0</td>\n",
              "      <td>0.0</td>\n",
              "      <td>0.0</td>\n",
              "      <td>0.0</td>\n",
              "      <td>0.0</td>\n",
              "      <td>0.0</td>\n",
              "      <td>1.0</td>\n",
              "      <td>0.0</td>\n",
              "      <td>0.0</td>\n",
              "      <td>0.0</td>\n",
              "      <td>0.0</td>\n",
              "      <td>0.0</td>\n",
              "      <td>1.0</td>\n",
              "      <td>1.0</td>\n",
              "      <td>0.0</td>\n",
              "      <td>1.0</td>\n",
              "      <td>0.0</td>\n",
              "      <td>0.0</td>\n",
              "      <td>1.0</td>\n",
              "      <td>0.0</td>\n",
              "      <td>0.0</td>\n",
              "      <td>0.0</td>\n",
              "      <td>0.0</td>\n",
              "    </tr>\n",
              "    <tr>\n",
              "      <th>8954</th>\n",
              "      <td>1.000000</td>\n",
              "      <td>0.942116</td>\n",
              "      <td>0.0</td>\n",
              "      <td>1.000000</td>\n",
              "      <td>0.285714</td>\n",
              "      <td>0.8</td>\n",
              "      <td>0.128358</td>\n",
              "      <td>0.0</td>\n",
              "      <td>0.0</td>\n",
              "      <td>0.0</td>\n",
              "      <td>0.0</td>\n",
              "      <td>0.0</td>\n",
              "      <td>0.0</td>\n",
              "      <td>1.0</td>\n",
              "      <td>0.0</td>\n",
              "      <td>0.0</td>\n",
              "      <td>0.0</td>\n",
              "      <td>0.0</td>\n",
              "      <td>0.0</td>\n",
              "      <td>1.0</td>\n",
              "      <td>0.0</td>\n",
              "      <td>0.0</td>\n",
              "      <td>1.0</td>\n",
              "      <td>1.0</td>\n",
              "      <td>0.0</td>\n",
              "      <td>0.0</td>\n",
              "      <td>1.0</td>\n",
              "      <td>0.0</td>\n",
              "      <td>1.0</td>\n",
              "      <td>0.0</td>\n",
              "      <td>0.0</td>\n",
              "      <td>0.0</td>\n",
              "      <td>0.0</td>\n",
              "    </tr>\n",
              "  </tbody>\n",
              "</table>\n",
              "<p>8955 rows × 33 columns</p>\n",
              "</div>\n",
              "      <button class=\"colab-df-convert\" onclick=\"convertToInteractive('df-1244fda3-2045-443f-91f2-91f01ddc7f27')\"\n",
              "              title=\"Convert this dataframe to an interactive table.\"\n",
              "              style=\"display:none;\">\n",
              "        \n",
              "  <svg xmlns=\"http://www.w3.org/2000/svg\" height=\"24px\"viewBox=\"0 0 24 24\"\n",
              "       width=\"24px\">\n",
              "    <path d=\"M0 0h24v24H0V0z\" fill=\"none\"/>\n",
              "    <path d=\"M18.56 5.44l.94 2.06.94-2.06 2.06-.94-2.06-.94-.94-2.06-.94 2.06-2.06.94zm-11 1L8.5 8.5l.94-2.06 2.06-.94-2.06-.94L8.5 2.5l-.94 2.06-2.06.94zm10 10l.94 2.06.94-2.06 2.06-.94-2.06-.94-.94-2.06-.94 2.06-2.06.94z\"/><path d=\"M17.41 7.96l-1.37-1.37c-.4-.4-.92-.59-1.43-.59-.52 0-1.04.2-1.43.59L10.3 9.45l-7.72 7.72c-.78.78-.78 2.05 0 2.83L4 21.41c.39.39.9.59 1.41.59.51 0 1.02-.2 1.41-.59l7.78-7.78 2.81-2.81c.8-.78.8-2.07 0-2.86zM5.41 20L4 18.59l7.72-7.72 1.47 1.35L5.41 20z\"/>\n",
              "  </svg>\n",
              "      </button>\n",
              "      \n",
              "  <style>\n",
              "    .colab-df-container {\n",
              "      display:flex;\n",
              "      flex-wrap:wrap;\n",
              "      gap: 12px;\n",
              "    }\n",
              "\n",
              "    .colab-df-convert {\n",
              "      background-color: #E8F0FE;\n",
              "      border: none;\n",
              "      border-radius: 50%;\n",
              "      cursor: pointer;\n",
              "      display: none;\n",
              "      fill: #1967D2;\n",
              "      height: 32px;\n",
              "      padding: 0 0 0 0;\n",
              "      width: 32px;\n",
              "    }\n",
              "\n",
              "    .colab-df-convert:hover {\n",
              "      background-color: #E2EBFA;\n",
              "      box-shadow: 0px 1px 2px rgba(60, 64, 67, 0.3), 0px 1px 3px 1px rgba(60, 64, 67, 0.15);\n",
              "      fill: #174EA6;\n",
              "    }\n",
              "\n",
              "    [theme=dark] .colab-df-convert {\n",
              "      background-color: #3B4455;\n",
              "      fill: #D2E3FC;\n",
              "    }\n",
              "\n",
              "    [theme=dark] .colab-df-convert:hover {\n",
              "      background-color: #434B5C;\n",
              "      box-shadow: 0px 1px 3px 1px rgba(0, 0, 0, 0.15);\n",
              "      filter: drop-shadow(0px 1px 2px rgba(0, 0, 0, 0.3));\n",
              "      fill: #FFFFFF;\n",
              "    }\n",
              "  </style>\n",
              "\n",
              "      <script>\n",
              "        const buttonEl =\n",
              "          document.querySelector('#df-1244fda3-2045-443f-91f2-91f01ddc7f27 button.colab-df-convert');\n",
              "        buttonEl.style.display =\n",
              "          google.colab.kernel.accessAllowed ? 'block' : 'none';\n",
              "\n",
              "        async function convertToInteractive(key) {\n",
              "          const element = document.querySelector('#df-1244fda3-2045-443f-91f2-91f01ddc7f27');\n",
              "          const dataTable =\n",
              "            await google.colab.kernel.invokeFunction('convertToInteractive',\n",
              "                                                     [key], {});\n",
              "          if (!dataTable) return;\n",
              "\n",
              "          const docLinkHtml = 'Like what you see? Visit the ' +\n",
              "            '<a target=\"_blank\" href=https://colab.research.google.com/notebooks/data_table.ipynb>data table notebook</a>'\n",
              "            + ' to learn more about interactive tables.';\n",
              "          element.innerHTML = '';\n",
              "          dataTable['output_type'] = 'display_data';\n",
              "          await google.colab.output.renderOutput(dataTable, element);\n",
              "          const docLink = document.createElement('div');\n",
              "          docLink.innerHTML = docLinkHtml;\n",
              "          element.appendChild(docLink);\n",
              "        }\n",
              "      </script>\n",
              "    </div>\n",
              "  </div>\n",
              "  "
            ]
          },
          "metadata": {},
          "execution_count": 402
        }
      ]
    },
    {
      "cell_type": "markdown",
      "source": [
        "##VIII. Move the target column to the last column of the data frame and show that it has changed"
      ],
      "metadata": {
        "id": "pZwMXYskQVoY"
      }
    },
    {
      "cell_type": "code",
      "source": [
        "data = data[[c for c in data if c not in ['target']] \n",
        "       + ['target']]\n",
        "data"
      ],
      "metadata": {
        "colab": {
          "base_uri": "https://localhost:8080/",
          "height": 505
        },
        "id": "pileImeoQ6r2",
        "outputId": "757bf76c-f39a-4ae8-b365-efc9580e5acb"
      },
      "execution_count": 403,
      "outputs": [
        {
          "output_type": "execute_result",
          "data": {
            "text/plain": [
              "      Unnamed: 0  city_development_index  education_level  experience  \\\n",
              "0       0.000000                0.654691              0.0    0.714286   \n",
              "1       0.000157                0.636727              0.5    1.000000   \n",
              "2       0.000313                0.626747              0.0    0.619048   \n",
              "3       0.000365                0.942116              0.0    0.333333   \n",
              "4       0.000522                0.942116              0.0    0.238095   \n",
              "...          ...                     ...              ...         ...   \n",
              "8950    0.999582                0.351297              0.0    0.047619   \n",
              "8951    0.999687                0.942116              0.5    0.428571   \n",
              "8952    0.999739                0.942116              0.0    0.476190   \n",
              "8953    0.999843                0.942116              0.0    0.333333   \n",
              "8954    1.000000                0.942116              0.0    1.000000   \n",
              "\n",
              "      company_size  last_new_job  training_hours  \\\n",
              "0         0.285714           1.0        0.137313   \n",
              "1         0.285714           0.8        0.020896   \n",
              "2         0.000000           1.0        0.050746   \n",
              "3         0.285714           0.2        0.134328   \n",
              "4         0.857143           0.2        0.319403   \n",
              "...            ...           ...             ...   \n",
              "8950      0.428571           0.2        0.152239   \n",
              "8951      0.285714           0.2        0.104478   \n",
              "8952      0.428571           0.6        0.065672   \n",
              "8953      0.142857           0.2        0.071642   \n",
              "8954      0.285714           0.8        0.128358   \n",
              "\n",
              "      company_type_Early Stage Startup  company_type_Funded Startup  \\\n",
              "0                                  0.0                          0.0   \n",
              "1                                  0.0                          1.0   \n",
              "2                                  0.0                          0.0   \n",
              "3                                  0.0                          0.0   \n",
              "4                                  0.0                          0.0   \n",
              "...                                ...                          ...   \n",
              "8950                               0.0                          0.0   \n",
              "8951                               0.0                          0.0   \n",
              "8952                               0.0                          0.0   \n",
              "8953                               0.0                          1.0   \n",
              "8954                               0.0                          0.0   \n",
              "\n",
              "      company_type_NGO  company_type_Other  company_type_Public Sector  \\\n",
              "0                  0.0                 0.0                         0.0   \n",
              "1                  0.0                 0.0                         0.0   \n",
              "2                  0.0                 0.0                         0.0   \n",
              "3                  0.0                 0.0                         0.0   \n",
              "4                  0.0                 0.0                         0.0   \n",
              "...                ...                 ...                         ...   \n",
              "8950               0.0                 0.0                         0.0   \n",
              "8951               0.0                 0.0                         0.0   \n",
              "8952               0.0                 0.0                         1.0   \n",
              "8953               0.0                 0.0                         0.0   \n",
              "8954               0.0                 0.0                         0.0   \n",
              "\n",
              "      company_type_Pvt Ltd  major_discipline_Arts  \\\n",
              "0                      1.0                    0.0   \n",
              "1                      0.0                    0.0   \n",
              "2                      1.0                    0.0   \n",
              "3                      1.0                    0.0   \n",
              "4                      1.0                    0.0   \n",
              "...                    ...                    ...   \n",
              "8950                   1.0                    0.0   \n",
              "8951                   1.0                    0.0   \n",
              "8952                   0.0                    0.0   \n",
              "8953                   0.0                    0.0   \n",
              "8954                   1.0                    0.0   \n",
              "\n",
              "      major_discipline_Business Degree  major_discipline_Humanities  \\\n",
              "0                                  0.0                          0.0   \n",
              "1                                  0.0                          0.0   \n",
              "2                                  0.0                          0.0   \n",
              "3                                  0.0                          0.0   \n",
              "4                                  0.0                          0.0   \n",
              "...                                ...                          ...   \n",
              "8950                               0.0                          0.0   \n",
              "8951                               0.0                          0.0   \n",
              "8952                               0.0                          0.0   \n",
              "8953                               0.0                          1.0   \n",
              "8954                               0.0                          0.0   \n",
              "\n",
              "      major_discipline_No Major  major_discipline_Other  \\\n",
              "0                           0.0                     0.0   \n",
              "1                           0.0                     0.0   \n",
              "2                           0.0                     0.0   \n",
              "3                           0.0                     0.0   \n",
              "4                           0.0                     0.0   \n",
              "...                         ...                     ...   \n",
              "8950                        0.0                     0.0   \n",
              "8951                        0.0                     0.0   \n",
              "8952                        0.0                     0.0   \n",
              "8953                        0.0                     0.0   \n",
              "8954                        0.0                     0.0   \n",
              "\n",
              "      major_discipline_STEM  enrolled_university_Full time course  \\\n",
              "0                       1.0                                   0.0   \n",
              "1                       1.0                                   0.0   \n",
              "2                       1.0                                   0.0   \n",
              "3                       1.0                                   0.0   \n",
              "4                       1.0                                   0.0   \n",
              "...                     ...                                   ...   \n",
              "8950                    1.0                                   1.0   \n",
              "8951                    1.0                                   0.0   \n",
              "8952                    1.0                                   0.0   \n",
              "8953                    0.0                                   0.0   \n",
              "8954                    1.0                                   0.0   \n",
              "\n",
              "      enrolled_university_Part time course  enrolled_university_no_enrollment  \\\n",
              "0                                      0.0                                1.0   \n",
              "1                                      0.0                                1.0   \n",
              "2                                      0.0                                1.0   \n",
              "3                                      0.0                                1.0   \n",
              "4                                      0.0                                1.0   \n",
              "...                                    ...                                ...   \n",
              "8950                                   0.0                                0.0   \n",
              "8951                                   0.0                                1.0   \n",
              "8952                                   0.0                                1.0   \n",
              "8953                                   0.0                                1.0   \n",
              "8954                                   0.0                                1.0   \n",
              "\n",
              "      relevent_experience_Has relevent experience  \\\n",
              "0                                             0.0   \n",
              "1                                             1.0   \n",
              "2                                             1.0   \n",
              "3                                             1.0   \n",
              "4                                             1.0   \n",
              "...                                           ...   \n",
              "8950                                          0.0   \n",
              "8951                                          1.0   \n",
              "8952                                          1.0   \n",
              "8953                                          1.0   \n",
              "8954                                          1.0   \n",
              "\n",
              "      relevent_experience_No relevent experience  gender_Female  gender_Male  \\\n",
              "0                                            1.0            0.0          1.0   \n",
              "1                                            0.0            0.0          1.0   \n",
              "2                                            0.0            0.0          1.0   \n",
              "3                                            0.0            0.0          1.0   \n",
              "4                                            0.0            0.0          1.0   \n",
              "...                                          ...            ...          ...   \n",
              "8950                                         1.0            0.0          1.0   \n",
              "8951                                         0.0            0.0          1.0   \n",
              "8952                                         0.0            1.0          0.0   \n",
              "8953                                         0.0            1.0          0.0   \n",
              "8954                                         0.0            0.0          1.0   \n",
              "\n",
              "      gender_Other  city_city_103  city_city_114  city_city_16  city_city_21  \\\n",
              "0              0.0            0.0            0.0           0.0           0.0   \n",
              "1              0.0            0.0            0.0           0.0           0.0   \n",
              "2              0.0            0.0            0.0           0.0           0.0   \n",
              "3              0.0            1.0            0.0           0.0           0.0   \n",
              "4              0.0            1.0            0.0           0.0           0.0   \n",
              "...            ...            ...            ...           ...           ...   \n",
              "8950           0.0            0.0            0.0           0.0           1.0   \n",
              "8951           0.0            1.0            0.0           0.0           0.0   \n",
              "8952           0.0            0.0            0.0           0.0           0.0   \n",
              "8953           0.0            1.0            0.0           0.0           0.0   \n",
              "8954           0.0            1.0            0.0           0.0           0.0   \n",
              "\n",
              "      city_city_others  target  \n",
              "0                  1.0     0.0  \n",
              "1                  1.0     0.0  \n",
              "2                  1.0     1.0  \n",
              "3                  0.0     1.0  \n",
              "4                  0.0     0.0  \n",
              "...                ...     ...  \n",
              "8950               0.0     1.0  \n",
              "8951               0.0     1.0  \n",
              "8952               1.0     0.0  \n",
              "8953               0.0     0.0  \n",
              "8954               0.0     0.0  \n",
              "\n",
              "[8955 rows x 33 columns]"
            ],
            "text/html": [
              "\n",
              "  <div id=\"df-a96499a8-9d49-4229-a4b6-721b0f1627d1\">\n",
              "    <div class=\"colab-df-container\">\n",
              "      <div>\n",
              "<style scoped>\n",
              "    .dataframe tbody tr th:only-of-type {\n",
              "        vertical-align: middle;\n",
              "    }\n",
              "\n",
              "    .dataframe tbody tr th {\n",
              "        vertical-align: top;\n",
              "    }\n",
              "\n",
              "    .dataframe thead th {\n",
              "        text-align: right;\n",
              "    }\n",
              "</style>\n",
              "<table border=\"1\" class=\"dataframe\">\n",
              "  <thead>\n",
              "    <tr style=\"text-align: right;\">\n",
              "      <th></th>\n",
              "      <th>Unnamed: 0</th>\n",
              "      <th>city_development_index</th>\n",
              "      <th>education_level</th>\n",
              "      <th>experience</th>\n",
              "      <th>company_size</th>\n",
              "      <th>last_new_job</th>\n",
              "      <th>training_hours</th>\n",
              "      <th>company_type_Early Stage Startup</th>\n",
              "      <th>company_type_Funded Startup</th>\n",
              "      <th>company_type_NGO</th>\n",
              "      <th>company_type_Other</th>\n",
              "      <th>company_type_Public Sector</th>\n",
              "      <th>company_type_Pvt Ltd</th>\n",
              "      <th>major_discipline_Arts</th>\n",
              "      <th>major_discipline_Business Degree</th>\n",
              "      <th>major_discipline_Humanities</th>\n",
              "      <th>major_discipline_No Major</th>\n",
              "      <th>major_discipline_Other</th>\n",
              "      <th>major_discipline_STEM</th>\n",
              "      <th>enrolled_university_Full time course</th>\n",
              "      <th>enrolled_university_Part time course</th>\n",
              "      <th>enrolled_university_no_enrollment</th>\n",
              "      <th>relevent_experience_Has relevent experience</th>\n",
              "      <th>relevent_experience_No relevent experience</th>\n",
              "      <th>gender_Female</th>\n",
              "      <th>gender_Male</th>\n",
              "      <th>gender_Other</th>\n",
              "      <th>city_city_103</th>\n",
              "      <th>city_city_114</th>\n",
              "      <th>city_city_16</th>\n",
              "      <th>city_city_21</th>\n",
              "      <th>city_city_others</th>\n",
              "      <th>target</th>\n",
              "    </tr>\n",
              "  </thead>\n",
              "  <tbody>\n",
              "    <tr>\n",
              "      <th>0</th>\n",
              "      <td>0.000000</td>\n",
              "      <td>0.654691</td>\n",
              "      <td>0.0</td>\n",
              "      <td>0.714286</td>\n",
              "      <td>0.285714</td>\n",
              "      <td>1.0</td>\n",
              "      <td>0.137313</td>\n",
              "      <td>0.0</td>\n",
              "      <td>0.0</td>\n",
              "      <td>0.0</td>\n",
              "      <td>0.0</td>\n",
              "      <td>0.0</td>\n",
              "      <td>1.0</td>\n",
              "      <td>0.0</td>\n",
              "      <td>0.0</td>\n",
              "      <td>0.0</td>\n",
              "      <td>0.0</td>\n",
              "      <td>0.0</td>\n",
              "      <td>1.0</td>\n",
              "      <td>0.0</td>\n",
              "      <td>0.0</td>\n",
              "      <td>1.0</td>\n",
              "      <td>0.0</td>\n",
              "      <td>1.0</td>\n",
              "      <td>0.0</td>\n",
              "      <td>1.0</td>\n",
              "      <td>0.0</td>\n",
              "      <td>0.0</td>\n",
              "      <td>0.0</td>\n",
              "      <td>0.0</td>\n",
              "      <td>0.0</td>\n",
              "      <td>1.0</td>\n",
              "      <td>0.0</td>\n",
              "    </tr>\n",
              "    <tr>\n",
              "      <th>1</th>\n",
              "      <td>0.000157</td>\n",
              "      <td>0.636727</td>\n",
              "      <td>0.5</td>\n",
              "      <td>1.000000</td>\n",
              "      <td>0.285714</td>\n",
              "      <td>0.8</td>\n",
              "      <td>0.020896</td>\n",
              "      <td>0.0</td>\n",
              "      <td>1.0</td>\n",
              "      <td>0.0</td>\n",
              "      <td>0.0</td>\n",
              "      <td>0.0</td>\n",
              "      <td>0.0</td>\n",
              "      <td>0.0</td>\n",
              "      <td>0.0</td>\n",
              "      <td>0.0</td>\n",
              "      <td>0.0</td>\n",
              "      <td>0.0</td>\n",
              "      <td>1.0</td>\n",
              "      <td>0.0</td>\n",
              "      <td>0.0</td>\n",
              "      <td>1.0</td>\n",
              "      <td>1.0</td>\n",
              "      <td>0.0</td>\n",
              "      <td>0.0</td>\n",
              "      <td>1.0</td>\n",
              "      <td>0.0</td>\n",
              "      <td>0.0</td>\n",
              "      <td>0.0</td>\n",
              "      <td>0.0</td>\n",
              "      <td>0.0</td>\n",
              "      <td>1.0</td>\n",
              "      <td>0.0</td>\n",
              "    </tr>\n",
              "    <tr>\n",
              "      <th>2</th>\n",
              "      <td>0.000313</td>\n",
              "      <td>0.626747</td>\n",
              "      <td>0.0</td>\n",
              "      <td>0.619048</td>\n",
              "      <td>0.000000</td>\n",
              "      <td>1.0</td>\n",
              "      <td>0.050746</td>\n",
              "      <td>0.0</td>\n",
              "      <td>0.0</td>\n",
              "      <td>0.0</td>\n",
              "      <td>0.0</td>\n",
              "      <td>0.0</td>\n",
              "      <td>1.0</td>\n",
              "      <td>0.0</td>\n",
              "      <td>0.0</td>\n",
              "      <td>0.0</td>\n",
              "      <td>0.0</td>\n",
              "      <td>0.0</td>\n",
              "      <td>1.0</td>\n",
              "      <td>0.0</td>\n",
              "      <td>0.0</td>\n",
              "      <td>1.0</td>\n",
              "      <td>1.0</td>\n",
              "      <td>0.0</td>\n",
              "      <td>0.0</td>\n",
              "      <td>1.0</td>\n",
              "      <td>0.0</td>\n",
              "      <td>0.0</td>\n",
              "      <td>0.0</td>\n",
              "      <td>0.0</td>\n",
              "      <td>0.0</td>\n",
              "      <td>1.0</td>\n",
              "      <td>1.0</td>\n",
              "    </tr>\n",
              "    <tr>\n",
              "      <th>3</th>\n",
              "      <td>0.000365</td>\n",
              "      <td>0.942116</td>\n",
              "      <td>0.0</td>\n",
              "      <td>0.333333</td>\n",
              "      <td>0.285714</td>\n",
              "      <td>0.2</td>\n",
              "      <td>0.134328</td>\n",
              "      <td>0.0</td>\n",
              "      <td>0.0</td>\n",
              "      <td>0.0</td>\n",
              "      <td>0.0</td>\n",
              "      <td>0.0</td>\n",
              "      <td>1.0</td>\n",
              "      <td>0.0</td>\n",
              "      <td>0.0</td>\n",
              "      <td>0.0</td>\n",
              "      <td>0.0</td>\n",
              "      <td>0.0</td>\n",
              "      <td>1.0</td>\n",
              "      <td>0.0</td>\n",
              "      <td>0.0</td>\n",
              "      <td>1.0</td>\n",
              "      <td>1.0</td>\n",
              "      <td>0.0</td>\n",
              "      <td>0.0</td>\n",
              "      <td>1.0</td>\n",
              "      <td>0.0</td>\n",
              "      <td>1.0</td>\n",
              "      <td>0.0</td>\n",
              "      <td>0.0</td>\n",
              "      <td>0.0</td>\n",
              "      <td>0.0</td>\n",
              "      <td>1.0</td>\n",
              "    </tr>\n",
              "    <tr>\n",
              "      <th>4</th>\n",
              "      <td>0.000522</td>\n",
              "      <td>0.942116</td>\n",
              "      <td>0.0</td>\n",
              "      <td>0.238095</td>\n",
              "      <td>0.857143</td>\n",
              "      <td>0.2</td>\n",
              "      <td>0.319403</td>\n",
              "      <td>0.0</td>\n",
              "      <td>0.0</td>\n",
              "      <td>0.0</td>\n",
              "      <td>0.0</td>\n",
              "      <td>0.0</td>\n",
              "      <td>1.0</td>\n",
              "      <td>0.0</td>\n",
              "      <td>0.0</td>\n",
              "      <td>0.0</td>\n",
              "      <td>0.0</td>\n",
              "      <td>0.0</td>\n",
              "      <td>1.0</td>\n",
              "      <td>0.0</td>\n",
              "      <td>0.0</td>\n",
              "      <td>1.0</td>\n",
              "      <td>1.0</td>\n",
              "      <td>0.0</td>\n",
              "      <td>0.0</td>\n",
              "      <td>1.0</td>\n",
              "      <td>0.0</td>\n",
              "      <td>1.0</td>\n",
              "      <td>0.0</td>\n",
              "      <td>0.0</td>\n",
              "      <td>0.0</td>\n",
              "      <td>0.0</td>\n",
              "      <td>0.0</td>\n",
              "    </tr>\n",
              "    <tr>\n",
              "      <th>...</th>\n",
              "      <td>...</td>\n",
              "      <td>...</td>\n",
              "      <td>...</td>\n",
              "      <td>...</td>\n",
              "      <td>...</td>\n",
              "      <td>...</td>\n",
              "      <td>...</td>\n",
              "      <td>...</td>\n",
              "      <td>...</td>\n",
              "      <td>...</td>\n",
              "      <td>...</td>\n",
              "      <td>...</td>\n",
              "      <td>...</td>\n",
              "      <td>...</td>\n",
              "      <td>...</td>\n",
              "      <td>...</td>\n",
              "      <td>...</td>\n",
              "      <td>...</td>\n",
              "      <td>...</td>\n",
              "      <td>...</td>\n",
              "      <td>...</td>\n",
              "      <td>...</td>\n",
              "      <td>...</td>\n",
              "      <td>...</td>\n",
              "      <td>...</td>\n",
              "      <td>...</td>\n",
              "      <td>...</td>\n",
              "      <td>...</td>\n",
              "      <td>...</td>\n",
              "      <td>...</td>\n",
              "      <td>...</td>\n",
              "      <td>...</td>\n",
              "      <td>...</td>\n",
              "    </tr>\n",
              "    <tr>\n",
              "      <th>8950</th>\n",
              "      <td>0.999582</td>\n",
              "      <td>0.351297</td>\n",
              "      <td>0.0</td>\n",
              "      <td>0.047619</td>\n",
              "      <td>0.428571</td>\n",
              "      <td>0.2</td>\n",
              "      <td>0.152239</td>\n",
              "      <td>0.0</td>\n",
              "      <td>0.0</td>\n",
              "      <td>0.0</td>\n",
              "      <td>0.0</td>\n",
              "      <td>0.0</td>\n",
              "      <td>1.0</td>\n",
              "      <td>0.0</td>\n",
              "      <td>0.0</td>\n",
              "      <td>0.0</td>\n",
              "      <td>0.0</td>\n",
              "      <td>0.0</td>\n",
              "      <td>1.0</td>\n",
              "      <td>1.0</td>\n",
              "      <td>0.0</td>\n",
              "      <td>0.0</td>\n",
              "      <td>0.0</td>\n",
              "      <td>1.0</td>\n",
              "      <td>0.0</td>\n",
              "      <td>1.0</td>\n",
              "      <td>0.0</td>\n",
              "      <td>0.0</td>\n",
              "      <td>0.0</td>\n",
              "      <td>0.0</td>\n",
              "      <td>1.0</td>\n",
              "      <td>0.0</td>\n",
              "      <td>1.0</td>\n",
              "    </tr>\n",
              "    <tr>\n",
              "      <th>8951</th>\n",
              "      <td>0.999687</td>\n",
              "      <td>0.942116</td>\n",
              "      <td>0.5</td>\n",
              "      <td>0.428571</td>\n",
              "      <td>0.285714</td>\n",
              "      <td>0.2</td>\n",
              "      <td>0.104478</td>\n",
              "      <td>0.0</td>\n",
              "      <td>0.0</td>\n",
              "      <td>0.0</td>\n",
              "      <td>0.0</td>\n",
              "      <td>0.0</td>\n",
              "      <td>1.0</td>\n",
              "      <td>0.0</td>\n",
              "      <td>0.0</td>\n",
              "      <td>0.0</td>\n",
              "      <td>0.0</td>\n",
              "      <td>0.0</td>\n",
              "      <td>1.0</td>\n",
              "      <td>0.0</td>\n",
              "      <td>0.0</td>\n",
              "      <td>1.0</td>\n",
              "      <td>1.0</td>\n",
              "      <td>0.0</td>\n",
              "      <td>0.0</td>\n",
              "      <td>1.0</td>\n",
              "      <td>0.0</td>\n",
              "      <td>1.0</td>\n",
              "      <td>0.0</td>\n",
              "      <td>0.0</td>\n",
              "      <td>0.0</td>\n",
              "      <td>0.0</td>\n",
              "      <td>1.0</td>\n",
              "    </tr>\n",
              "    <tr>\n",
              "      <th>8952</th>\n",
              "      <td>0.999739</td>\n",
              "      <td>0.942116</td>\n",
              "      <td>0.0</td>\n",
              "      <td>0.476190</td>\n",
              "      <td>0.428571</td>\n",
              "      <td>0.6</td>\n",
              "      <td>0.065672</td>\n",
              "      <td>0.0</td>\n",
              "      <td>0.0</td>\n",
              "      <td>0.0</td>\n",
              "      <td>0.0</td>\n",
              "      <td>1.0</td>\n",
              "      <td>0.0</td>\n",
              "      <td>0.0</td>\n",
              "      <td>0.0</td>\n",
              "      <td>0.0</td>\n",
              "      <td>0.0</td>\n",
              "      <td>0.0</td>\n",
              "      <td>1.0</td>\n",
              "      <td>0.0</td>\n",
              "      <td>0.0</td>\n",
              "      <td>1.0</td>\n",
              "      <td>1.0</td>\n",
              "      <td>0.0</td>\n",
              "      <td>1.0</td>\n",
              "      <td>0.0</td>\n",
              "      <td>0.0</td>\n",
              "      <td>0.0</td>\n",
              "      <td>0.0</td>\n",
              "      <td>0.0</td>\n",
              "      <td>0.0</td>\n",
              "      <td>1.0</td>\n",
              "      <td>0.0</td>\n",
              "    </tr>\n",
              "    <tr>\n",
              "      <th>8953</th>\n",
              "      <td>0.999843</td>\n",
              "      <td>0.942116</td>\n",
              "      <td>0.0</td>\n",
              "      <td>0.333333</td>\n",
              "      <td>0.142857</td>\n",
              "      <td>0.2</td>\n",
              "      <td>0.071642</td>\n",
              "      <td>0.0</td>\n",
              "      <td>1.0</td>\n",
              "      <td>0.0</td>\n",
              "      <td>0.0</td>\n",
              "      <td>0.0</td>\n",
              "      <td>0.0</td>\n",
              "      <td>0.0</td>\n",
              "      <td>0.0</td>\n",
              "      <td>1.0</td>\n",
              "      <td>0.0</td>\n",
              "      <td>0.0</td>\n",
              "      <td>0.0</td>\n",
              "      <td>0.0</td>\n",
              "      <td>0.0</td>\n",
              "      <td>1.0</td>\n",
              "      <td>1.0</td>\n",
              "      <td>0.0</td>\n",
              "      <td>1.0</td>\n",
              "      <td>0.0</td>\n",
              "      <td>0.0</td>\n",
              "      <td>1.0</td>\n",
              "      <td>0.0</td>\n",
              "      <td>0.0</td>\n",
              "      <td>0.0</td>\n",
              "      <td>0.0</td>\n",
              "      <td>0.0</td>\n",
              "    </tr>\n",
              "    <tr>\n",
              "      <th>8954</th>\n",
              "      <td>1.000000</td>\n",
              "      <td>0.942116</td>\n",
              "      <td>0.0</td>\n",
              "      <td>1.000000</td>\n",
              "      <td>0.285714</td>\n",
              "      <td>0.8</td>\n",
              "      <td>0.128358</td>\n",
              "      <td>0.0</td>\n",
              "      <td>0.0</td>\n",
              "      <td>0.0</td>\n",
              "      <td>0.0</td>\n",
              "      <td>0.0</td>\n",
              "      <td>1.0</td>\n",
              "      <td>0.0</td>\n",
              "      <td>0.0</td>\n",
              "      <td>0.0</td>\n",
              "      <td>0.0</td>\n",
              "      <td>0.0</td>\n",
              "      <td>1.0</td>\n",
              "      <td>0.0</td>\n",
              "      <td>0.0</td>\n",
              "      <td>1.0</td>\n",
              "      <td>1.0</td>\n",
              "      <td>0.0</td>\n",
              "      <td>0.0</td>\n",
              "      <td>1.0</td>\n",
              "      <td>0.0</td>\n",
              "      <td>1.0</td>\n",
              "      <td>0.0</td>\n",
              "      <td>0.0</td>\n",
              "      <td>0.0</td>\n",
              "      <td>0.0</td>\n",
              "      <td>0.0</td>\n",
              "    </tr>\n",
              "  </tbody>\n",
              "</table>\n",
              "<p>8955 rows × 33 columns</p>\n",
              "</div>\n",
              "      <button class=\"colab-df-convert\" onclick=\"convertToInteractive('df-a96499a8-9d49-4229-a4b6-721b0f1627d1')\"\n",
              "              title=\"Convert this dataframe to an interactive table.\"\n",
              "              style=\"display:none;\">\n",
              "        \n",
              "  <svg xmlns=\"http://www.w3.org/2000/svg\" height=\"24px\"viewBox=\"0 0 24 24\"\n",
              "       width=\"24px\">\n",
              "    <path d=\"M0 0h24v24H0V0z\" fill=\"none\"/>\n",
              "    <path d=\"M18.56 5.44l.94 2.06.94-2.06 2.06-.94-2.06-.94-.94-2.06-.94 2.06-2.06.94zm-11 1L8.5 8.5l.94-2.06 2.06-.94-2.06-.94L8.5 2.5l-.94 2.06-2.06.94zm10 10l.94 2.06.94-2.06 2.06-.94-2.06-.94-.94-2.06-.94 2.06-2.06.94z\"/><path d=\"M17.41 7.96l-1.37-1.37c-.4-.4-.92-.59-1.43-.59-.52 0-1.04.2-1.43.59L10.3 9.45l-7.72 7.72c-.78.78-.78 2.05 0 2.83L4 21.41c.39.39.9.59 1.41.59.51 0 1.02-.2 1.41-.59l7.78-7.78 2.81-2.81c.8-.78.8-2.07 0-2.86zM5.41 20L4 18.59l7.72-7.72 1.47 1.35L5.41 20z\"/>\n",
              "  </svg>\n",
              "      </button>\n",
              "      \n",
              "  <style>\n",
              "    .colab-df-container {\n",
              "      display:flex;\n",
              "      flex-wrap:wrap;\n",
              "      gap: 12px;\n",
              "    }\n",
              "\n",
              "    .colab-df-convert {\n",
              "      background-color: #E8F0FE;\n",
              "      border: none;\n",
              "      border-radius: 50%;\n",
              "      cursor: pointer;\n",
              "      display: none;\n",
              "      fill: #1967D2;\n",
              "      height: 32px;\n",
              "      padding: 0 0 0 0;\n",
              "      width: 32px;\n",
              "    }\n",
              "\n",
              "    .colab-df-convert:hover {\n",
              "      background-color: #E2EBFA;\n",
              "      box-shadow: 0px 1px 2px rgba(60, 64, 67, 0.3), 0px 1px 3px 1px rgba(60, 64, 67, 0.15);\n",
              "      fill: #174EA6;\n",
              "    }\n",
              "\n",
              "    [theme=dark] .colab-df-convert {\n",
              "      background-color: #3B4455;\n",
              "      fill: #D2E3FC;\n",
              "    }\n",
              "\n",
              "    [theme=dark] .colab-df-convert:hover {\n",
              "      background-color: #434B5C;\n",
              "      box-shadow: 0px 1px 3px 1px rgba(0, 0, 0, 0.15);\n",
              "      filter: drop-shadow(0px 1px 2px rgba(0, 0, 0, 0.3));\n",
              "      fill: #FFFFFF;\n",
              "    }\n",
              "  </style>\n",
              "\n",
              "      <script>\n",
              "        const buttonEl =\n",
              "          document.querySelector('#df-a96499a8-9d49-4229-a4b6-721b0f1627d1 button.colab-df-convert');\n",
              "        buttonEl.style.display =\n",
              "          google.colab.kernel.accessAllowed ? 'block' : 'none';\n",
              "\n",
              "        async function convertToInteractive(key) {\n",
              "          const element = document.querySelector('#df-a96499a8-9d49-4229-a4b6-721b0f1627d1');\n",
              "          const dataTable =\n",
              "            await google.colab.kernel.invokeFunction('convertToInteractive',\n",
              "                                                     [key], {});\n",
              "          if (!dataTable) return;\n",
              "\n",
              "          const docLinkHtml = 'Like what you see? Visit the ' +\n",
              "            '<a target=\"_blank\" href=https://colab.research.google.com/notebooks/data_table.ipynb>data table notebook</a>'\n",
              "            + ' to learn more about interactive tables.';\n",
              "          element.innerHTML = '';\n",
              "          dataTable['output_type'] = 'display_data';\n",
              "          await google.colab.output.renderOutput(dataTable, element);\n",
              "          const docLink = document.createElement('div');\n",
              "          docLink.innerHTML = docLinkHtml;\n",
              "          element.appendChild(docLink);\n",
              "        }\n",
              "      </script>\n",
              "    </div>\n",
              "  </div>\n",
              "  "
            ]
          },
          "metadata": {},
          "execution_count": 403
        }
      ]
    },
    {
      "cell_type": "markdown",
      "source": [
        "#3. X/Y and Training/Test Split with stratified sampling and SMOTE"
      ],
      "metadata": {
        "id": "rs20G8hXRmK5"
      }
    },
    {
      "cell_type": "markdown",
      "source": [
        "##I. Copy all the features into X and the target to Y"
      ],
      "metadata": {
        "id": "XyBxR_83RxoS"
      }
    },
    {
      "cell_type": "code",
      "source": [
        "X = data.drop(columns=['target']).values\n",
        "y = data['target'].values"
      ],
      "metadata": {
        "id": "7Fr1ZnEWR6VE"
      },
      "execution_count": 404,
      "outputs": []
    },
    {
      "cell_type": "markdown",
      "source": [
        "##II. Show the ratio of 1 and 0 in Y"
      ],
      "metadata": {
        "id": "adSfdaHySYAh"
      }
    },
    {
      "cell_type": "code",
      "source": [
        "print('y ratio: ' + str(y.sum() / (y.shape[0] - y.sum()) ))"
      ],
      "metadata": {
        "colab": {
          "base_uri": "https://localhost:8080/",
          "height": 0
        },
        "id": "PVZmaDsrSdCs",
        "outputId": "4e2e32bd-8834-462b-a502-d05be42ea9c9"
      },
      "execution_count": 405,
      "outputs": [
        {
          "output_type": "stream",
          "name": "stdout",
          "text": [
            "y ratio: 0.19847430406852248\n"
          ]
        }
      ]
    },
    {
      "cell_type": "markdown",
      "source": [
        "##III. Use sklearn's train_test_split to split the data set into training and test sets. There should be 30% records in the test set. The random_stat should be 0. As we want to have the same ratio of 0 and 1 in the test set, use the stratify parameter to the Y.  "
      ],
      "metadata": {
        "id": "XtVTi8uaS_qH"
      }
    },
    {
      "cell_type": "code",
      "source": [
        "X_train_ub, X_test, y_train_ub, y_test = train_test_split(X, y, test_size=0.3, random_state=0, stratify=y)"
      ],
      "metadata": {
        "id": "dJ1n9RUyTDL_"
      },
      "execution_count": 406,
      "outputs": []
    },
    {
      "cell_type": "markdown",
      "source": [
        "##IV. Show the ratio of 1 and 0 in y_train and then y_test\n"
      ],
      "metadata": {
        "id": "Lar2bRwMTf-h"
      }
    },
    {
      "cell_type": "code",
      "source": [
        "print('y_train ratio: ' + str(y_train_ub.sum() / (y_train_ub.shape[0] - y_train_ub.sum()) ))\n",
        "print('y_test ratio: ' + str(y_test.sum() / (y_test.shape[0] - y_test.sum()) ))\n"
      ],
      "metadata": {
        "colab": {
          "base_uri": "https://localhost:8080/",
          "height": 0
        },
        "id": "RW0YyaeGTnAH",
        "outputId": "6e6b0dd7-74c0-4a06-dd81-7fc1c1434fa6"
      },
      "execution_count": 407,
      "outputs": [
        {
          "output_type": "stream",
          "name": "stdout",
          "text": [
            "y_train ratio: 0.19847036328871892\n",
            "y_test ratio: 0.19848349687778769\n"
          ]
        }
      ]
    },
    {
      "cell_type": "markdown",
      "source": [
        "##V. Rebalance"
      ],
      "metadata": {
        "id": "-EFciTEKVDAZ"
      }
    },
    {
      "cell_type": "markdown",
      "source": [
        "###I. Use imblearn's SMOTE to balance the x_train "
      ],
      "metadata": {
        "id": "mPtb3vv3VGTJ"
      }
    },
    {
      "cell_type": "code",
      "source": [
        "from imblearn.over_sampling import SMOTE, ADASYN\n",
        "X_train, y_train = SMOTE().fit_resample(X_train_ub, y_train_ub)\n"
      ],
      "metadata": {
        "id": "6HMjchylVJFd"
      },
      "execution_count": 408,
      "outputs": []
    },
    {
      "cell_type": "markdown",
      "source": [
        "##VI. Show the ratio of 0 and 1 in Y_train after rebalancing. (do you have 50% of each class now?)"
      ],
      "metadata": {
        "id": "JfyAvUUnVrEx"
      }
    },
    {
      "cell_type": "code",
      "source": [
        "print('y_train ratio: ' + str(y_train.sum() / (y_train.shape[0] - y_train.sum()) ))"
      ],
      "metadata": {
        "colab": {
          "base_uri": "https://localhost:8080/",
          "height": 0
        },
        "id": "220PRRAxV380",
        "outputId": "d19c02a7-79b8-4a76-9238-6a4eeb70ff2d"
      },
      "execution_count": 409,
      "outputs": [
        {
          "output_type": "stream",
          "name": "stdout",
          "text": [
            "y_train ratio: 1.0\n"
          ]
        }
      ]
    },
    {
      "cell_type": "markdown",
      "source": [
        "#4. PCA and Logistic Regression"
      ],
      "metadata": {
        "id": "kbD5QEm1XEx_"
      }
    },
    {
      "cell_type": "markdown",
      "source": [
        "##I. As we have many features now, we would like to do principal component analysis (you have learned it in datacamp). As part of it, create pipeline to find how many dimensions give you the best logistic regression model. "
      ],
      "metadata": {
        "id": "l4xYH2bwXJAn"
      }
    },
    {
      "cell_type": "code",
      "source": [
        "# compare pca number of components with logistic regression algorithm for classification\n",
        "from numpy import mean\n",
        "from numpy import std\n",
        "from sklearn.model_selection import cross_val_score\n",
        "from sklearn.model_selection import RepeatedStratifiedKFold\n",
        "from sklearn.pipeline import Pipeline\n",
        "from sklearn.decomposition import PCA\n",
        "from sklearn.linear_model import LogisticRegression\n",
        "\n",
        "# get a list of models to evaluate\n",
        "def get_models():\n",
        "\tmodels = dict()\n",
        "\tfor i in range(1,32):\n",
        "\t\tsteps = [('pca', PCA(n_components=i)), ('m', LogisticRegression())]\n",
        "\t\tmodels[str(i)] = Pipeline(steps=steps)\n",
        "\treturn models\n",
        " \n",
        "# evaluate a given model using cross-validation\n",
        "def evaluate_model(model, X, y):\n",
        "\tcv = RepeatedStratifiedKFold(n_splits=10, n_repeats=3, random_state=1)\n",
        "\tscores = cross_val_score(model, X, y, scoring='accuracy', cv=cv, n_jobs=-1, error_score='raise')\n",
        "\treturn scores\n",
        " \n",
        "\n",
        "# get the models to evaluate\n",
        "models = get_models()\n",
        "\n",
        "# evaluate the models and store results\n",
        "results, names = list(), list()\n",
        "for name, model in models.items():\n",
        "\tscores = evaluate_model(model, X_train, y_train)\n",
        "\tresults.append(scores)\n",
        "\tnames.append(name)\n",
        "\tprint('>%s %.3f (%.3f)' % (name, mean(scores), std(scores)))\n",
        "# plot model performance for comparison\n",
        "plt.boxplot(results, labels=names, showmeans=True)\n",
        "plt.xticks(rotation=45)\n",
        "plt.show()"
      ],
      "metadata": {
        "colab": {
          "base_uri": "https://localhost:8080/",
          "height": 824
        },
        "id": "sjBEnkCVYmd5",
        "outputId": "9c09d525-f8f7-4e11-89e9-0f1bc17464b3"
      },
      "execution_count": 410,
      "outputs": [
        {
          "output_type": "stream",
          "name": "stdout",
          "text": [
            ">1 0.671 (0.015)\n",
            ">2 0.686 (0.013)\n",
            ">3 0.687 (0.014)\n",
            ">4 0.690 (0.014)\n",
            ">5 0.700 (0.012)\n",
            ">6 0.701 (0.013)\n",
            ">7 0.704 (0.013)\n",
            ">8 0.720 (0.012)\n",
            ">9 0.722 (0.012)\n",
            ">10 0.725 (0.011)\n",
            ">11 0.728 (0.011)\n",
            ">12 0.727 (0.012)\n",
            ">13 0.726 (0.012)\n",
            ">14 0.726 (0.012)\n",
            ">15 0.726 (0.012)\n",
            ">16 0.727 (0.012)\n",
            ">17 0.725 (0.012)\n",
            ">18 0.724 (0.013)\n",
            ">19 0.724 (0.013)\n",
            ">20 0.723 (0.013)\n",
            ">21 0.728 (0.013)\n",
            ">22 0.729 (0.013)\n",
            ">23 0.729 (0.012)\n",
            ">24 0.729 (0.013)\n",
            ">25 0.728 (0.013)\n",
            ">26 0.728 (0.013)\n",
            ">27 0.728 (0.013)\n",
            ">28 0.728 (0.013)\n",
            ">29 0.728 (0.013)\n",
            ">30 0.728 (0.013)\n",
            ">31 0.728 (0.013)\n"
          ]
        },
        {
          "output_type": "display_data",
          "data": {
            "text/plain": [
              "<Figure size 432x288 with 1 Axes>"
            ],
            "image/png": "[encoded data removed]"
          },
          "metadata": {
            "needs_background": "light"
          }
        }
      ]
    },
    {
      "cell_type": "markdown",
      "source": [
        "##II. Based on the number of features chosen in the above step, use the test set to evaluate the model for accuracy (the code right after the plot can give you an idea about it.). Use sklearn.metrics import accuracy_score for accuracy (the google colab link in the classification module should help with it)"
      ],
      "metadata": {
        "id": "-jQdZMsPZksW"
      }
    },
    {
      "cell_type": "code",
      "source": [
        "from sklearn.metrics import accuracy_score\n",
        "\n",
        "steps = [(\"pca\", PCA(n_components=12)), ('m', LogisticRegression())]\n",
        "model = Pipeline(steps=steps)\n",
        "model.fit(X_train, y_train)\n",
        "\n",
        "y_pred1 = model.predict(X_test)\n",
        "accuracy_score(y_test, y_pred1)"
      ],
      "metadata": {
        "colab": {
          "base_uri": "https://localhost:8080/",
          "height": 0
        },
        "id": "t_cCJ_Y_ae3S",
        "outputId": "49187249-f220-4c4b-d884-d7c33e57bacb"
      },
      "execution_count": 427,
      "outputs": [
        {
          "output_type": "execute_result",
          "data": {
            "text/plain": [
              "0.8388537402307406"
            ]
          },
          "metadata": {},
          "execution_count": 427
        }
      ]
    },
    {
      "cell_type": "markdown",
      "source": [
        "##III. Show the confusion matrix and interpret the numbers in the confusion matrix (the google colab link in the classification module should help with it)"
      ],
      "metadata": {
        "id": "pu5_48AyboK2"
      }
    },
    {
      "cell_type": "markdown",
      "source": [
        "There are 2006 correct negatives, 236 false positives, 197 false negatives, 248 true positives"
      ],
      "metadata": {
        "id": "z6ppuEdgcQII"
      }
    },
    {
      "cell_type": "code",
      "source": [
        "from sklearn.metrics import confusion_matrix\n",
        "confusion_matrix(y_test, y_pred1)"
      ],
      "metadata": {
        "colab": {
          "base_uri": "https://localhost:8080/",
          "height": 0
        },
        "id": "SL3iEGkWbqXh",
        "outputId": "fba36cc1-4358-4e16-8974-e5ac223ab7d5"
      },
      "execution_count": 428,
      "outputs": [
        {
          "output_type": "execute_result",
          "data": {
            "text/plain": [
              "array([[2006,  236],\n",
              "       [ 197,  248]])"
            ]
          },
          "metadata": {},
          "execution_count": 428
        }
      ]
    },
    {
      "cell_type": "markdown",
      "source": [
        "##IV. Show precision, recall, and f1 score ((the google colab link in the classification module should help with it)). Note that all of these scores should be calculated based on the test set and predicted result for the test set"
      ],
      "metadata": {
        "id": "IhjlbVhZckwp"
      }
    },
    {
      "cell_type": "code",
      "source": [
        "from sklearn.metrics import precision_score, recall_score, f1_score\n",
        "\n",
        "print(\"Precision: \" + str(precision_score(y_test, y_pred1)))\n",
        "print(\"Recall: \" + str(recall_score(y_test, y_pred1)))\n",
        "print(\"F1: \" + str(f1_score(y_test, y_pred1)))\n"
      ],
      "metadata": {
        "colab": {
          "base_uri": "https://localhost:8080/",
          "height": 0
        },
        "id": "os6720rxc2fa",
        "outputId": "df82195d-6deb-46ce-f7f2-92a5d388032f"
      },
      "execution_count": 429,
      "outputs": [
        {
          "output_type": "stream",
          "name": "stdout",
          "text": [
            "Precision: 0.512396694214876\n",
            "Recall: 0.5573033707865168\n",
            "F1: 0.5339074273412271\n"
          ]
        }
      ]
    },
    {
      "cell_type": "markdown",
      "source": [
        "##V.  Plot ROC curve and find AUC (the same google colab link should help you)"
      ],
      "metadata": {
        "id": "bBcc4WJ8d4DO"
      }
    },
    {
      "cell_type": "code",
      "source": [
        "from sklearn.metrics import roc_curve, roc_auc_score\n",
        "\n",
        "fpr, tpr, thresholds = roc_curve(y_test, y_pred1)\n",
        "y_score = model.predict_proba(X_test)[:,1]\n",
        "\n",
        "plt.plot(fpr, tpr, linewidth=2)\n",
        "plt.plot([0, 1], [0, 1], 'k--')\n",
        "plt.xlabel(\"False Positive Rate\")\n",
        "plt.ylabel(\"True Positive Rate (Recall)\")\n",
        "plt.show()\n",
        "roc_auc_score(y_test, y_score)"
      ],
      "metadata": {
        "colab": {
          "base_uri": "https://localhost:8080/",
          "height": 297
        },
        "id": "rU7MZLFleJuI",
        "outputId": "b8f86ea3-c18a-4d05-d3a0-76d76be3639d"
      },
      "execution_count": 430,
      "outputs": [
        {
          "output_type": "display_data",
          "data": {
            "text/plain": [
              "<Figure size 432x288 with 1 Axes>"
            ],
            "image/png": "[encoded data removed]"
          },
          "metadata": {
            "needs_background": "light"
          }
        },
        {
          "output_type": "execute_result",
          "data": {
            "text/plain": [
              "0.74889394501298"
            ]
          },
          "metadata": {},
          "execution_count": 430
        }
      ]
    },
    {
      "cell_type": "markdown",
      "source": [
        "##VI. Plot precision-recall curve for different thresholds and discuss the plot\n"
      ],
      "metadata": {
        "id": "ZNFacdRDfgLA"
      }
    },
    {
      "cell_type": "code",
      "source": [
        "from sklearn.metrics import precision_recall_curve\n",
        "precisions, recalls, thresholds = precision_recall_curve(y_test, y_score)\n",
        "\n",
        "\n",
        " \n",
        "\n",
        "plt.figure(figsize=(10,5))\n",
        "plt.plot(thresholds, precisions[:-1], \"b--\", label=\"Precision\")\n",
        "plt.plot(thresholds, recalls[:-1], \"g-\", label=\"Recall\")\n",
        "plt.show()"
      ],
      "metadata": {
        "colab": {
          "base_uri": "https://localhost:8080/",
          "height": 320
        },
        "id": "w5YVfL05fifd",
        "outputId": "1028806d-f866-41d7-b425-a79790674254"
      },
      "execution_count": 431,
      "outputs": [
        {
          "output_type": "display_data",
          "data": {
            "text/plain": [
              "<Figure size 720x360 with 1 Axes>"
            ],
            "image/png": "[encoded data removed]"
          },
          "metadata": {
            "needs_background": "light"
          }
        }
      ]
    },
    {
      "cell_type": "markdown",
      "source": [
        "#5. Softmaxt regression:"
      ],
      "metadata": {
        "id": "PAKky4oqlrxN"
      }
    },
    {
      "cell_type": "markdown",
      "source": [
        "##1. How softmax regression is related to logistic regression? What library can you use for softmax regression?"
      ],
      "metadata": {
        "id": "G2e8SXGDlwer"
      }
    },
    {
      "cell_type": "markdown",
      "source": [
        "### Softmax regression is generalized logistic regression but is able to handle multiple classes. You can use TensorFlow for softmax regression."
      ],
      "metadata": {
        "id": "tGo6TvjymDpA"
      }
    },
    {
      "cell_type": "markdown",
      "source": [
        "#6. KNN (Always use rebalanced training set for training, if it is not specified which training set to use)\n"
      ],
      "metadata": {
        "id": "pF8rCHS0mm4Y"
      }
    },
    {
      "cell_type": "markdown",
      "source": [
        "##1. Use sklearn's KNN classifier to train (with k=  10) and predict the model based on the unbalanced training set (the training set before rebalancing) and test it and show the confusion matrix and classification report"
      ],
      "metadata": {
        "id": "SO09Y_9Omzzn"
      }
    },
    {
      "cell_type": "code",
      "source": [
        "from sklearn.neighbors import KNeighborsClassifier\n",
        "from sklearn.metrics import classification_report, confusion_matrix\n",
        "\n",
        "\n",
        "classifier = KNeighborsClassifier(n_neighbors=10)\n",
        "classifier.fit(X_train_ub, y_train_ub)\n",
        "\n",
        "y_pred2 = classifier.predict(X_test)\n",
        "\n",
        "print(confusion_matrix(y_test, y_pred2))\n",
        "print(classification_report(y_test, y_pred2))"
      ],
      "metadata": {
        "colab": {
          "base_uri": "https://localhost:8080/",
          "height": 0
        },
        "id": "2Qj1JwsDm-to",
        "outputId": "4b9d4afd-3f23-4912-d6a5-f4e2c6676345"
      },
      "execution_count": 432,
      "outputs": [
        {
          "output_type": "stream",
          "name": "stdout",
          "text": [
            "[[2155   87]\n",
            " [ 312  133]]\n",
            "              precision    recall  f1-score   support\n",
            "\n",
            "         0.0       0.87      0.96      0.92      2242\n",
            "         1.0       0.60      0.30      0.40       445\n",
            "\n",
            "    accuracy                           0.85      2687\n",
            "   macro avg       0.74      0.63      0.66      2687\n",
            "weighted avg       0.83      0.85      0.83      2687\n",
            "\n"
          ]
        }
      ]
    },
    {
      "cell_type": "markdown",
      "source": [
        "##2. Use sklearn's KNN classifier to train (with k=  10) and predict the model based on the rebalanced training set and test it and show the confusion matrix and classification report"
      ],
      "metadata": {
        "id": "5gGGwoTspUf6"
      }
    },
    {
      "cell_type": "code",
      "source": [
        "classifier2 = KNeighborsClassifier(n_neighbors=10)\n",
        "classifier2.fit(X_train, y_train)\n",
        "\n",
        "y_pred3 = classifier2.predict(X_test)\n",
        "\n",
        "print(confusion_matrix(y_test, y_pred3))\n",
        "print(classification_report(y_test, y_pred3))"
      ],
      "metadata": {
        "colab": {
          "base_uri": "https://localhost:8080/",
          "height": 0
        },
        "id": "arH9Yj8apYgy",
        "outputId": "e697f27f-7e99-4383-e80e-5ee03838418e"
      },
      "execution_count": 417,
      "outputs": [
        {
          "output_type": "stream",
          "name": "stdout",
          "text": [
            "[[1699  543]\n",
            " [ 183  262]]\n",
            "              precision    recall  f1-score   support\n",
            "\n",
            "         0.0       0.90      0.76      0.82      2242\n",
            "         1.0       0.33      0.59      0.42       445\n",
            "\n",
            "    accuracy                           0.73      2687\n",
            "   macro avg       0.61      0.67      0.62      2687\n",
            "weighted avg       0.81      0.73      0.76      2687\n",
            "\n"
          ]
        }
      ]
    },
    {
      "cell_type": "markdown",
      "source": [
        "##3. Use grid search to tune the following hyperparameters of KNN: number of neighbors (between 1 and 20), weights  (uniform or distance), and metrics (Euclidean, Manhattan, or Minkowski)istance) to use for KNN. While creating an instance of GridSearchCV, use multiple evaluation metrics such as AUC and accuracy based on the example available at ..."
      ],
      "metadata": {
        "id": "J65BeNFTp50Z"
      }
    },
    {
      "cell_type": "code",
      "source": [
        "from sklearn.model_selection import GridSearchCV\n",
        "\n",
        "knn_params = {\n",
        "    \"n_neighbors\": range(1, 26, 2),\n",
        "    \"weights\": [\"uniform\", \"distance\"],\n",
        "    \"metric\": [\"euclidean\", \"manhattan\", \"minkowski\"],\n",
        "    \"leaf_size\": range(1, 40, 5)\n",
        "}\n",
        "\n",
        "knn = KNeighborsClassifier()\n",
        "\n",
        "#grid search\n",
        "cv = RepeatedStratifiedKFold(n_splits=10, n_repeats=3, random_state=0)\n",
        "grid_search = GridSearchCV(estimator=knn, param_grid=knn_params, n_jobs=-1, cv=cv, scoring=\"accuracy\", error_score=0)\n",
        "grid_results = grid_search.fit(X_train, y_train)"
      ],
      "metadata": {
        "id": "2ySTScgPp-gD"
      },
      "execution_count": 433,
      "outputs": []
    },
    {
      "cell_type": "markdown",
      "source": [
        "##4. The above grid search process can take a couple of minutes. After completing the process, print the best_params_"
      ],
      "metadata": {
        "id": "04mvS2D_stm_"
      }
    },
    {
      "cell_type": "code",
      "source": [
        "print(grid_results.best_params_)"
      ],
      "metadata": {
        "colab": {
          "base_uri": "https://localhost:8080/",
          "height": 0
        },
        "id": "vu3qRavksyLx",
        "outputId": "26bd6a00-310e-40d8-fd5a-72e96d47870c"
      },
      "execution_count": 434,
      "outputs": [
        {
          "output_type": "stream",
          "name": "stdout",
          "text": [
            "{'leaf_size': 1, 'metric': 'manhattan', 'n_neighbors': 1, 'weights': 'uniform'}\n"
          ]
        }
      ]
    },
    {
      "cell_type": "markdown",
      "source": [
        "##5. Based on the result from grid search, use the parameters to train a model, test it with test set, and then print the confusion matrix and classification report. Also, show the AUC of ROC."
      ],
      "metadata": {
        "id": "QsswiruLs8as"
      }
    },
    {
      "cell_type": "code",
      "source": [
        "final_model = knn.set_params(**grid_results.best_params_)\n",
        "final_model.fit(X_train, y_train)\n",
        "y_pred4 = final_model.predict(X_test)\n",
        "\n",
        "#summarize results\n",
        "print(classification_report(y_test, y_pred4))\n",
        "print(confusion_matrix(y_test, y_pred4))\n",
        "print(grid_results.best_params_)\n",
        "\n",
        "fpr, tpr, thresholds = roc_curve(y_test, y_pred4)\n",
        "y_score2 = final_model.predict_proba(X_test)[:,1]\n",
        "\n",
        "plt.plot(fpr, tpr, linewidth=2)\n",
        "plt.plot([0, 1], [0, 1], 'k--')\n",
        "plt.xlabel(\"False Positive Rate\")\n",
        "plt.ylabel(\"True Positive Rate (Recall)\")\n",
        "plt.show()\n",
        "roc_auc_score(y_test, y_score2)"
      ],
      "metadata": {
        "colab": {
          "base_uri": "https://localhost:8080/",
          "height": 511
        },
        "id": "CYgUCh3UtDll",
        "outputId": "43f89357-69d8-4211-8a28-cac196085855"
      },
      "execution_count": 436,
      "outputs": [
        {
          "output_type": "stream",
          "name": "stdout",
          "text": [
            "              precision    recall  f1-score   support\n",
            "\n",
            "         0.0       0.88      0.84      0.86      2242\n",
            "         1.0       0.35      0.42      0.38       445\n",
            "\n",
            "    accuracy                           0.77      2687\n",
            "   macro avg       0.61      0.63      0.62      2687\n",
            "weighted avg       0.79      0.77      0.78      2687\n",
            "\n",
            "[[1893  349]\n",
            " [ 259  186]]\n",
            "{'leaf_size': 1, 'metric': 'manhattan', 'n_neighbors': 1, 'weights': 'uniform'}\n"
          ]
        },
        {
          "output_type": "display_data",
          "data": {
            "text/plain": [
              "<Figure size 432x288 with 1 Axes>"
            ],
            "image/png": "[encoded data removed]"
          },
          "metadata": {
            "needs_background": "light"
          }
        },
        {
          "output_type": "execute_result",
          "data": {
            "text/plain": [
              "0.6311564714490472"
            ]
          },
          "metadata": {},
          "execution_count": 436
        }
      ]
    },
    {
      "cell_type": "markdown",
      "source": [
        "##6. Use PCA and based on that train model, test it and then print the confusion matrix and classification report. Also, show the AUC of ROC."
      ],
      "metadata": {
        "id": "CXDE7WqtvvC5"
      }
    },
    {
      "cell_type": "code",
      "source": [
        "steps = [(\"pca\", PCA(n_components=12)), ('m', LogisticRegression())]\n",
        "model = Pipeline(steps=steps)\n",
        "model.fit(X_train, y_train)\n",
        "\n",
        "y_pred5 = model.predict(X_test)\n",
        "accuracy_score(y_test, y_pred5)\n",
        "\n",
        "fpr, tpr, thresholds = roc_curve(y_test, y_pred5)\n",
        "y_score3 = model.predict_proba(X_test)[:,1]\n",
        "\n",
        "plt.plot(fpr, tpr, linewidth=2)\n",
        "plt.plot([0, 1], [0, 1], 'k--')\n",
        "plt.xlabel(\"False Positive Rate\")\n",
        "plt.ylabel(\"True Positive Rate (Recall)\")\n",
        "plt.show()\n",
        "roc_auc_score(y_test, y_score3)"
      ],
      "metadata": {
        "colab": {
          "base_uri": "https://localhost:8080/",
          "height": 297
        },
        "id": "oJF-W5E3v2NJ",
        "outputId": "f9fbc5db-ead5-4890-c6fa-f03b37a8ba22"
      },
      "execution_count": 437,
      "outputs": [
        {
          "output_type": "display_data",
          "data": {
            "text/plain": [
              "<Figure size 432x288 with 1 Axes>"
            ],
            "image/png": "[encoded data removed]"
          },
          "metadata": {
            "needs_background": "light"
          }
        },
        {
          "output_type": "execute_result",
          "data": {
            "text/plain": [
              "0.7488819172287986"
            ]
          },
          "metadata": {},
          "execution_count": 437
        }
      ]
    },
    {
      "cell_type": "markdown",
      "source": [
        "##7. A short discussion on the 4 models and their differences."
      ],
      "metadata": {
        "id": "V9gYdRvcvSgt"
      }
    },
    {
      "cell_type": "markdown",
      "source": [
        "### The unbalanced set actually preformed better than the balanced set on KNN. "
      ],
      "metadata": {
        "id": "-Gm015YIvUaT"
      }
    },
    {
      "cell_type": "markdown",
      "source": [
        "#7. Naive Bayes"
      ],
      "metadata": {
        "id": "OQoLfMIuwcdP"
      }
    },
    {
      "cell_type": "markdown",
      "source": [
        "##1. Train a model with GaussianNB, test it and then print the confusion matrix and classification report. Also, plot ROC curve and show the AUC of ROC, and the count of the number of misclassification."
      ],
      "metadata": {
        "id": "OdTypow2wfq_"
      }
    },
    {
      "cell_type": "code",
      "source": [
        "from sklearn.naive_bayes import GaussianNB\n",
        "nb = GaussianNB()\n",
        "nb.fit(X_train, y_train)\n",
        "y_pred6 = nb.predict(X_test)\n",
        "count_misclassified_gnb = (y_test != y_pred6).sum()\n",
        "\n",
        "print(accuracy_score(y_test, y_pred6))\n",
        "print(classification_report(y_test, y_pred6))\n",
        "print(confusion_matrix(y_test, y_pred6))\n",
        "print('Misclassification: ' + str(count_misclassified_gnb))\n",
        "\n",
        "fpr, tpr, thresholds = roc_curve(y_test, y_pred6)\n",
        "y_score4 = nb.predict_proba(X_test)[:,1]\n",
        "\n",
        "plt.plot(fpr, tpr, linewidth=2)\n",
        "plt.plot([0, 1], [0, 1], 'k--')\n",
        "plt.xlabel(\"False Positive Rate\")\n",
        "plt.ylabel(\"True Positive Rate (Recall)\")\n",
        "plt.show()\n",
        "roc_auc_score(y_test, y_score4)"
      ],
      "metadata": {
        "colab": {
          "base_uri": "https://localhost:8080/",
          "height": 529
        },
        "id": "0JkPEAyEw9b-",
        "outputId": "55572959-5e59-4561-fbd0-eb690badfb93"
      },
      "execution_count": 438,
      "outputs": [
        {
          "output_type": "stream",
          "name": "stdout",
          "text": [
            "0.5135839225902493\n",
            "              precision    recall  f1-score   support\n",
            "\n",
            "         0.0       0.91      0.46      0.61      2242\n",
            "         1.0       0.22      0.77      0.34       445\n",
            "\n",
            "    accuracy                           0.51      2687\n",
            "   macro avg       0.57      0.62      0.48      2687\n",
            "weighted avg       0.80      0.51      0.57      2687\n",
            "\n",
            "[[1038 1204]\n",
            " [ 103  342]]\n",
            "Misclassification: 1307\n"
          ]
        },
        {
          "output_type": "display_data",
          "data": {
            "text/plain": [
              "<Figure size 432x288 with 1 Axes>"
            ],
            "image/png": "[encoded data removed]"
          },
          "metadata": {
            "needs_background": "light"
          }
        },
        {
          "output_type": "execute_result",
          "data": {
            "text/plain": [
              "0.7255881085307059"
            ]
          },
          "metadata": {},
          "execution_count": 438
        }
      ]
    },
    {
      "cell_type": "markdown",
      "source": [
        "##2. Train a model with CategoricalNB, test it and then print the confusion matrix and classification report. Also, plot ROC curve, and show the AUC of ROC and the count of the number of misclassification."
      ],
      "metadata": {
        "id": "5sHz5UKMyGSo"
      }
    },
    {
      "cell_type": "code",
      "source": [
        "from sklearn.naive_bayes import CategoricalNB\n",
        "\n",
        "cnb = CategoricalNB()\n",
        "cnb.fit(X_train, y_train)\n",
        "\n",
        "y_pred_cnb = cnb.predict(X_test)\n",
        "y_proba_pred_cnb = cnb.predict_proba(X_test)\n",
        "\n",
        "count_misclassified = (y_test != y_pred_cnb).sum()\n",
        "\n",
        "print(accuracy_score(y_test, y_pred_cnb))\n",
        "print(classification_report(y_test, y_pred_cnb))\n",
        "print(confusion_matrix(y_test, y_pred_cnb))\n",
        "print('Misclassification: ' + str(count_misclassified))\n",
        "\n",
        "fpr, tpr, thresholds = roc_curve(y_test, y_pred_cnb)\n",
        "y_proba_pred_cnb = nb.predict_proba(X_test)[:,1]\n",
        "\n",
        "plt.plot(fpr, tpr, linewidth=2)\n",
        "plt.plot([0, 1], [0, 1], 'k--')\n",
        "plt.xlabel(\"False Positive Rate\")\n",
        "plt.ylabel(\"True Positive Rate (Recall)\")\n",
        "plt.show()\n",
        "roc_auc_score(y_test, y_proba_pred_cnb)"
      ],
      "metadata": {
        "colab": {
          "base_uri": "https://localhost:8080/",
          "height": 529
        },
        "id": "CIBraYmjyKGh",
        "outputId": "a90b2d97-96f4-4d82-cb6b-cab508ec1114"
      },
      "execution_count": 446,
      "outputs": [
        {
          "output_type": "stream",
          "name": "stdout",
          "text": [
            "0.8034983252698177\n",
            "              precision    recall  f1-score   support\n",
            "\n",
            "         0.0       0.90      0.86      0.88      2242\n",
            "         1.0       0.43      0.53      0.47       445\n",
            "\n",
            "    accuracy                           0.80      2687\n",
            "   macro avg       0.66      0.69      0.68      2687\n",
            "weighted avg       0.82      0.80      0.81      2687\n",
            "\n",
            "[[1923  319]\n",
            " [ 209  236]]\n",
            "Misclassification: 528\n"
          ]
        },
        {
          "output_type": "display_data",
          "data": {
            "text/plain": [
              "<Figure size 432x288 with 1 Axes>"
            ],
            "image/png": "[encoded data removed]"
          },
          "metadata": {
            "needs_background": "light"
          }
        },
        {
          "output_type": "execute_result",
          "data": {
            "text/plain": [
              "0.7255881085307059"
            ]
          },
          "metadata": {},
          "execution_count": 446
        }
      ]
    },
    {
      "cell_type": "markdown",
      "source": [
        "#8. Support Vector Machine"
      ],
      "metadata": {
        "id": "AZqKG5120C3y"
      }
    },
    {
      "cell_type": "markdown",
      "source": [
        "##1. Build a support vector machine model using SVC. Use grid search to tune some parameters and then based on that show the best parameters found"
      ],
      "metadata": {
        "id": "FeHl9lSS0GlU"
      }
    },
    {
      "cell_type": "code",
      "source": [
        "from sklearn.svm import SVC\n",
        "\n",
        "param_grid = {'C': [1, 10, 100], 'gamma': [1,0.1,0.01,0.0001]}\n",
        "\n",
        "gs = GridSearchCV(SVC(probability=True), param_grid, refit=True, verbose=3, cv=3, n_jobs=-1)\n",
        "gs.fit(X_train, y_train)\n",
        "\n",
        "print(gs.best_params_)"
      ],
      "metadata": {
        "colab": {
          "base_uri": "https://localhost:8080/",
          "height": 0
        },
        "id": "B8S28F9t0ZCn",
        "outputId": "5d19cac4-376b-4768-a607-45e324669dd6"
      },
      "execution_count": 444,
      "outputs": [
        {
          "output_type": "stream",
          "name": "stdout",
          "text": [
            "Fitting 3 folds for each of 12 candidates, totalling 36 fits\n",
            "{'C': 100, 'gamma': 1}\n"
          ]
        }
      ]
    },
    {
      "cell_type": "markdown",
      "source": [
        "##2. Test the model and print the confusion matrix and classification report. Also, plot ROC curve and show the AUC of ROC, and the count of the number of misclassification."
      ],
      "metadata": {
        "id": "wQYyMD8o2FwF"
      }
    },
    {
      "cell_type": "code",
      "source": [
        "y_pred_svc = gs.predict(X_test)\n",
        "y_proba_svc = gs.predict_proba(X_test)[:,1]\n",
        "count_misclassified_svc = (y_test != y_pred_svc).sum()\n",
        "\n",
        "print(confusion_matrix(y_test, y_pred_svc))\n",
        "print(classification_report(y_test, y_pred_svc))\n",
        "print(\"Misclassified: \" + str(count_misclassified_svc))\n",
        "\n",
        "fpr, tpr, thresholds = roc_curve(y_test, y_pred_svc)\n",
        "\n",
        "plt.plot(fpr, tpr, linewidth=2)\n",
        "plt.plot([0, 1], [0, 1], 'k--')\n",
        "plt.xlabel(\"False Positive Rate\")\n",
        "plt.ylabel(\"True Positive Rate (Recall)\")\n",
        "plt.show()\n",
        "roc_auc_score(y_test, y_proba_svc)\n"
      ],
      "metadata": {
        "colab": {
          "base_uri": "https://localhost:8080/",
          "height": 511
        },
        "id": "9fbhejIr2I6-",
        "outputId": "ddf27431-8edd-43ea-ef9e-7ff7890b71c7"
      },
      "execution_count": 445,
      "outputs": [
        {
          "output_type": "stream",
          "name": "stdout",
          "text": [
            "[[1893  349]\n",
            " [ 247  198]]\n",
            "              precision    recall  f1-score   support\n",
            "\n",
            "         0.0       0.88      0.84      0.86      2242\n",
            "         1.0       0.36      0.44      0.40       445\n",
            "\n",
            "    accuracy                           0.78      2687\n",
            "   macro avg       0.62      0.64      0.63      2687\n",
            "weighted avg       0.80      0.78      0.79      2687\n",
            "\n",
            "Misclassified: 596\n"
          ]
        },
        {
          "output_type": "display_data",
          "data": {
            "text/plain": [
              "<Figure size 432x288 with 1 Axes>"
            ],
            "image/png": "[encoded data removed]"
          },
          "metadata": {
            "needs_background": "light"
          }
        },
        {
          "output_type": "execute_result",
          "data": {
            "text/plain": [
              "0.6670589060730286"
            ]
          },
          "metadata": {},
          "execution_count": 445
        }
      ]
    },
    {
      "cell_type": "markdown",
      "source": [
        "#9. Decision Tree"
      ],
      "metadata": {
        "id": "zREVdbZ83ads"
      }
    },
    {
      "cell_type": "markdown",
      "source": [
        "##1. Build a decision tree model using sklearns DecisionTreeClassifier. Use the unbalanced training set, entropy as the criterion. Try with different max_depth (or use grid search). After building model, test it and print the confusion matrix and classification report. Also, plot ROC curve and show the AUC of ROC, and the count of the number of misclassification. Show the decision tree. (you can simply import tree from sklearn and call tree.plot_tree with your model and the call plt.show. At the beginning of this process, use plt.figure to change the figsize)"
      ],
      "metadata": {
        "id": "Bb0kp3463cb8"
      }
    },
    {
      "cell_type": "code",
      "source": [
        "from sklearn.tree import DecisionTreeClassifier\n",
        "import sklearn.tree as tree\n",
        "\n",
        "tree_clfu = DecisionTreeClassifier(criterion='entropy', max_depth=4)\n",
        "tree_clfu.fit(X_train_ub, y_train_ub)\n",
        "y_pred_treeu = tree_clfu.predict(X_test)\n",
        "y_proba_treeu = tree_clfu.predict_proba(X_test)[:,1]\n",
        "count_misclassified_u = (y_test != y_pred_treeu).sum()\n",
        "\n",
        "plt.figure(figsize = (20,20))\n",
        "tree.plot_tree(tree_clfu)\n",
        "plt.show()\n",
        "\n",
        "print(classification_report(y_test, y_pred_treeu))\n",
        "print(confusion_matrix(y_test, y_pred_treeu))\n",
        "print(\"Misclassified: \" + str(count_misclassified_u))\n",
        "\n",
        "fpr, tpr, thresholds = roc_curve(y_test, y_pred_treeu)\n",
        "\n",
        "plt.plot(fpr, tpr, linewidth=2)\n",
        "plt.plot([0, 1], [0, 1], 'k--')\n",
        "plt.xlabel(\"False Positive Rate\")\n",
        "plt.ylabel(\"True Positive Rate (Recall)\")\n",
        "plt.show()\n",
        "roc_auc_score(y_test, y_proba_treeu)"
      ],
      "metadata": {
        "colab": {
          "base_uri": "https://localhost:8080/",
          "height": 1000
        },
        "id": "36XogX534BE9",
        "outputId": "a8833b35-85d4-49e2-c154-13cd19238b08"
      },
      "execution_count": 447,
      "outputs": [
        {
          "output_type": "display_data",
          "data": {
            "text/plain": [
              "<Figure size 1440x1440 with 1 Axes>"
            ],
            "image/png": "[encoded data removed]"
          },
          "metadata": {
            "needs_background": "light"
          }
        },
        {
          "output_type": "stream",
          "name": "stdout",
          "text": [
            "              precision    recall  f1-score   support\n",
            "\n",
            "         0.0       0.90      0.93      0.92      2242\n",
            "         1.0       0.58      0.50      0.54       445\n",
            "\n",
            "    accuracy                           0.86      2687\n",
            "   macro avg       0.74      0.71      0.73      2687\n",
            "weighted avg       0.85      0.86      0.85      2687\n",
            "\n",
            "[[2080  162]\n",
            " [ 223  222]]\n",
            "Misclassified: 385\n"
          ]
        },
        {
          "output_type": "display_data",
          "data": {
            "text/plain": [
              "<Figure size 432x288 with 1 Axes>"
            ],
            "image/png": "[encoded data removed]"
          },
          "metadata": {
            "needs_background": "light"
          }
        },
        {
          "output_type": "execute_result",
          "data": {
            "text/plain": [
              "0.7456740069560686"
            ]
          },
          "metadata": {},
          "execution_count": 447
        }
      ]
    },
    {
      "cell_type": "markdown",
      "source": [
        "##2. Perform the same tasks as 9.1 with the balanced training set"
      ],
      "metadata": {
        "id": "2I6VF0c76Rl6"
      }
    },
    {
      "cell_type": "code",
      "source": [
        "tree_clf = DecisionTreeClassifier(criterion='entropy', max_depth=4)\n",
        "tree_clf.fit(X_train, y_train)\n",
        "y_pred_tree = tree_clf.predict(X_test)\n",
        "y_proba_tree = tree_clf.predict_proba(X_test)[:,1]\n",
        "count_misclassified_t = (y_test != y_pred_tree).sum()\n",
        "\n",
        "plt.figure(figsize = (20,20))\n",
        "tree.plot_tree(tree_clf)\n",
        "plt.show()\n",
        "\n",
        "print(classification_report(y_test, y_pred_tree))\n",
        "print(confusion_matrix(y_test, y_pred_tree))\n",
        "print(\"Misclassified: \" + str(count_misclassified_t))\n",
        "\n",
        "fpr, tpr, thresholds = roc_curve(y_test, y_pred_tree)\n",
        "\n",
        "plt.plot(fpr, tpr, linewidth=2)\n",
        "plt.plot([0, 1], [0, 1], 'k--')\n",
        "plt.xlabel(\"False Positive Rate\")\n",
        "plt.ylabel(\"True Positive Rate (Recall)\")\n",
        "plt.show()\n",
        "roc_auc_score(y_test, y_proba_tree)"
      ],
      "metadata": {
        "colab": {
          "base_uri": "https://localhost:8080/",
          "height": 1000
        },
        "id": "uxZQMTuO6j7I",
        "outputId": "f77cc207-b33c-4c1d-fc3b-eb428ed5aa14"
      },
      "execution_count": 448,
      "outputs": [
        {
          "output_type": "display_data",
          "data": {
            "text/plain": [
              "<Figure size 1440x1440 with 1 Axes>"
            ],
            "image/png": "[encoded data removed]"
          },
          "metadata": {
            "needs_background": "light"
          }
        },
        {
          "output_type": "stream",
          "name": "stdout",
          "text": [
            "              precision    recall  f1-score   support\n",
            "\n",
            "         0.0       0.91      0.93      0.92      2242\n",
            "         1.0       0.58      0.51      0.54       445\n",
            "\n",
            "    accuracy                           0.86      2687\n",
            "   macro avg       0.74      0.72      0.73      2687\n",
            "weighted avg       0.85      0.86      0.85      2687\n",
            "\n",
            "[[2079  163]\n",
            " [ 218  227]]\n",
            "Misclassified: 381\n"
          ]
        },
        {
          "output_type": "display_data",
          "data": {
            "text/plain": [
              "<Figure size 432x288 with 1 Axes>"
            ],
            "image/png": "[encoded data removed]"
          },
          "metadata": {
            "needs_background": "light"
          }
        },
        {
          "output_type": "execute_result",
          "data": {
            "text/plain": [
              "0.7445539195541702"
            ]
          },
          "metadata": {},
          "execution_count": 448
        }
      ]
    },
    {
      "cell_type": "markdown",
      "source": [
        "##3. Discuss any difference and also discuss part of the tree of 9.2"
      ],
      "metadata": {
        "id": "_QVG_YGJ6x0U"
      }
    },
    {
      "cell_type": "markdown",
      "source": [
        "###The unbalanced and balanced sets performed very closely."
      ],
      "metadata": {
        "id": "0PpXHiQU6zbG"
      }
    },
    {
      "cell_type": "markdown",
      "source": [
        "#10. Random Forest"
      ],
      "metadata": {
        "id": "cxWcqd4w60jK"
      }
    },
    {
      "cell_type": "markdown",
      "source": [
        "##1. Use grid search to tune the max_depth, min_samples_leaf, and n_estimators"
      ],
      "metadata": {
        "id": "IyB8HWxL62oQ"
      }
    },
    {
      "cell_type": "code",
      "source": [
        "from sklearn.ensemble import RandomForestClassifier\n",
        "\n",
        "params = {\n",
        "    'max_depth': [2,3,5],\n",
        "    'min_samples_leaf': [5,10,20,50],\n",
        "    'n_estimators': [10,25,30]\n",
        "}\n",
        "\n",
        "rf = RandomForestClassifier(random_state=42, n_jobs=-1)\n",
        "rf_gs = GridSearchCV(estimator=rf, param_grid=params, cv=3, n_jobs=-1, verbose=1, scoring='accuracy')\n",
        "\n",
        "rf_gs.fit(X_train, y_train)\n"
      ],
      "metadata": {
        "colab": {
          "base_uri": "https://localhost:8080/",
          "height": 0
        },
        "id": "8sYErLO97Hb4",
        "outputId": "a68d4a4f-7277-4598-d0ed-668fbb03a3a6"
      },
      "execution_count": 449,
      "outputs": [
        {
          "output_type": "stream",
          "name": "stdout",
          "text": [
            "Fitting 3 folds for each of 36 candidates, totalling 108 fits\n"
          ]
        },
        {
          "output_type": "execute_result",
          "data": {
            "text/plain": [
              "GridSearchCV(cv=3, estimator=RandomForestClassifier(n_jobs=-1, random_state=42),\n",
              "             n_jobs=-1,\n",
              "             param_grid={'max_depth': [2, 3, 5],\n",
              "                         'min_samples_leaf': [5, 10, 20, 50],\n",
              "                         'n_estimators': [10, 25, 30]},\n",
              "             scoring='accuracy', verbose=1)"
            ]
          },
          "metadata": {},
          "execution_count": 449
        }
      ]
    },
    {
      "cell_type": "markdown",
      "source": [
        "##2. Print the best estimator"
      ],
      "metadata": {
        "id": "m8uTe4yu74Fx"
      }
    },
    {
      "cell_type": "code",
      "source": [
        "#rf_best = rf_gs.set_params(**rf_gs.best_params_)\n",
        "rf_best = rf_gs.best_estimator_\n",
        "plt.figure(figsize=(80,40))\n",
        "#tree.plot_tree(rf_best)\n",
        "#tree.plot_tree(rf_best)\n",
        "plt.show()"
      ],
      "metadata": {
        "colab": {
          "base_uri": "https://localhost:8080/",
          "height": 35
        },
        "id": "w5VoCkiI7-9J",
        "outputId": "f528f6e7-c4f9-49f0-8386-2ac3eba443cd"
      },
      "execution_count": 464,
      "outputs": [
        {
          "output_type": "display_data",
          "data": {
            "text/plain": [
              "<Figure size 5760x2880 with 0 Axes>"
            ]
          },
          "metadata": {}
        }
      ]
    },
    {
      "cell_type": "markdown",
      "source": [
        "##3. Train the model. After building the model, test it and print the confusion matrix and classification report. Also, plot ROC curve and show the AUC of ROC, and the count of the number of misclassification."
      ],
      "metadata": {
        "id": "f20t68Ic8Fup"
      }
    },
    {
      "cell_type": "code",
      "source": [
        "y_pred_rf = rf_gs.predict(X_test)\n",
        "y_proba_rf = rf_gs.predict_proba(X_test)[:,1]\n",
        "count_misclassified_rf = (y_test != y_pred_rf).sum()\n",
        "\n",
        "print(classification_report(y_test, y_pred_rf))\n",
        "print(confusion_matrix(y_test, y_pred_rf))\n",
        "print(\"Misclassified: \" + str(count_misclassified_rf))\n",
        "\n",
        "fpr, tpr, thresholds = roc_curve(y_test, y_pred_rf)\n",
        "\n",
        "plt.plot(fpr, tpr, linewidth=2)\n",
        "plt.plot([0, 1], [0, 1], 'k--')\n",
        "plt.xlabel(\"False Positive Rate\")\n",
        "plt.ylabel(\"True Positive Rate (Recall)\")\n",
        "plt.show()\n",
        "roc_auc_score(y_test, y_proba_rf)"
      ],
      "metadata": {
        "colab": {
          "base_uri": "https://localhost:8080/",
          "height": 511
        },
        "id": "OfUBgvkh8InY",
        "outputId": "c5d85bfe-9e4e-4515-fc56-0d860c91613a"
      },
      "execution_count": 465,
      "outputs": [
        {
          "output_type": "stream",
          "name": "stdout",
          "text": [
            "              precision    recall  f1-score   support\n",
            "\n",
            "         0.0       0.91      0.92      0.91      2242\n",
            "         1.0       0.56      0.54      0.55       445\n",
            "\n",
            "    accuracy                           0.85      2687\n",
            "   macro avg       0.74      0.73      0.73      2687\n",
            "weighted avg       0.85      0.85      0.85      2687\n",
            "\n",
            "[[2055  187]\n",
            " [ 203  242]]\n",
            "Misclassified: 390\n"
          ]
        },
        {
          "output_type": "display_data",
          "data": {
            "text/plain": [
              "<Figure size 432x288 with 1 Axes>"
            ],
            "image/png": "[encoded data removed]"
          },
          "metadata": {
            "needs_background": "light"
          }
        },
        {
          "output_type": "execute_result",
          "data": {
            "text/plain": [
              "0.758006495003458"
            ]
          },
          "metadata": {},
          "execution_count": 465
        }
      ]
    },
    {
      "cell_type": "markdown",
      "source": [
        "#11. Boosting Algorithms"
      ],
      "metadata": {
        "id": "qQvERC65-75b"
      }
    },
    {
      "cell_type": "markdown",
      "source": [
        "##1. Train an AdaBoostClassifier model with some manual/grid search-based parameters and then test it and then print the confusion matrix and classification report. Also, plot ROC curve and show the AUC of ROC, and the count of the number of misclassification."
      ],
      "metadata": {
        "id": "tr6ZHhP5-_Q0"
      }
    },
    {
      "cell_type": "code",
      "source": [
        "from sklearn.ensemble import AdaBoostClassifier\n",
        "dt = DecisionTreeClassifier()\n",
        "clf = AdaBoostClassifier(n_estimators=6, base_estimator=dt, learning_rate=1)\n",
        "\n",
        "clf.fit(X_train, y_train)\n",
        "y_pred_ada = clf.predict(X_test)\n",
        "y_proba_ada = clf.predict_proba(X_test)[:,1]\n",
        "count_misclassified_ada = (y_test != y_pred_ada).sum()\n",
        "\n",
        "print(classification_report(y_test, y_pred_ada))\n",
        "print(confusion_matrix(y_test, y_pred_ada))\n",
        "print(\"Misclassified: \" + str(count_misclassified_ada))\n",
        "\n",
        "fpr, tpr, thresholds = roc_curve(y_test, y_pred_ada)\n",
        "\n",
        "plt.plot(fpr, tpr, linewidth=2)\n",
        "plt.plot([0, 1], [0, 1], 'k--')\n",
        "plt.xlabel(\"False Positive Rate\")\n",
        "plt.ylabel(\"True Positive Rate (Recall)\")\n",
        "plt.show()\n",
        "roc_auc_score(y_test, y_proba_ada)"
      ],
      "metadata": {
        "colab": {
          "base_uri": "https://localhost:8080/",
          "height": 511
        },
        "id": "kJBGWqlj_CuF",
        "outputId": "31d9d9cd-1b35-4923-d58b-e61004d4fe9b"
      },
      "execution_count": 476,
      "outputs": [
        {
          "output_type": "stream",
          "name": "stdout",
          "text": [
            "              precision    recall  f1-score   support\n",
            "\n",
            "         0.0       0.87      0.83      0.85      2242\n",
            "         1.0       0.31      0.39      0.35       445\n",
            "\n",
            "    accuracy                           0.76      2687\n",
            "   macro avg       0.59      0.61      0.60      2687\n",
            "weighted avg       0.78      0.76      0.77      2687\n",
            "\n",
            "[[1858  384]\n",
            " [ 270  175]]\n",
            "Misclassified: 654\n"
          ]
        },
        {
          "output_type": "display_data",
          "data": {
            "text/plain": [
              "<Figure size 432x288 with 1 Axes>"
            ],
            "image/png": "[encoded data removed]"
          },
          "metadata": {
            "needs_background": "light"
          }
        },
        {
          "output_type": "execute_result",
          "data": {
            "text/plain": [
              "0.6109913901111569"
            ]
          },
          "metadata": {},
          "execution_count": 476
        }
      ]
    },
    {
      "cell_type": "markdown",
      "source": [
        "##2. Do the same for GradientBoosting Classifier"
      ],
      "metadata": {
        "id": "RAV4ZH7XAMIa"
      }
    },
    {
      "cell_type": "code",
      "source": [
        "from sklearn.ensemble import GradientBoostingClassifier\n",
        "\n",
        "gclf = GradientBoostingClassifier(n_estimators=7, learning_rate=1, max_depth=4)\n",
        "gclf.fit(X_train, y_train)\n",
        "y_pred_gb = gclf.predict(X_test)\n",
        "y_proba_gb = gclf.predict_proba(X_test)[:,1]\n",
        "count_misclassified_gb = (y_test != y_pred_gb).sum()\n",
        "\n",
        "print(classification_report(y_test, y_pred_gb))\n",
        "print(confusion_matrix(y_test, y_pred_gb))\n",
        "print(\"Misclassified: \" + str(count_misclassified_gb))\n",
        "\n",
        "fpr, tpr, thresholds = roc_curve(y_test, y_pred_gb)\n",
        "\n",
        "plt.plot(fpr, tpr, linewidth=2)\n",
        "plt.plot([0, 1], [0, 1], 'k--')\n",
        "plt.xlabel(\"False Positive Rate\")\n",
        "plt.ylabel(\"True Positive Rate (Recall)\")\n",
        "plt.show()\n",
        "roc_auc_score(y_test, y_proba_gb)"
      ],
      "metadata": {
        "colab": {
          "base_uri": "https://localhost:8080/",
          "height": 511
        },
        "id": "v7zDUgl9AQ-y",
        "outputId": "18b54937-64f5-48e2-90e5-5b35d7e99e3b"
      },
      "execution_count": 470,
      "outputs": [
        {
          "output_type": "stream",
          "name": "stdout",
          "text": [
            "              precision    recall  f1-score   support\n",
            "\n",
            "         0.0       0.90      0.92      0.91      2242\n",
            "         1.0       0.54      0.49      0.51       445\n",
            "\n",
            "    accuracy                           0.85      2687\n",
            "   macro avg       0.72      0.70      0.71      2687\n",
            "weighted avg       0.84      0.85      0.84      2687\n",
            "\n",
            "[[2059  183]\n",
            " [ 229  216]]\n",
            "Misclassified: 412\n"
          ]
        },
        {
          "output_type": "display_data",
          "data": {
            "text/plain": [
              "<Figure size 432x288 with 1 Axes>"
            ],
            "image/png": "[encoded data removed]"
          },
          "metadata": {
            "needs_background": "light"
          }
        },
        {
          "output_type": "execute_result",
          "data": {
            "text/plain": [
              "0.7291368060219107"
            ]
          },
          "metadata": {},
          "execution_count": 470
        }
      ]
    },
    {
      "cell_type": "markdown",
      "source": [
        "#12. Finally, briefly discuss your finding such as which model could be most suitable for this given scenario and what could be your future work based on this experiment."
      ],
      "metadata": {
        "id": "m7m4pcH4U9S9"
      }
    },
    {
      "cell_type": "markdown",
      "source": [
        "### The best model would either be the Decision Tree or the KNN model."
      ],
      "metadata": {
        "id": "Vy-K9NDtU_l1"
      }
    }
  ]
}